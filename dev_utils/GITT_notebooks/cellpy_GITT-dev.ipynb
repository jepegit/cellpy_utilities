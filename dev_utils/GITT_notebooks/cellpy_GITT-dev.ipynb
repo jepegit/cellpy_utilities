{
 "cells": [
  {
   "cell_type": "markdown",
   "metadata": {},
   "source": [
    "# Galvanostatic Intermitten Titration Technique (GITT)"
   ]
  },
  {
   "cell_type": "code",
   "execution_count": null,
   "metadata": {},
   "outputs": [],
   "source": [
    "%load_ext autoreload\n",
    "%autoreload 2"
   ]
  },
  {
   "cell_type": "code",
   "execution_count": null,
   "metadata": {},
   "outputs": [],
   "source": [
    "import os\n",
    "from pathlib import Path\n",
    "from pprint import pprint\n",
    "\n",
    "import numpy as np\n",
    "import pandas as pd\n",
    "import matplotlib.pyplot as plt\n",
    "\n",
    "import cellpy\n",
    "from cellpy import prms\n",
    "from cellpy import prmreader\n",
    "from cellpy import cellreader\n",
    "from cellpy.utils import ocv_rlx\n",
    "import holoviews as hv\n",
    "\n",
    "%matplotlib inline\n",
    "hv.extension(\"bokeh\")"
   ]
  },
  {
   "cell_type": "code",
   "execution_count": null,
   "metadata": {
    "slideshow": {
     "slide_type": "-"
    }
   },
   "outputs": [],
   "source": [
    "######################################################################\n",
    "##                                                                  ##\n",
    "##                       development                                ##\n",
    "##                                                                  ##\n",
    "######################################################################\n",
    "\n",
    "if os.name == \"nt\":\n",
    "    # Use these when working on my work PC:\n",
    "    raw_data_path = r\"C:\\Scripting\\MyFiles\\development_cellpy\\dev_data\\gitt\"\n",
    "    out_data_path = r\"C:\\Scripting\\MyFiles\\development_cellpy\\out\"\n",
    "else:\n",
    "    # Use these when working on my MacBook:\n",
    "    raw_data_path = \"/Users/jepe/scripting/cellpy/dev_data/gitt\"\n",
    "    out_data_path = \"/Users/jepe/scripting/cellpy/dev_data/out\"\n",
    "\n",
    "raw_data_path = Path(raw_data_path)\n",
    "out_data_path = Path(out_data_path)\n",
    "\n",
    "print(\" SETTING SOME PRMS \".center(80, \"=\"))\n",
    "prms.Paths.db_filename = \"cellpy_db.xlsx\"\n",
    "prms.Paths.cellpydatadir = out_data_path\n",
    "prms.Paths.outdatadir = out_data_path\n",
    "prms.Paths.rawdatadir = raw_data_path\n",
    "prms.Paths.db_path = out_data_path\n",
    "prms.Paths.filelogdir = out_data_path\n",
    "pprint(prms.Paths)\n",
    "\n",
    "pd.set_option(\"display.max_rows\", 30)\n",
    "pd.set_option(\"display.max_columns\", 500)\n",
    "pd.set_option(\"display.width\", 1000)"
   ]
  },
  {
   "cell_type": "code",
   "execution_count": null,
   "metadata": {},
   "outputs": [],
   "source": [
    "fn = \"20190403_cen59_04_rateGITT_01\"\n",
    "mass = 0.3  # mg\n",
    "resn = fn + \".res\"\n",
    "cellpyn = fn + \".h5\"\n",
    "filename = prms.Paths.rawdatadir / resn\n",
    "cellpyname = prms.Paths.cellpydatadir / cellpyn"
   ]
  },
  {
   "cell_type": "code",
   "execution_count": null,
   "metadata": {},
   "outputs": [],
   "source": [
    "cell = cellreader.get(filename, mass=mass, logging_mode=\"INFO\")\n",
    "cell.save(cellpyname)\n",
    "cell = cellreader.get(cellpyname)"
   ]
  },
  {
   "cell_type": "code",
   "execution_count": null,
   "metadata": {},
   "outputs": [],
   "source": [
    "# print(cell)"
   ]
  },
  {
   "cell_type": "markdown",
   "metadata": {},
   "source": [
    "## Some functions"
   ]
  },
  {
   "cell_type": "markdown",
   "metadata": {},
   "source": [
    "### Custom step-table for GITT\n",
    "Need to allow for several ocv steps with same step number in the same cycle. This is not calculated by default and we therefore have to (re-) run the `make_step_table` method selecting\n",
    "`all_steps=True`.\n"
   ]
  },
  {
   "cell_type": "code",
   "execution_count": null,
   "metadata": {},
   "outputs": [],
   "source": [
    "steptable = cell.make_step_table(all_steps=True).cell.steps"
   ]
  },
  {
   "cell_type": "markdown",
   "metadata": {},
   "source": [
    "#### Checking"
   ]
  },
  {
   "cell_type": "code",
   "execution_count": null,
   "metadata": {},
   "outputs": [],
   "source": [
    "steptable.loc[steptable.cycle == 5, [\"index\", \"step\", \"ustep\", \"type\"]].head(4)"
   ]
  },
  {
   "cell_type": "markdown",
   "metadata": {},
   "source": [
    "## Initial exploration"
   ]
  },
  {
   "cell_type": "markdown",
   "metadata": {},
   "source": [
    "### Overview of the full test"
   ]
  },
  {
   "cell_type": "markdown",
   "metadata": {},
   "source": [
    "#### Curve with labels"
   ]
  },
  {
   "cell_type": "code",
   "execution_count": null,
   "metadata": {},
   "outputs": [],
   "source": [
    "# retrieving the voltage vs time curve\n",
    "t, v = cell.get_timestamp(), cell.get_voltage()\n",
    "all_cycs = hv.Curve(\n",
    "    (t, v), (\"t\", \"time (sec)\"), (\"v\", \"voltage (v)\"), label=\"voltage-time\"\n",
    ").opts()"
   ]
  },
  {
   "cell_type": "code",
   "execution_count": null,
   "metadata": {},
   "outputs": [],
   "source": [
    "# creating labels\n",
    "cycle_label_df = steptable.drop_duplicates(\"cycle\")\n",
    "cycle_label_df[\"label\"] = cycle_label_df.cycle.apply(str)\n",
    "cycle_labels = hv.Labels(\n",
    "    (cycle_label_df.test_time_first, cycle_label_df.voltage_first, cycle_label_df.label)\n",
    ").opts(\n",
    "    text_align=\"left\",\n",
    ")"
   ]
  },
  {
   "cell_type": "markdown",
   "metadata": {},
   "source": [
    "#### Holomap (with selector)"
   ]
  },
  {
   "cell_type": "code",
   "execution_count": null,
   "metadata": {},
   "outputs": [],
   "source": [
    "# creating a dictionary of curves (for each cycle)\n",
    "cycs_dict = dict()\n",
    "for c in cell.get_cycle_numbers():\n",
    "    t = cell.get_timestamp(cycle=c)\n",
    "    t = t - np.amin(t.values)  # setting first point to t=0\n",
    "    curve = hv.Curve(\n",
    "        (t, cell.get_voltage(cycle=c)),\n",
    "        (\"time\", \"time (seconds)\"),\n",
    "        (\"voltage\", \"voltage (v vs. Li/Li+)\"),\n",
    "    )\n",
    "    cycs_dict[c] = curve"
   ]
  },
  {
   "cell_type": "code",
   "execution_count": null,
   "metadata": {},
   "outputs": [],
   "source": [
    "# creating a holomap object\n",
    "hmap = hv.HoloMap(cycs_dict, \"cycle\")"
   ]
  },
  {
   "cell_type": "markdown",
   "metadata": {},
   "source": [
    "### Curve and HoloMap"
   ]
  },
  {
   "cell_type": "code",
   "execution_count": null,
   "metadata": {},
   "outputs": [],
   "source": [
    "%%opts Curve [width=800, xformatter=\"%6.0f\" tools=[\"hover\"]]\n",
    "(all_cycs * cycle_labels + hmap).cols(1)"
   ]
  },
  {
   "cell_type": "markdown",
   "metadata": {},
   "source": [
    "## Processing a cycle"
   ]
  },
  {
   "cell_type": "markdown",
   "metadata": {},
   "source": [
    "As we have seen, only some of the cycles contains the GITT curves. We need to select one of those. Lets start with cycle 5"
   ]
  },
  {
   "cell_type": "code",
   "execution_count": null,
   "metadata": {},
   "outputs": [],
   "source": [
    "dfdata = cell.cell.raw"
   ]
  },
  {
   "cell_type": "code",
   "execution_count": null,
   "metadata": {},
   "outputs": [],
   "source": [
    "cyc5 = dfdata.loc[dfdata.Cycle_Index == 5, :]\n",
    "gt5 = steptable.loc[steptable.cycle == 5, :]"
   ]
  },
  {
   "cell_type": "code",
   "execution_count": null,
   "metadata": {},
   "outputs": [],
   "source": [
    "cyc5curve = hv.Curve(cyc5, (\"Test_Time\", \"time\"), (\"Voltage\", \"voltage\")).opts(\n",
    "    color=\"grey\", alpha=0.5\n",
    ")\n",
    "cyc5points = hv.Scatter(cyc5, (\"Test_Time\", \"time\"), (\"Voltage\", \"voltage\")).opts(\n",
    "    size=5, fill_alpha=0.2\n",
    ")"
   ]
  },
  {
   "cell_type": "code",
   "execution_count": null,
   "metadata": {},
   "outputs": [],
   "source": [
    "slabels5 = hv.Labels(\n",
    "    (gt5.test_time_first, gt5.voltage_first, gt5.ustep.apply(str))\n",
    ").opts(text_align=\"left\")\n",
    "spikes5 = hv.Spikes(gt5.test_time_first).opts(\n",
    "    line_alpha=0.3,\n",
    "    spike_length=1,\n",
    ")"
   ]
  },
  {
   "cell_type": "code",
   "execution_count": null,
   "metadata": {},
   "outputs": [],
   "source": [
    "%%opts Curve [width=1000, height=600, tools=['hover']]\n",
    "print(\"the cycle starts where the label is\")\n",
    "cyc5curve * cyc5points * slabels5 * spikes5"
   ]
  },
  {
   "cell_type": "markdown",
   "metadata": {},
   "source": [
    "### Some calculations are needed..."
   ]
  },
  {
   "cell_type": "code",
   "execution_count": null,
   "metadata": {},
   "outputs": [],
   "source": [
    "gt5.head()"
   ]
  },
  {
   "cell_type": "code",
   "execution_count": null,
   "metadata": {},
   "outputs": [],
   "source": [
    "# approximating electrode-electrolyte contact area\n",
    "\n",
    "diameter_si = 200.0 * 10e-7  # cm\n",
    "rho_si = 2.32  # g/cm3\n",
    "_mass = mass / 1000\n",
    "area = (2 * 3 / diameter_si) * (_mass / rho_si)  # CHECK THIS\n",
    "\n",
    "print(f\"Diameter: {diameter_si:8.6f} cm\")\n",
    "print(f\"Mass:     {mass:8.6f} mg\")\n",
    "print(f\"Calculated contact area (ideal case): {area:8.6f} cm2\")\n",
    "\n",
    "# For reference (v, a, m is pr Si particle)\n",
    "v = (4 / 3) * np.pi * ((diameter_si / 2) ** 3)\n",
    "m = rho_si * v\n",
    "n = mass / m\n",
    "a = 4 * np.pi * (diameter_si / 2) ** 2"
   ]
  },
  {
   "cell_type": "code",
   "execution_count": null,
   "metadata": {},
   "outputs": [],
   "source": [
    "# estimate some values\n",
    "# electrolyte-electrode area (cm2)\n",
    "radius = 0.75  # cm\n",
    "roughness = 1.0  # a dimensionless parameter ranging from 1 to a lot.\n",
    "print(\"Should probably use BET to find out this?\")\n",
    "area = (1 * roughness) * np.pi * (radius ** 2)\n",
    "print(f\"S: {area:6.2f} cm2\")\n",
    "print(\n",
    "    \"You should compare this number to what was calculated in the cell above (the theoretical surface area for the set of same sized nanoparticles)\"\n",
    ")\n",
    "# number of moles\n",
    "# 1 mol Si weighs 28.0855 g\n",
    "_mass = mass / 1000  # convert mass from mg to g\n",
    "number_of_moles = _mass / 28.0855\n",
    "print(f\"n_m: {number_of_moles:8.6f} mol\")\n",
    "\n",
    "# molar volume\n",
    "# The 2006 CODATA recommended value for the molar volume of silicon is 12.0588349(11)×10−6 m3/mol, with a relative standard uncertainty of 9.1×10−8\n",
    "molar_volume = 12.06  # cm3/mol\n",
    "print(f\"V_m: {molar_volume:6.2f} cm3/mol\")"
   ]
  },
  {
   "cell_type": "code",
   "execution_count": null,
   "metadata": {},
   "outputs": [],
   "source": []
  },
  {
   "cell_type": "code",
   "execution_count": null,
   "metadata": {},
   "outputs": [],
   "source": []
  },
  {
   "cell_type": "markdown",
   "metadata": {},
   "source": [
    "The following equation to estimate the Diffusion Coefficients appears in a paper:\n",
    "\n",
    "\\begin{equation}\n",
    "D = \\frac{4}{\\pi\\cdot\\tau} \\cdot ( \\frac {m \\cdot V_m}{M \\cdot S})^2 \\cdot ( \\frac {\\Delta E_s}{ \\Delta E_t})^2 \\: for \\: \\tau << L^2 / D\n",
    "\\end{equation}\n",
    "\n",
    "$ \\Delta E_s $  = change of steady state voltage at the end of two sequential open-circuit relaxation periods\n",
    "<br>\n",
    "$ \\Delta E_t $ = total change in the cell voltage $ E $ during the current pulse, neglecting the IR drop\n",
    "<br>\n",
    "$ V_s $ = mole volume of active material (cm^3/mol) (molar mass divided by the materials density)\n",
    "<br>\n",
    "$ M $ = ?\n",
    "<br>\n",
    "$ S $ = Surface area of the electrode (cm^2)\n",
    "<br>\n",
    "$ \\tau $ = time of the current pulse\n",
    "<br>\n",
    "$ L $ = diffustion length  \n",
    "\n",
    "\n",
    "Andrzej P. Nowak *et al.*, Procedia Engineering **98** (2014) 8"
   ]
  },
  {
   "cell_type": "code",
   "execution_count": null,
   "metadata": {},
   "outputs": [],
   "source": [
    "# Simple calculations by reading values from the graph\n",
    "m = mass / 1000\n",
    "molar_mass = 28.0855  # g/mol\n",
    "density = 2.32  # g/cm3\n",
    "Vm = molar_mass / density  # cm3/mol\n",
    "S = 1.7  # cm2\n",
    "t = 2880  # s\n",
    "M = 1\n",
    "Es1 = 0.378\n",
    "Es2 = 0.344\n",
    "DEs = Es2 - Es1\n",
    "\n",
    "Et11 = 0.378  # starting the current pulse\n",
    "Et12 = 0.309  # after (possible) IR drop\n",
    "Et2 = 0.28\n",
    "DEt1 = Et2 - Et11\n",
    "DEt2 = Et2 - Et12\n",
    "\n",
    "p1 = (4 / (np.pi * t)) * (m * Vm / (M * S)) ** 2\n",
    "p21 = (DEs / DEt1) ** 2\n",
    "p22 = (DEs / DEt2) ** 2\n",
    "\n",
    "D1 = p1 * p21\n",
    "D2 = p1 * p22\n",
    "print(f\"Assuming no IR drop: {D1}\\nWith IR drop: {D2}\")\n",
    "print(f\"A: {p1}\")\n",
    "print(f\"DEt: {DEt1}\")\n",
    "print(f\"DEs: {DEs}\")"
   ]
  },
  {
   "cell_type": "markdown",
   "metadata": {},
   "source": [
    "Comparing another reference (below) I assume that M is 1/number_of_moles ?"
   ]
  },
  {
   "cell_type": "code",
   "execution_count": null,
   "metadata": {},
   "outputs": [],
   "source": []
  },
  {
   "cell_type": "markdown",
   "metadata": {},
   "source": [
    "### A function to automatically extract diffusion constant(s) from the steptable"
   ]
  },
  {
   "cell_type": "markdown",
   "metadata": {},
   "source": [
    "This function is based on the Metrohm Autolab document. It will need some adjustments."
   ]
  },
  {
   "cell_type": "code",
   "execution_count": null,
   "metadata": {},
   "outputs": [],
   "source": [
    "def calc_A(n_m=0.0011, V_m=12.06, S=1.77):\n",
    "    \"\"\"\n",
    "    D = 4 /((pi)(tau)) * (n_m * V_m / S)^2 * (DEs / DEt)^2 = A /tau * (DEs / DEt)^2\n",
    "    A = 4 /(pi) * (n_m * V_m / S)^2\n",
    "\n",
    "    tau: duration of the current pulse (s)\n",
    "    n_m: number of moles (mol)\n",
    "    V_m: molar volume of electrode (cm3/mol)\n",
    "    S: electrode-electrolyte contact area (cm2)\n",
    "    DEs: steady state voltage change due to the current pulse (V)\n",
    "    DEt: voltage change during the constant current pulse (eliminating the iR drop) (V)\n",
    "\n",
    "    Ref.: application note from Metrohm Autolab b.v. pdf (BAT03)\n",
    "    \"\"\"\n",
    "    A = (4 / np.pi) * (n_m * V_m / S) ** 2\n",
    "    return A"
   ]
  },
  {
   "cell_type": "code",
   "execution_count": null,
   "metadata": {},
   "outputs": [],
   "source": [
    "def auto_calc_D(\n",
    "    steptable, cycle_number, A=1.0, tau=None, ustep_first=None, ustep_last=None\n",
    "):\n",
    "    \"\"\"Function for extracting diffusion constant(s) and inserting into steptable.\n",
    "\n",
    "    D = 4 /((pi)(tau)) * (n_m * V_m / S)^2 * (DEs / DEt)^2 = A /tau * (DEs / DEt)^2\n",
    "    A = 4 /(pi) * (n_m * V_m / S)^2\n",
    "\n",
    "    OBS! not corrected for IR drop yet.\n",
    "    \"\"\"\n",
    "    st = None\n",
    "    if cycle_number is None:\n",
    "        # This function is intended to only work on a pr. cycle basis\n",
    "        # to prevent users from \"poluting\" the steptable for \"non_GITT\" experiments.\n",
    "        print(\"no cycle number given\")\n",
    "        return\n",
    "\n",
    "    st = steptable[steptable.cycle == cycle_number]\n",
    "    st = st[st.type.isin([\"charge\", \"discharge\", \"ocvrlx_up\", \"ocvrlx_down\"])]\n",
    "    if st.empty:\n",
    "        print(\"the given cycle is not found\")\n",
    "        return\n",
    "\n",
    "    if ustep_first is not None:\n",
    "        st = st[st.ustep >= ustep_first]\n",
    "    if ustep_last is not None:\n",
    "        st = st[st.ustep <= ustep_last]\n",
    "\n",
    "    # used for finding DE\n",
    "    n3 = st[\"voltage_last\"].shift(periods=-3)\n",
    "    n2 = st[\"voltage_last\"].shift(periods=-2)\n",
    "    n1 = st[\"voltage_last\"].shift(periods=-1)\n",
    "    n0 = st[\"voltage_last\"]\n",
    "    #  st[\"n3\"] = n3\n",
    "    #  st[\"n2\"] = st[\"voltage_last\"].shift(periods=-2)\n",
    "    #  st[\"n1\"] = n1\n",
    "    #  st[\"n0\"] = st[\"voltage_last\"].shift(periods=0)\n",
    "\n",
    "    # used for finding tau\n",
    "    if tau is None:\n",
    "        tau = st[\"step_time_last\"] - st[\"step_time_first\"]\n",
    "\n",
    "    # used for validating if proper GITT step\n",
    "    t0 = st[\"type\"]\n",
    "    t1 = st[\"type\"].shift(periods=-1)\n",
    "    t2 = st[\"type\"].shift(periods=-2)\n",
    "    t3 = st[\"type\"].shift(periods=-3)\n",
    "\n",
    "    st[\"valid_D\"] = (t0 == t2) & (t1.str.contains(\"ocv\"))\n",
    "\n",
    "    # calculating\n",
    "    st[\"DEt\"] = (\n",
    "        st[\"voltage_last\"] - st[\"voltage_first\"]\n",
    "    )  # should remove the IR drop here (maybe calculate it based on the measured IR time the current?)\n",
    "    st[\"DEs\"] = n3 - n1\n",
    "    st[\"D\"] = A / tau * (st[\"DEs\"] / st[\"DEt\"]) ** 2\n",
    "\n",
    "    return st"
   ]
  },
  {
   "cell_type": "markdown",
   "metadata": {},
   "source": [
    "### Using the function to extract Diffusion constants vs capacity"
   ]
  },
  {
   "cell_type": "code",
   "execution_count": null,
   "metadata": {},
   "outputs": [],
   "source": [
    "# Lets just run it and see what happens\n",
    "A = calc_A(n_m=0.0011, V_m=12.06, S=1.77)\n",
    "print(f\"A: {A}\")\n",
    "x = auto_calc_D(steptable, 5, A=A, ustep_first=27)\n",
    "discharge = x.loc[(x.type == \"discharge\") & (x.valid_D)]\n",
    "charge = x.loc[(x.type == \"charge\") & (x.valid_D)]\n",
    "# discharge.head(25)"
   ]
  },
  {
   "cell_type": "code",
   "execution_count": null,
   "metadata": {},
   "outputs": [],
   "source": [
    "%%opts Curve [width=600 xformatter=\"%6.0f\" tools=[\"hover\"]]\n",
    "X = discharge[\"discharge_avr\"]*1_000_000/mass\n",
    "Y = discharge[\"D\"]\n",
    "discharge_diffcurve = hv.Scatter((X,Y), (\"capacity\"), (\"diffusion coef. (cm2 s-1)\"), label=\"discharge\").opts(size=12) * hv.Curve((X,Y)).opts(alpha=0.4)\n",
    "\n",
    "X = charge[\"charge_avr\"]*1_000_000/mass\n",
    "Y = charge[\"D\"]\n",
    "charge_diffcurve = hv.Scatter((X,Y), (\"capacity\"), (\"diffusion coef. (cm2 s-1)\"), label=\"charge\").opts(size=12) * hv.Curve((X,Y)).opts(alpha=0.4)\n",
    "\n",
    "discharge_diffcurve * charge_diffcurve"
   ]
  },
  {
   "cell_type": "markdown",
   "metadata": {},
   "source": [
    "### TODO\n",
    "- make a plot where we show each point that is used in the calculations\n",
    "- tweak the method so that we get realistic results\n",
    "- find a paper to compare with"
   ]
  },
  {
   "cell_type": "code",
   "execution_count": null,
   "metadata": {},
   "outputs": [],
   "source": []
  },
  {
   "cell_type": "markdown",
   "metadata": {},
   "source": [
    "## Picking out titration curves"
   ]
  },
  {
   "cell_type": "code",
   "execution_count": null,
   "metadata": {},
   "outputs": [],
   "source": [
    "cycle = 5\n",
    "titcurve_ustep = 28\n",
    "\n",
    "# filtering wrt cycle number to get the Data_Points for the step\n",
    "\n",
    "datapoints = x.loc[\n",
    "    (x.type == \"discharge\") & (x.ustep == titcurve_ustep), [\"point_first\", \"point_last\"]\n",
    "]\n",
    "datapoints"
   ]
  },
  {
   "cell_type": "code",
   "execution_count": null,
   "metadata": {},
   "outputs": [],
   "source": [
    "# Using the data points to select the data from dfdata\n",
    "first = datapoints.iloc[0, 0]\n",
    "last = datapoints.iloc[0, 1]\n",
    "dftit = dfdata.loc[first:last, :]\n",
    "dftit.head()"
   ]
  },
  {
   "cell_type": "code",
   "execution_count": null,
   "metadata": {},
   "outputs": [],
   "source": [
    "dfcurve = (\n",
    "    hv.Curve(dftit, (\"Step_Time\", \"time\"), (\"Voltage\", \"voltage\"))\n",
    "    .opts(color=\"grey\", alpha=0.5)\n",
    "    .opts(width=1000, xformatter=\"%6.0f\")\n",
    ")\n",
    "min_time = hv.VLine(100.0)\n",
    "max_time = hv.VLine(1000.0)\n",
    "a = hv.Arrow(x=500, y=0.31, text=\"fit\", direction=\"v\")\n",
    "dfcurve * min_time * max_time * a"
   ]
  },
  {
   "cell_type": "code",
   "execution_count": null,
   "metadata": {},
   "outputs": [],
   "source": [
    "# plotting dE vs sqrt(t) and doing a linear regression to find the slope\n",
    "dE = dftit[\"Voltage\"]\n",
    "t = np.sqrt(dftit[\"Step_Time\"])"
   ]
  },
  {
   "cell_type": "code",
   "execution_count": null,
   "metadata": {},
   "outputs": [],
   "source": [
    "decurve = hv.Scatter((t, dE), \"sqrt-time\", \"voltage\").opts(\n",
    "    width=1000, xformatter=\"%6.0f\"\n",
    ")\n",
    "decurve"
   ]
  },
  {
   "cell_type": "markdown",
   "metadata": {},
   "source": [
    "# Temporary stuff (will probably be deleted)"
   ]
  },
  {
   "cell_type": "code",
   "execution_count": null,
   "metadata": {},
   "outputs": [],
   "source": []
  },
  {
   "cell_type": "markdown",
   "metadata": {},
   "source": [
    "### Methodology for finding diff coeffs\n",
    "#### Equation\n",
    "```\n",
    "Eq. 1.1.\n",
    "D = (4 / pi) (i*V_m / (Z_A*F*S)^2 * ((dE/dd)/(dE/d(sqrt(t)))^2  \n",
    "\n",
    "i: current (A)  \n",
    "Z_A: charge number  \n",
    "F: Faraday´s constant (96_458 C/mol)\n",
    "V_m: molar volume of electrode (cm3/mol)  \n",
    "S: electrode-electrolyte contact area (cm2)  \n",
    "\n",
    "(dE/dd): the slope of the coulometric titration curve, found by plotting the\n",
    "steady state voltages E (V) measured after each titration step δ\n",
    "\n",
    "steady state voltage change due to the current pulse (V)  \n",
    "(dE/d(sqrt(t)):  the slope of the linearized plot of the potential E (V) during the current pulse of duration t (s).  \n",
    "```\n",
    "\n"
   ]
  },
  {
   "cell_type": "markdown",
   "metadata": {},
   "source": [
    "#### step 1\n",
    "Need to find the slope of E vs δ. This is the same as finding dV/dQ. One way to do this is to fit the \"relaxed\" voltage curve (the OCV_RLX points) to a polynomial and diffing it.\n",
    "#### step 2\n",
    "Then we also need to find the slope of E vs time during the pulse. For this we can e.g. use the polytfit function from scipy. The first 100 seconds should not be used as they\n",
    "are typically from charge-transfere resistance and the concentration overpotential.\n",
    "#### step 3\n",
    "Now it is time to get all the other prms (where the most difficult one is the electrode-electrolyte contact area). It should ideally be found using BET. But I guess the best is to calculate it using a sensible model, or from some scattering experiments (SANS?)."
   ]
  },
  {
   "cell_type": "code",
   "execution_count": null,
   "metadata": {},
   "outputs": [],
   "source": []
  },
  {
   "cell_type": "markdown",
   "metadata": {},
   "source": [
    "## Example\n",
    "Based on application note from Metrohm Autolab b.v. pdf (BAT03) \n",
    "\n",
    "\n",
    "```\n",
    "Eq. 1.1.\n",
    "D = (4 / pi) (i*V_m / (Z_A*F*S)^2 * ((dE/dd)/(dE/d(sqrt(t)))^2  \n",
    "\n",
    "i: current (A)  \n",
    "Z_A: charge number  \n",
    "F: Faraday´s constant (96_458 C/mol)\n",
    "V_m: molar volume of electrode (cm3/mol)  \n",
    "S: electrode-electrolyte contact area (cm2)  \n",
    "\n",
    "(dE/dd): the slope of the coulometric titration curve, found by plotting the\n",
    "steady state voltages E (V) measured after each titration step δ\n",
    "\n",
    "steady state voltage change due to the current pulse (V)  \n",
    "(dE/d(sqrt(t)):  the slope of the linearized plot of the potential E (V) during the current pulse of duration t (s).  \n",
    "```\n",
    "\n",
    "\n",
    "```\n",
    "Eq. 1.2.\n",
    "D = 4 /((pi)(tau)) * (n_m * V_m / S)^2 * (DEs / DEt)^2  \n",
    "\n",
    "tau: duration of the current pulse (s)  \n",
    "n_m: number of moles (mol)  \n",
    "V_m: molar volume of electrode (cm3/mol)  \n",
    "S: electrode-electrolyte contact area (cm2)  \n",
    "DEs: steady state voltage change due to the current pulse (V)  \n",
    "DEt: voltage change during the constant current pulse (eliminating the iR drop) (V)  \n",
    "```"
   ]
  },
  {
   "cell_type": "code",
   "execution_count": null,
   "metadata": {},
   "outputs": [],
   "source": []
  },
  {
   "cell_type": "markdown",
   "metadata": {},
   "source": [
    "### Example code:\n",
    "\n",
    "```python\n",
    "\n",
    "D = (A / tau) * (DEs / DEt)**2\n",
    "# during charge\n",
    "DEt = ustep_52.voltage[-1] - ustep_52.voltage[0]  # charge step\n",
    "DEs = ustep_55.voltage[-1] - ustep_53.voltage[0]  # ocv steps\n",
    "```\n",
    "\n",
    "```python\n",
    "# during discharge\n",
    "DEt = ustep_27.voltage[-1] - ustep_27.voltage[0]  # discharge step\n",
    "DEs = ustep_30.voltage[-1] - ustep_28.voltage[0]  # ocv steps\n",
    "```\n",
    "\n",
    "Using step-table\n",
    "\n",
    "```python\n",
    "DEt = ustep[n].voltage_last - ustep[n].voltage_first  # charge step\n",
    "DEs = ustep[n+3].voltage_last - ustep[n+1].voltage_first # ocv steps\n",
    "```"
   ]
  },
  {
   "cell_type": "markdown",
   "metadata": {},
   "source": []
  }
 ],
 "metadata": {
  "kernelspec": {
   "display_name": "cellpy",
   "language": "python",
   "name": "cellpy"
  },
  "language_info": {
   "codemirror_mode": {
    "name": "ipython",
    "version": 3
   },
   "file_extension": ".py",
   "mimetype": "text/x-python",
   "name": "python",
   "nbconvert_exporter": "python",
   "pygments_lexer": "ipython3",
   "version": "3.7.2"
  }
 },
 "nbformat": 4,
 "nbformat_minor": 4
}
