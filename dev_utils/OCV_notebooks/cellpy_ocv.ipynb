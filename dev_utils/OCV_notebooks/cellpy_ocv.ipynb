{
 "cells": [
  {
   "cell_type": "code",
   "execution_count": null,
   "metadata": {},
   "outputs": [],
   "source": [
    "%load_ext autoreload\n",
    "%autoreload 2"
   ]
  },
  {
   "cell_type": "code",
   "execution_count": null,
   "metadata": {},
   "outputs": [],
   "source": [
    "import numpy as np\n",
    "import pandas as pd\n",
    "import matplotlib.pyplot as plt\n",
    "\n",
    "import cellpy\n",
    "from cellpy import prms\n",
    "from cellpy import prmreader\n",
    "from cellpy import cellreader\n",
    "from cellpy.utils import ocv_rlx, plotutils, helpers\n",
    "import holoviews as hv\n",
    "\n",
    "%matplotlib inline\n",
    "hv.extension(\"bokeh\")"
   ]
  },
  {
   "cell_type": "code",
   "execution_count": null,
   "metadata": {},
   "outputs": [],
   "source": [
    "######################################################################\n",
    "##                                                                  ##\n",
    "##                       development                                ##\n",
    "##                                                                  ##\n",
    "######################################################################\n",
    "\n",
    "from pathlib import Path\n",
    "from pprint import pprint\n",
    "\n",
    "# Use these when working on my work PC:\n",
    "raw_data_path = r\"C:\\Scripting\\MyFiles\\development_cellpy\\testdata\"\n",
    "out_data_path = r\"C:\\Scripting\\Processing\\Test\\out\"\n",
    "\n",
    "# Use these when working on my MacBook:\n",
    "raw_data_path = \"/Users/jepe/scripting/cellpy/dev_data/gitt\"\n",
    "out_data_path = \"/Users/jepe/scripting/cellpy/dev_data/out\"\n",
    "\n",
    "raw_data_path = Path(raw_data_path)\n",
    "out_data_path = Path(out_data_path)\n",
    "\n",
    "print(\" SETTING SOME PRMS \".center(80, \"=\"))\n",
    "prms.Paths.db_filename = \"cellpy_db.xlsx\"\n",
    "prms.Paths.cellpydatadir = out_data_path\n",
    "prms.Paths.outdatadir = out_data_path\n",
    "prms.Paths.rawdatadir = raw_data_path\n",
    "prms.Paths.db_path = out_data_path\n",
    "prms.Paths.filelogdir = out_data_path\n",
    "pprint(prms.Paths)"
   ]
  },
  {
   "cell_type": "code",
   "execution_count": null,
   "metadata": {},
   "outputs": [],
   "source": [
    "fn = \"20181026_cen31_03_cc_05\"\n",
    "resn = fn + \".res\"\n",
    "cellpyn = fn + \".h5\"\n",
    "filename = prms.Paths.rawdatadir / resn\n",
    "cellpyname = prms.Paths.cellpydatadir / cellpyn"
   ]
  },
  {
   "cell_type": "markdown",
   "metadata": {},
   "source": [
    "## Load a cell\n",
    "\n",
    "Only need a part of it, so using only the first 29 cycles (splitting on cycle 30)"
   ]
  },
  {
   "cell_type": "code",
   "execution_count": null,
   "metadata": {},
   "outputs": [],
   "source": [
    "dd = cellreader.get(filename, logging_mode=\"INFO\")"
   ]
  },
  {
   "cell_type": "code",
   "execution_count": null,
   "metadata": {},
   "outputs": [],
   "source": [
    "d, _ = helpers.split_experiment(dd, 90)"
   ]
  },
  {
   "cell_type": "markdown",
   "metadata": {},
   "source": [
    "## OCV rlx curves"
   ]
  },
  {
   "cell_type": "code",
   "execution_count": null,
   "metadata": {},
   "outputs": [],
   "source": [
    "ocv_cycles = d.get_ocv(\n",
    "    interpolated=True, number_of_points=40, direction=\"down\"\n",
    ").reset_index(drop=True)"
   ]
  },
  {
   "cell_type": "code",
   "execution_count": null,
   "metadata": {},
   "outputs": [],
   "source": [
    "ocv_cycles.head()"
   ]
  },
  {
   "cell_type": "code",
   "execution_count": null,
   "metadata": {},
   "outputs": [],
   "source": [
    "%%opts Curve [width=600] (alpha=0.9, color=hv.Palette('Magma'))\n",
    "single_curves = hv.Curve(ocv_cycles, kdims=[\"Step_Time\", \"Cycle_Index\"], vdims=[\"Voltage\"]).groupby(\"Cycle_Index\").overlay()\n",
    "single_curves.opts(tools=[\"hover\"])"
   ]
  },
  {
   "cell_type": "markdown",
   "metadata": {},
   "source": [
    "## Extract OCV points\n",
    "\n",
    "Using the ``select_ocv_points`` function from ``cellpy.utils.ocv_rlx``.\n",
    "\n",
    "```python\n",
    "\n",
    "def select_ocv_points(\n",
    "    cellpydata,\n",
    "    cycles=None,\n",
    "    selection_method=\"martin\",\n",
    "    number_of_points=5,\n",
    "    interval=10,\n",
    "    relative_voltage=False,\n",
    "    report_times=False,\n",
    "    direction=None,\n",
    "):\n",
    "\n",
    "    \"\"\"Select points from the ocvrlx steps.\n",
    "\n",
    "        Args:\n",
    "            cellpydata: CellpyData-object\n",
    "            cycles: list of cycle numbers to process (optional)\n",
    "            selection_method: criteria for selecting points\n",
    "                martin: select first and last, and then last/2, last/2/2 etc.\n",
    "                    until you have reached the wanted number of points.\n",
    "                fixed_times: select first, and then\n",
    "            number_of_points: number of points you want.\n",
    "            interval: interval between each point (in use only for methods\n",
    "                where interval makes sense). If it is a list, then\n",
    "                number_of_points will be calculated as len(interval) + 1 (and\n",
    "                override the set number_of_points).\n",
    "            relative_voltage: set to True if you would like the voltage to be\n",
    "                relative to the voltage before starting the ocv rlx step.\n",
    "                Defaults to False. Remark that for the initial rxl step (when\n",
    "                you just have put your cell on the tester) does not have any\n",
    "                prior voltage. The relative voltage will then be versus the\n",
    "                first measurement point.\n",
    "            report_times: also report the ocv rlx total time if True (defaults\n",
    "                to False)\n",
    "            direction (\"up\", \"down\" or \"both\"): select \"up\" if you would like\n",
    "                to process only the ocv rlx steps where the voltage is relaxing\n",
    "                upwards and vize versa. Defaults to \"both\".\n",
    "\n",
    "        Returns:\n",
    "            pandas.DataFrame\n",
    "\n",
    "    \"\"\"\n",
    "```"
   ]
  },
  {
   "cell_type": "code",
   "execution_count": null,
   "metadata": {},
   "outputs": [],
   "source": [
    "p_fixed_time, i1 = ocv_rlx.select_ocv_points(\n",
    "    d, selection_method=\"fixed_times\", direction=\"both\", return_times=True\n",
    ")"
   ]
  },
  {
   "cell_type": "code",
   "execution_count": null,
   "metadata": {},
   "outputs": [],
   "source": [
    "p_martin, i2 = ocv_rlx.select_ocv_points(d, direction=\"both\", return_times=True)"
   ]
  },
  {
   "cell_type": "code",
   "execution_count": null,
   "metadata": {},
   "outputs": [],
   "source": [
    "i1.head()"
   ]
  },
  {
   "cell_type": "code",
   "execution_count": null,
   "metadata": {},
   "outputs": [],
   "source": [
    "i2.head()"
   ]
  },
  {
   "cell_type": "code",
   "execution_count": null,
   "metadata": {},
   "outputs": [],
   "source": [
    "p_martin.head()"
   ]
  },
  {
   "cell_type": "code",
   "execution_count": null,
   "metadata": {},
   "outputs": [],
   "source": [
    "p_fx_down = p_fixed_time.loc[p_fixed_time.type == \"ocvrlx_down\"]\n",
    "p_m_down = p_martin.loc[p_martin.type == \"ocvrlx_down\"]"
   ]
  },
  {
   "cell_type": "code",
   "execution_count": null,
   "metadata": {},
   "outputs": [],
   "source": [
    "p_fx_down_fast = p_fx_down.loc[p_fx_down.step == 15]\n",
    "p_m_down_fast = p_m_down.loc[p_m_down.step == 15]\n",
    "p_fx_down_slow = p_fx_down.loc[p_fx_down.step == 8]\n",
    "p_m_down_slow = p_m_down.loc[p_m_down.step == 8]"
   ]
  },
  {
   "cell_type": "code",
   "execution_count": null,
   "metadata": {},
   "outputs": [],
   "source": [
    "p_m_down.plot(x=\"cycle\", y=p_m_down.columns.drop(\"cycle\").drop(\"step\"))"
   ]
  },
  {
   "cell_type": "code",
   "execution_count": null,
   "metadata": {},
   "outputs": [],
   "source": [
    "p_fx_down.plot(x=\"cycle\", y=[c for c in p_fx_down.columns if c.startswith(\"point_\")])"
   ]
  },
  {
   "cell_type": "code",
   "execution_count": null,
   "metadata": {},
   "outputs": [],
   "source": [
    "p_fx_down_fast.plot(\n",
    "    x=\"cycle\", y=[c for c in p_fx_down.columns if c.startswith(\"point_\")]\n",
    ")"
   ]
  },
  {
   "cell_type": "code",
   "execution_count": null,
   "metadata": {},
   "outputs": [],
   "source": [
    "p_m_down_fast.plot(\n",
    "    x=\"cycle\", y=[c for c in p_fx_down.columns if c.startswith(\"point_\")]\n",
    ")"
   ]
  },
  {
   "cell_type": "code",
   "execution_count": null,
   "metadata": {},
   "outputs": [],
   "source": [
    "p_m_down_slow.plot(\n",
    "    x=\"cycle\", y=[c for c in p_m_down_slow.columns if c.startswith(\"point_\")]\n",
    ")"
   ]
  },
  {
   "cell_type": "code",
   "execution_count": null,
   "metadata": {},
   "outputs": [],
   "source": [
    "ax1 = p_fx_down_slow.plot(\n",
    "    x=\"cycle\", y=[c for c in p_fx_down_slow.columns if c.startswith(\"point_\")]\n",
    ")"
   ]
  },
  {
   "cell_type": "code",
   "execution_count": null,
   "metadata": {},
   "outputs": [],
   "source": [
    "ycols = [c for c in p_fx_down_slow.columns if c.startswith(\"point_\")]\n",
    "xcol = \"cycle\"\n",
    "fig, (ax1, ax2) = plt.subplots(1, 2)\n",
    "fig.suptitle(\"Fixed dt\")\n",
    "ax1.set_ylabel(\"voltage (vs. Li/Li+)\")\n",
    "p_fx_down_slow.plot(x=xcol, y=ycols, ax=ax1, title=\"slow cycles\")\n",
    "p_fx_down_fast.plot(x=xcol, y=ycols, ax=ax2, title=\"fast cycles\", legend=False)\n",
    "plt.tight_layout()"
   ]
  },
  {
   "cell_type": "code",
   "execution_count": null,
   "metadata": {},
   "outputs": [],
   "source": [
    "ycols = [c for c in p_m_down_slow.columns if c.startswith(\"point_\")]\n",
    "xcol = \"cycle\"\n",
    "fig, (ax1, ax2) = plt.subplots(1, 2)\n",
    "fig.suptitle(\"Martin\")\n",
    "ax1.set_ylabel(\"voltage (vs. Li/Li+)\")\n",
    "p_m_down_slow.plot(x=xcol, y=ycols, ax=ax1, title=\"slow cycles\")\n",
    "p_m_down_fast.plot(x=xcol, y=ycols, ax=ax2, title=\"fast cycles\", legend=False)\n",
    "plt.tight_layout()"
   ]
  },
  {
   "cell_type": "markdown",
   "metadata": {},
   "source": [
    "## Delta V"
   ]
  },
  {
   "cell_type": "code",
   "execution_count": null,
   "metadata": {},
   "outputs": [],
   "source": [
    "p_m_down_slow[\"delta\"] = p_m_down_slow[\"point_04\"] - p_m_down_slow[\"point_00\"]\n",
    "p_m_down_fast[\"delta\"] = p_m_down_fast[\"point_04\"] - p_m_down_fast[\"point_00\"]"
   ]
  },
  {
   "cell_type": "code",
   "execution_count": null,
   "metadata": {},
   "outputs": [],
   "source": [
    "ycols = \"delta\"\n",
    "xcol = \"cycle\"\n",
    "fig, ax = plt.subplots()\n",
    "fig.suptitle(\"Martin\")\n",
    "ax.set_ylabel(\"delta V (point_04 - point_00)\")\n",
    "p_m_down_slow.plot(x=xcol, y=ycols, ax=ax, label=\"slow cycles\")\n",
    "p_m_down_fast.plot(x=xcol, y=ycols, ax=ax, label=\"fast cycles\");\n",
    "# plt.tight_layout()"
   ]
  },
  {
   "cell_type": "code",
   "execution_count": null,
   "metadata": {},
   "outputs": [],
   "source": [
    "p_fx_down_slow[\"delta\"] = p_fx_down_slow[\"point_04\"] - p_fx_down_slow[\"point_00\"]\n",
    "p_fx_down_fast[\"delta\"] = p_fx_down_fast[\"point_04\"] - p_fx_down_fast[\"point_00\"]"
   ]
  },
  {
   "cell_type": "code",
   "execution_count": null,
   "metadata": {},
   "outputs": [],
   "source": [
    "ycols = \"delta\"\n",
    "xcol = \"cycle\"\n",
    "fig, ax = plt.subplots()\n",
    "fig.suptitle(\"fixed\")\n",
    "ax.set_ylabel(\"delta V (point_04 - point_00)\")\n",
    "p_fx_down_slow.plot(x=xcol, y=ycols, ax=ax, label=\"slow cycles\")\n",
    "p_fx_down_fast.plot(x=xcol, y=ycols, ax=ax, label=\"fast cycles\");\n",
    "# plt.tight_layout()"
   ]
  },
  {
   "cell_type": "markdown",
   "metadata": {},
   "source": [
    "## raw"
   ]
  },
  {
   "cell_type": "code",
   "execution_count": null,
   "metadata": {},
   "outputs": [],
   "source": [
    "plotutils.cycle_info_plot(d)"
   ]
  },
  {
   "cell_type": "code",
   "execution_count": null,
   "metadata": {},
   "outputs": [],
   "source": []
  }
 ],
 "metadata": {
  "kernelspec": {
   "display_name": "Python 3",
   "language": "python",
   "name": "python3"
  },
  "language_info": {
   "codemirror_mode": {
    "name": "ipython",
    "version": 3
   },
   "file_extension": ".py",
   "mimetype": "text/x-python",
   "name": "python",
   "nbconvert_exporter": "python",
   "pygments_lexer": "ipython3",
   "version": "3.7.4"
  }
 },
 "nbformat": 4,
 "nbformat_minor": 4
}
