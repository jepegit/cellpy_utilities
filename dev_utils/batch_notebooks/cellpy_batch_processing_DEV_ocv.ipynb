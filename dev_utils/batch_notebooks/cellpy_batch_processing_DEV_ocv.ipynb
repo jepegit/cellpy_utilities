{
 "cells": [
  {
   "cell_type": "markdown",
   "metadata": {},
   "source": [
    "# Notebook for cellpy batch processing"
   ]
  },
  {
   "cell_type": "markdown",
   "metadata": {},
   "source": [
    "*You can fill inn the MarkDown cells (the cells without \"numbering\") by double-clicking them. Also remember, press `shift + enter` to execute a cell.*\n",
    "\n",
    "A couple of useful links:  \n",
    " - [How to write MarkDown](https://github.com/adam-p/markdown-here/wiki/Markdown-Cheatsheet#hr)\n",
    " - [Jupyter notebooks](https://jupyter.org/)\n",
    " - [cellpy](https://cellpy.readthedocs.io/en/latest/)"
   ]
  },
  {
   "cell_type": "markdown",
   "metadata": {},
   "source": [
    "### This notebook uses the following packages\n",
    "- python >= 3.6 \n",
    "- cellpy >= 0.3.0\n",
    "- pandas\n",
    "- numpy\n",
    "- matplotlib\n",
    "- bokeh\n",
    "- pyviz (holoviews)"
   ]
  },
  {
   "cell_type": "markdown",
   "metadata": {},
   "source": [
    "# 1. Key information about the current experiment\n",
    "**Experimental-id:** xxx  \n",
    "**Short-name:** xxx  \n",
    "**Project:** project name  \n",
    "**By:** your name  \n",
    "**Date:** xx.xx.xxxx"
   ]
  },
  {
   "cell_type": "markdown",
   "metadata": {},
   "source": [
    "# 2. Short summary of the experiment before processing\n",
    "It is often helpful to formulate what you wanted to achieve with your experiment before actually going into depth of the data. I believe that it does not make you \"biased\" when processing your data, but instead sharpens your mind and motivates you to look more closely on your results. I might be wrong, off course. Then just skip filling in this part.\n",
    "### Main purpose\n",
    "(*State the main hypothesis for the current set of experiment*)\n",
    "### Expected outcome\n",
    "(*What do you expect to find out? What kind of tests did you perform?*)\n",
    "### Special considerations\n",
    "(*State if there are any special considerations for this experiment*)"
   ]
  },
  {
   "cell_type": "markdown",
   "metadata": {},
   "source": [
    "# 3. Processing data"
   ]
  },
  {
   "cell_type": "markdown",
   "metadata": {},
   "source": [
    "### Setting up everything"
   ]
  },
  {
   "cell_type": "code",
   "execution_count": null,
   "metadata": {},
   "outputs": [],
   "source": [
    "%load_ext autoreload\n",
    "%autoreload 2"
   ]
  },
  {
   "cell_type": "code",
   "execution_count": null,
   "metadata": {},
   "outputs": [],
   "source": [
    "import numpy as np\n",
    "import pandas as pd\n",
    "import matplotlib.pyplot as plt\n",
    "\n",
    "import cellpy\n",
    "from cellpy import prms\n",
    "from cellpy import prmreader\n",
    "from cellpy.utils import batch\n",
    "import holoviews as hv\n",
    "\n",
    "%matplotlib inline\n",
    "hv.extension(\"bokeh\")"
   ]
  },
  {
   "cell_type": "code",
   "execution_count": null,
   "metadata": {},
   "outputs": [],
   "source": [
    "######################################################################\n",
    "##                                                                  ##\n",
    "##                       development                                ##\n",
    "##                                                                  ##\n",
    "######################################################################\n",
    "\n",
    "from pathlib import Path\n",
    "from pprint import pprint\n",
    "\n",
    "# Use these when working on my work PC:\n",
    "test_data_path = r\"C:\\Scripting\\MyFiles\\development_cellpy\\testdata\"\n",
    "out_data_path = r\"C:\\Scripting\\Processing\\Test\\out\"\n",
    "\n",
    "# Use these when working on my MacBook:\n",
    "test_data_path = \"/Users/jepe/scripting/cellpy/dev_data/fullcell\"\n",
    "out_data_path = \"/Users/jepe/scripting/cellpy/dev_data/out\"\n",
    "\n",
    "test_data_path = Path(test_data_path)\n",
    "out_data_path = Path(out_data_path)\n",
    "\n",
    "print(\" SETTING SOME PRMS \".center(80, \"=\"))\n",
    "prms.Paths.db_filename = \"cellpy_db.xlsx\"\n",
    "prms.Paths.cellpydatadir = test_data_path / \"hdf5\"\n",
    "prms.Paths.outdatadir = out_data_path\n",
    "prms.Paths.rawdatadir = test_data_path / \"data\"\n",
    "prms.Paths.db_path = test_data_path / \"db\"\n",
    "prms.Paths.filelogdir = out_data_path\n",
    "pprint(prms.Paths)"
   ]
  },
  {
   "cell_type": "code",
   "execution_count": null,
   "metadata": {},
   "outputs": [],
   "source": [
    "## Uncomment this and run for checking your cellpy parameters.\n",
    "# prmreader.info()"
   ]
  },
  {
   "cell_type": "markdown",
   "metadata": {},
   "source": [
    "### Creating pages and initialise the cellpy batch object\n",
    "If you need to create Journal Pages, please provide appropriate names for the project and the experiment to allow `cellpy` to build the pages."
   ]
  },
  {
   "cell_type": "code",
   "execution_count": null,
   "metadata": {},
   "outputs": [],
   "source": [
    "# Please fill in here\n",
    "project = \"ocv_tests\"\n",
    "name = \"first\""
   ]
  },
  {
   "cell_type": "markdown",
   "metadata": {},
   "source": [
    "#### Initialisation"
   ]
  },
  {
   "cell_type": "code",
   "execution_count": null,
   "metadata": {},
   "outputs": [],
   "source": [
    "print(\" INITIALISATION OF BATCH \".center(80, \"=\"))\n",
    "b = batch.init(name, project, default_log_level=\"INFO\", db_reader=None)"
   ]
  },
  {
   "cell_type": "markdown",
   "metadata": {},
   "source": [
    "#### Set parameters"
   ]
  },
  {
   "cell_type": "code",
   "execution_count": null,
   "metadata": {},
   "outputs": [],
   "source": [
    "# setting some prms\n",
    "b.experiment.export_raw = False\n",
    "b.experiment.export_cycles = False\n",
    "b.experiment.export_ica = False\n",
    "b.experiment.all_in_memory = True  # store all data in memory, defaults to False\n",
    "b.experiment.force_raw_file = True"
   ]
  },
  {
   "cell_type": "markdown",
   "metadata": {},
   "source": [
    "#### Run"
   ]
  },
  {
   "cell_type": "code",
   "execution_count": null,
   "metadata": {},
   "outputs": [],
   "source": [
    "# load info from your db and write the journal pages\n",
    "b.create_journal(from_db=False)"
   ]
  },
  {
   "cell_type": "code",
   "execution_count": null,
   "metadata": {},
   "outputs": [],
   "source": [
    "b.pages"
   ]
  },
  {
   "cell_type": "code",
   "execution_count": null,
   "metadata": {},
   "outputs": [],
   "source": [
    "filename = \"20190204_FC_snx012_01_cc_03\"\n",
    "mass = 0.5\n",
    "total_mass = 1.0\n",
    "loading = 0.1\n",
    "fixed = False\n",
    "label = \"fc_snx012_01\"\n",
    "cell_type = \"full_cell\"\n",
    "raw_file_name = [test_data_path / \"20190204_FC_snx012_01_cc_01.res\"]\n",
    "cellpy_file_name = out_data_path / \"20190204_FC_snx012_01_cc_01.h5\"\n",
    "group = 1\n",
    "sub_group = 1\n",
    "\n",
    "\n",
    "b.pages.loc[filename] = [\n",
    "    mass,\n",
    "    total_mass,\n",
    "    loading,\n",
    "    fixed,\n",
    "    label,\n",
    "    cell_type,\n",
    "    raw_file_name,\n",
    "    cellpy_file_name,\n",
    "    group,\n",
    "    sub_group,\n",
    "]"
   ]
  },
  {
   "cell_type": "code",
   "execution_count": null,
   "metadata": {},
   "outputs": [],
   "source": [
    "b.pages"
   ]
  },
  {
   "cell_type": "code",
   "execution_count": null,
   "metadata": {},
   "outputs": [],
   "source": [
    "# create the apropriate folders\n",
    "b.paginate()"
   ]
  },
  {
   "cell_type": "code",
   "execution_count": null,
   "metadata": {},
   "outputs": [],
   "source": [
    "# load the data (and save .csv-files if you have set export_(raw/cycles/ica) = True)\n",
    "# (this might take some time)\n",
    "b.update()"
   ]
  },
  {
   "cell_type": "code",
   "execution_count": null,
   "metadata": {},
   "outputs": [],
   "source": [
    "# collect summary-data (e.g. charge capacity vs cycle number) from each cell and export to .csv-file(s).\n",
    "b.make_summaries()\n",
    "print(\" FINISHED \".center(80, \"-\"))"
   ]
  },
  {
   "cell_type": "markdown",
   "metadata": {},
   "source": [
    "# 4. Looking at the data"
   ]
  },
  {
   "cell_type": "markdown",
   "metadata": {},
   "source": [
    "## Summaries"
   ]
  },
  {
   "cell_type": "code",
   "execution_count": null,
   "metadata": {},
   "outputs": [],
   "source": [
    "# Plot the charge capacity and the C.E. (and resistance) vs. cycle number (standard plot)\n",
    "b.plot_summaries()"
   ]
  },
  {
   "cell_type": "code",
   "execution_count": null,
   "metadata": {},
   "outputs": [],
   "source": [
    "# Show the journal pages\n",
    "# b.experiment.journal.pages.head()"
   ]
  },
  {
   "cell_type": "code",
   "execution_count": null,
   "metadata": {},
   "outputs": [],
   "source": [
    "# Show the most important part of the journal pages\n",
    "b.report"
   ]
  },
  {
   "cell_type": "code",
   "execution_count": null,
   "metadata": {},
   "outputs": [],
   "source": [
    "# b.experiment.status()"
   ]
  },
  {
   "cell_type": "code",
   "execution_count": null,
   "metadata": {},
   "outputs": [],
   "source": [
    "# b.summaries.head()"
   ]
  },
  {
   "cell_type": "markdown",
   "metadata": {},
   "source": [
    "## Cycles"
   ]
  },
  {
   "cell_type": "code",
   "execution_count": null,
   "metadata": {},
   "outputs": [],
   "source": [
    "b.experiment.cell_names"
   ]
  },
  {
   "cell_type": "code",
   "execution_count": null,
   "metadata": {},
   "outputs": [],
   "source": [
    "d = b.experiment.data[\"20190204_FC_snx012_01_cc_01\"]\n",
    "d"
   ]
  },
  {
   "cell_type": "code",
   "execution_count": null,
   "metadata": {},
   "outputs": [],
   "source": []
  },
  {
   "cell_type": "code",
   "execution_count": null,
   "metadata": {},
   "outputs": [],
   "source": []
  },
  {
   "cell_type": "code",
   "execution_count": null,
   "metadata": {},
   "outputs": [],
   "source": [
    "%%opts Curve (color=hv.Palette('Magma'))\n",
    "voltage_curves = dict()\n",
    "for label in b.experiment.cell_names:\n",
    "    d = b.experiment.data[label]\n",
    "    curves = d.get_cap(label_cycle_number=True, interpolated=True, number_of_points=100)\n",
    "    curve = hv.Curve(curves, kdims=[\"capacity\", \"cycle\"], vdims=\"voltage\").groupby(\"cycle\").overlay().opts(show_legend=False)\n",
    "    voltage_curves[label] = curve\n",
    "NdLayout = hv.NdLayout(voltage_curves, kdims='label').cols(3)\n",
    "NdLayout"
   ]
  },
  {
   "cell_type": "code",
   "execution_count": null,
   "metadata": {},
   "outputs": [],
   "source": [
    "%%opts Curve (color=hv.Palette('Magma'))\n",
    "ocv_curves = dict()\n",
    "for label in b.experiment.cell_names:\n",
    "    d = b.experiment.data[label]\n",
    "    ocv_data = d.get_ocv(direction=\"up\", number_of_points=40)\n",
    "    ocv_curve = hv.Curve(ocv_data, kdims=[\"Step_Time\", \"Cycle_Index\"], vdims=\"Voltage\").groupby(\"Cycle_Index\").overlay().opts(show_legend=False)\n",
    "    ocv_curves[label] = ocv_curve\n",
    "\n",
    "NdLayout = hv.NdLayout(ocv_curves, kdims='label').cols(3)\n",
    "NdLayout"
   ]
  },
  {
   "cell_type": "code",
   "execution_count": null,
   "metadata": {},
   "outputs": [],
   "source": [
    "import numpy as np"
   ]
  },
  {
   "cell_type": "code",
   "execution_count": null,
   "metadata": {},
   "outputs": [],
   "source": [
    "df = pd.DataFrame(\n",
    "    {\n",
    "        \"one\": [1, 2, 3],\n",
    "        \"two\": [10, 20, 30],\n",
    "        \"name0\": [\"ocv_one\", \"ocv\", \"ch\"],\n",
    "        \"name1\": [\"ocv_one\", \"ocv_two\", None],\n",
    "        \"name2\": [\"ocv_x\", \"xx\", np.nan],\n",
    "    }\n",
    ")\n",
    "df"
   ]
  },
  {
   "cell_type": "code",
   "execution_count": null,
   "metadata": {},
   "outputs": [],
   "source": [
    "df.loc[df.name2.str.startswith(\"ocv\", na=False), :]"
   ]
  },
  {
   "cell_type": "code",
   "execution_count": null,
   "metadata": {},
   "outputs": [],
   "source": []
  },
  {
   "cell_type": "markdown",
   "metadata": {},
   "source": [
    "### Selecting specific cells and investigating them"
   ]
  },
  {
   "cell_type": "code",
   "execution_count": null,
   "metadata": {},
   "outputs": [],
   "source": [
    "# This will show you all your cell names\n",
    "cell_labels = b.experiment.cell_names\n",
    "cell_labels"
   ]
  },
  {
   "cell_type": "code",
   "execution_count": null,
   "metadata": {},
   "outputs": [],
   "source": [
    "# This is how to select the data (CellpyData-objects)\n",
    "data1 = b.experiment.data[\"20190204_FC_snx012_01_cc_01\"]"
   ]
  },
  {
   "cell_type": "markdown",
   "metadata": {},
   "source": [
    "Let's see how the smoothing (interpolation) method works"
   ]
  },
  {
   "cell_type": "code",
   "execution_count": null,
   "metadata": {},
   "outputs": [],
   "source": [
    "# get voltage curves\n",
    "df_cycles1 = data1.get_cap(\n",
    "    method=\"back-and-forth\",\n",
    "    categorical_column=True,\n",
    "    label_cycle_number=True,\n",
    "    interpolated=False,\n",
    ")"
   ]
  },
  {
   "cell_type": "code",
   "execution_count": null,
   "metadata": {},
   "outputs": [],
   "source": [
    "# get interpolated voltage curves\n",
    "df_cycles2 = data1.get_cap(\n",
    "    method=\"back-and-forth\",\n",
    "    categorical_column=True,\n",
    "    label_cycle_number=True,\n",
    "    interpolated=True,\n",
    "    dx=0.1,\n",
    "    number_of_points=100,\n",
    ")"
   ]
  },
  {
   "cell_type": "code",
   "execution_count": null,
   "metadata": {},
   "outputs": [],
   "source": [
    "%%opts Scatter [width=600] (color=\"red\", alpha=0.9, size=12)\n",
    "single_curve = hv.Curve(df_cycles1, kdims=[\"capacity\", \"cycle\"], vdims=\"voltage\", label=\"not-smoothed\").groupby(\"cycle\")\n",
    "single_scatter = hv.Scatter(df_cycles2, kdims=[\"capacity\", \"cycle\"], vdims=\"voltage\", label=\"smoothed\").groupby(\"cycle\")\n",
    "single_scatter * single_curve"
   ]
  },
  {
   "cell_type": "markdown",
   "metadata": {},
   "source": [
    "## Using hvplot for plotting summaries"
   ]
  },
  {
   "cell_type": "markdown",
   "metadata": {},
   "source": [
    "You can for example use hvplot for looking more at your summary data"
   ]
  },
  {
   "cell_type": "code",
   "execution_count": null,
   "metadata": {},
   "outputs": [],
   "source": [
    "import hvplot.pandas"
   ]
  },
  {
   "cell_type": "code",
   "execution_count": null,
   "metadata": {},
   "outputs": [],
   "source": [
    "# hvplot does not like infinities\n",
    "s = b.summaries.replace([np.inf, -np.inf], np.nan)"
   ]
  },
  {
   "cell_type": "code",
   "execution_count": null,
   "metadata": {},
   "outputs": [],
   "source": [
    "layout = (\n",
    "    s[\"coulombic_efficiency\"].hvplot()\n",
    "    + s[\"discharge_capacity\"].hvplot() * s[\"charge_capacity\"].hvplot()\n",
    ")\n",
    "layout.cols(1).opts()"
   ]
  },
  {
   "cell_type": "code",
   "execution_count": null,
   "metadata": {},
   "outputs": [],
   "source": [
    "s[\"cumulated_coulombic_efficiency\"].hvplot()"
   ]
  },
  {
   "cell_type": "markdown",
   "metadata": {},
   "source": [
    "## Looking more *in-depth* and utilising advanced features"
   ]
  },
  {
   "cell_type": "markdown",
   "metadata": {},
   "source": [
    "#### OCV relaxation points\n",
    "Picking out 5 points on each OCV relaxation curve (distributed by last, last/2, last/2/2, ..., first)."
   ]
  },
  {
   "cell_type": "code",
   "execution_count": null,
   "metadata": {},
   "outputs": [],
   "source": [
    "from cellpy.utils.batch_tools.batch_analyzers import OCVRelaxationAnalyzer\n",
    "\n",
    "print(\" analyzing ocv relaxation data \".center(80, \"-\"))\n",
    "analyzer = OCVRelaxationAnalyzer()\n",
    "analyzer.assign(b.experiment)\n",
    "analyzer.direction = \"up\"\n",
    "analyzer.do()\n",
    "\n",
    "\n",
    "dfs = analyzer.last\n",
    "df_file_one = dfs[0]\n",
    "df_file_one"
   ]
  },
  {
   "cell_type": "code",
   "execution_count": null,
   "metadata": {},
   "outputs": [],
   "source": []
  },
  {
   "cell_type": "code",
   "execution_count": null,
   "metadata": {},
   "outputs": [],
   "source": [
    "# keeping only the columns with voltages (i.e. skipping \"step\", etc.)\n",
    "ycols = [col for col in df_file_one.columns if col.find(\"point\") >= 0]\n",
    "\n",
    "# removing the first ocv rlx (relaxation before starting cycling)\n",
    "df = df_file_one.iloc[1:, :]\n",
    "df.head()\n",
    "\n",
    "# tidy format\n",
    "df = df.melt(id_vars=\"cycle\", var_name=\"point\", value_vars=ycols, value_name=\"voltage\")\n",
    "df"
   ]
  },
  {
   "cell_type": "code",
   "execution_count": null,
   "metadata": {},
   "outputs": [],
   "source": [
    "curve = (\n",
    "    hv.Curve(df, kdims=[\"cycle\", \"point\"], vdims=\"voltage\")\n",
    "    .groupby(\"point\")\n",
    "    .overlay()\n",
    "    .opts(xlim=(1, 100), width=800)\n",
    ")\n",
    "scatter = (\n",
    "    hv.Scatter(df, kdims=[\"cycle\", \"point\"], vdims=\"voltage\")\n",
    "    .groupby(\"point\")\n",
    "    .overlay()\n",
    "    .opts(\n",
    "        # xlim=(1,10), ylim=(0.7,1)\n",
    "    )\n",
    ")"
   ]
  },
  {
   "cell_type": "code",
   "execution_count": null,
   "metadata": {},
   "outputs": [],
   "source": [
    "layout = hv.Layout(curve * scatter)\n",
    "layout.cols(1)"
   ]
  },
  {
   "cell_type": "markdown",
   "metadata": {},
   "source": [
    "## Looking closer at some summary-plots"
   ]
  },
  {
   "cell_type": "code",
   "execution_count": null,
   "metadata": {},
   "outputs": [],
   "source": [
    "b.summary_columns"
   ]
  },
  {
   "cell_type": "code",
   "execution_count": null,
   "metadata": {},
   "outputs": [],
   "source": [
    "discharge_capacity = b.summaries.discharge_capacity\n",
    "charge_capacity = b.summaries.charge_capacity\n",
    "coulombic_efficiency = b.summaries.coulombic_efficiency\n",
    "ir_charge = b.summaries.ir_charge"
   ]
  },
  {
   "cell_type": "code",
   "execution_count": null,
   "metadata": {},
   "outputs": [],
   "source": [
    "fig, (ax1, ax2) = plt.subplots(2, 1)\n",
    "ax1.plot(discharge_capacity)\n",
    "ax1.set_ylabel(\"capacity \")\n",
    "ax2.plot(ir_charge)\n",
    "ax2.set_xlabel(\"cycle\")\n",
    "ax2.set_ylabel(\"resistance\")"
   ]
  },
  {
   "cell_type": "markdown",
   "metadata": {},
   "source": [
    "# 5. Checking for more details per cycle"
   ]
  },
  {
   "cell_type": "markdown",
   "metadata": {},
   "source": [
    "#### A. pick the CellpyData object for one of the cells"
   ]
  },
  {
   "cell_type": "code",
   "execution_count": null,
   "metadata": {},
   "outputs": [],
   "source": [
    "# Lets check what cells we have\n",
    "cell_labels = b.experiment.cell_names\n",
    "cell_labels"
   ]
  },
  {
   "cell_type": "code",
   "execution_count": null,
   "metadata": {},
   "outputs": [],
   "source": [
    "# OK, then I choose one of them\n",
    "data = b.experiment.data[\"20190204_FC_snx012_01_cc_01\"]"
   ]
  },
  {
   "cell_type": "markdown",
   "metadata": {},
   "source": [
    "#### B. Get some voltage curves for some cycles and plot them\n",
    "The method `get_cap` can be used to extract voltage curves."
   ]
  },
  {
   "cell_type": "code",
   "execution_count": null,
   "metadata": {},
   "outputs": [],
   "source": [
    "cap = data.get_cap(categorical_column=True)\n",
    "cap.head()"
   ]
  },
  {
   "cell_type": "code",
   "execution_count": null,
   "metadata": {},
   "outputs": [],
   "source": [
    "fig, ax = plt.subplots()\n",
    "ax.plot(cap.capacity, cap.voltage)\n",
    "ax.set_xlabel(\"capacity\")\n",
    "ax.set_ylabel(\"voltage\")"
   ]
  },
  {
   "cell_type": "code",
   "execution_count": null,
   "metadata": {},
   "outputs": [],
   "source": [
    "cv = data.get_cap(method=\"forth\")\n",
    "fig, ax = plt.subplots()\n",
    "ax.set_xlabel(\"capacity\")\n",
    "ax.set_ylabel(\"voltage\")\n",
    "ax.plot(cv.capacity, cv.voltage)"
   ]
  },
  {
   "cell_type": "code",
   "execution_count": null,
   "metadata": {},
   "outputs": [],
   "source": [
    "c4 = data.get_cap(cycle=4, method=\"forth-and-forth\")\n",
    "c10 = data.get_cap(cycle=10, method=\"forth-and-forth\")\n",
    "fig, ax = plt.subplots()\n",
    "ax.set_xlabel(\"capacity\")\n",
    "ax.set_ylabel(\"voltage\")\n",
    "ax.plot(c4.capacity, c4.voltage, \"ro\", label=\"cycle 4\")\n",
    "ax.plot(c10.capacity, c10.voltage, \"bs\", label=\"cycle 22\")\n",
    "ax.legend();"
   ]
  },
  {
   "cell_type": "markdown",
   "metadata": {},
   "source": [
    "### Looking at some dqdv data"
   ]
  },
  {
   "cell_type": "markdown",
   "metadata": {},
   "source": [
    "#### Get capacity cycles and make dqdv using the ica module"
   ]
  },
  {
   "cell_type": "code",
   "execution_count": null,
   "metadata": {},
   "outputs": [],
   "source": [
    "from cellpy.utils import ica\n",
    "\n",
    "v4, dqdv4 = ica.dqdv_cycle(\n",
    "    data.get_cap(4, categorical_column=True, method=\"forth-and-forth\")\n",
    ")\n",
    "\n",
    "v10, dqdv10 = ica.dqdv_cycle(\n",
    "    data.get_cap(10, categorical_column=True, method=\"forth-and-forth\")\n",
    ")\n",
    "\n",
    "plt.plot(v4, dqdv4, label=\"cycle 4\")\n",
    "plt.plot(v10, dqdv10, label=\"cycle 10\")\n",
    "plt.legend();"
   ]
  },
  {
   "cell_type": "markdown",
   "metadata": {},
   "source": [
    "#### Put it in a for-loop for plotting many ica plots"
   ]
  },
  {
   "cell_type": "code",
   "execution_count": null,
   "metadata": {},
   "outputs": [],
   "source": [
    "fig, ax = plt.subplots()\n",
    "for cycle in data.get_cycle_numbers():\n",
    "    d = data.get_cap(cycle, categorical_column=True, method=\"forth-and-forth\")\n",
    "    if not d.empty:\n",
    "        v, dqdv = ica.dqdv_cycle(d)\n",
    "        ax.plot(v, dqdv)\n",
    "    else:\n",
    "        print(f\"cycle {cycle} seems to be missing or corrupted\")"
   ]
  },
  {
   "cell_type": "markdown",
   "metadata": {},
   "source": [
    "### Get all the dqdv data in one go"
   ]
  },
  {
   "cell_type": "code",
   "execution_count": null,
   "metadata": {},
   "outputs": [],
   "source": [
    "hv.extension(\"bokeh\")"
   ]
  },
  {
   "cell_type": "code",
   "execution_count": null,
   "metadata": {},
   "outputs": [],
   "source": [
    "tidy_ica = ica.dqdv_frames(data)\n",
    "cycles = list(range(2, 10)) + [20, 50, 100, 300]\n",
    "tidy_ica = tidy_ica.loc[tidy_ica.cycle.isin(cycles), :]"
   ]
  },
  {
   "cell_type": "code",
   "execution_count": null,
   "metadata": {},
   "outputs": [],
   "source": [
    "%%opts Curve [xlim=(2.8,4.4), ylim=(-30000, 30000)] (color=hv.Palette('Magma'), alpha=0.9) NdOverlay [legend_position='right', width=800, height=500]\n",
    "curve4 = (hv.Curve(tidy_ica, kdims=['voltage'], vdims=['dq', 'cycle'], label=\"Incremental capacity plot\")\n",
    "          .groupby(\"cycle\")\n",
    "          .overlay()\n",
    "         )\n",
    "curve4\n"
   ]
  },
  {
   "cell_type": "code",
   "execution_count": null,
   "metadata": {},
   "outputs": [],
   "source": []
  },
  {
   "cell_type": "code",
   "execution_count": null,
   "metadata": {},
   "outputs": [],
   "source": []
  }
 ],
 "metadata": {
  "kernelspec": {
   "display_name": "Python 3",
   "language": "python",
   "name": "python3"
  },
  "language_info": {
   "codemirror_mode": {
    "name": "ipython",
    "version": 3
   },
   "file_extension": ".py",
   "mimetype": "text/x-python",
   "name": "python",
   "nbconvert_exporter": "python",
   "pygments_lexer": "ipython3",
   "version": "3.8.2"
  }
 },
 "nbformat": 4,
 "nbformat_minor": 4
}
