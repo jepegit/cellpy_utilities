{
 "cells": [
  {
   "cell_type": "markdown",
   "metadata": {},
   "source": [
    "# Create journals\n",
    "\n",
    "We need some more ways to create the journals for the batch runs. Currently, these methods are supported:\n",
    "- b.from_db()\n",
    "- b.from_file(filename)\n",
    "\n",
    "\n",
    "## Within the Journal class\n",
    "\n",
    "```python\n",
    "\n",
    "    def from_file(self, file_name=None):\n",
    "        \"\"\"Loads a DataFrame with all the needed info about the experiment\"\"\"\n",
    "\n",
    "        file_name = self._check_file_name(file_name)\n",
    "\n",
    "        with open(file_name, \"r\") as infile:\n",
    "            top_level_dict = json.load(infile)\n",
    "\n",
    "        pages_dict = top_level_dict[\"info_df\"]\n",
    "        pages = pd.DataFrame(pages_dict)\n",
    "        pages.cellpy_file_names = pages.cellpy_file_names.apply(self._fix_cellpy_paths)\n",
    "        self.pages = pages\n",
    "        self.file_name = file_name\n",
    "        self._prm_packer(top_level_dict[\"metadata\"])\n",
    "        self.generate_folder_names()\n",
    "        self.paginate()\n",
    "        \n",
    "```\n",
    "\n",
    "## Within the Batch class\n",
    "\n",
    "```python\n",
    "\n",
    "    def create_journal(self, description=None, from_db=True):\n",
    "        logging.debug(\"Creating a journal\")\n",
    "        logging.debug(f\"description: {description}\")\n",
    "        logging.debug(f\"from_db: {from_db}\")\n",
    "        # rename to: create_journal (combine this with function above)\n",
    "        logging.info(f\"name: {self.experiment.journal.name}\")\n",
    "        logging.info(f\"project: {self.experiment.journal.project}\")\n",
    "        if description is not None:\n",
    "            from_db = False\n",
    "        if from_db:\n",
    "            self.experiment.journal.from_db()\n",
    "            self.experiment.journal.to_file()\n",
    "\n",
    "        else:\n",
    "            # TODO: move this into the bacth journal class\n",
    "            if description is not None:\n",
    "                print(f\"Creating from {type(description)} is not implemented yet\")\n",
    "\n",
    "            logging.info(\"Creating an empty journal\")\n",
    "            logging.info(f\"name: {self.experiment.journal.name}\")\n",
    "            logging.info(f\"project: {self.experiment.journal.project}\")\n",
    "\n",
    "            self.experiment.journal.pages = pd.DataFrame(\n",
    "                columns=[\n",
    "                    \"filenames\",\n",
    "                    \"masses\",\n",
    "                    \"total_masses\",\n",
    "                    \"loadings\",\n",
    "                    \"fixed\",\n",
    "                    \"labels\",\n",
    "                    \"cell_type\",\n",
    "                    \"raw_file_names\",\n",
    "                    \"cellpy_file_names\",\n",
    "                    \"groups\",\n",
    "                    \"sub_groups\",\n",
    "                ]\n",
    "            )\n",
    "            self.experiment.journal.pages.set_index(\"filenames\", inplace=True)\n",
    "            self.experiment.journal.generate_folder_names()\n",
    "            self.experiment.journal.paginate()\n",
    "            \n",
    "```"
   ]
  },
  {
   "cell_type": "code",
   "execution_count": null,
   "metadata": {},
   "outputs": [],
   "source": [
    "%load_ext autoreload\n",
    "%autoreload 2"
   ]
  },
  {
   "cell_type": "code",
   "execution_count": null,
   "metadata": {},
   "outputs": [],
   "source": [
    "import os\n",
    "from pathlib import Path\n",
    "\n",
    "import numpy as np\n",
    "import pandas as pd\n",
    "import matplotlib.pyplot as plt\n",
    "\n",
    "import cellpy\n",
    "from cellpy import prms\n",
    "from cellpy import prmreader\n",
    "from cellpy.utils import batch\n",
    "import holoviews as hv\n",
    "\n",
    "%matplotlib inline\n",
    "hv.extension(\"bokeh\")"
   ]
  },
  {
   "cell_type": "code",
   "execution_count": null,
   "metadata": {},
   "outputs": [],
   "source": [
    "name = \"first\"\n",
    "project = \"ocv_tests\""
   ]
  },
  {
   "cell_type": "code",
   "execution_count": null,
   "metadata": {},
   "outputs": [],
   "source": [
    "print(\" INITIALISATION OF BATCH \".center(80, \"=\"))\n",
    "b = batch.init(name, project, default_log_level=\"INFO\")"
   ]
  },
  {
   "cell_type": "code",
   "execution_count": null,
   "metadata": {},
   "outputs": [],
   "source": [
    "p = b.experiment.journal.create_empty_pages()"
   ]
  },
  {
   "cell_type": "code",
   "execution_count": null,
   "metadata": {},
   "outputs": [],
   "source": [
    "filename = \"20190204_FC_snx012_01_cc_03\"\n",
    "mass = 0.5\n",
    "total_mass = 1.0\n",
    "loading = 0.1\n",
    "fixed = False\n",
    "label = \"fc_snx012_01\"\n",
    "cell_type = \"full_cell\"\n",
    "raw_file_name = [Path(\".\") / \"20190204_FC_snx012_01_cc_01.res\"]\n",
    "cellpy_file_name = Path(\".\") / \"20190204_FC_snx012_01_cc_01.h5\"\n",
    "group = 1\n",
    "sub_group = 1\n",
    "\n",
    "\n",
    "p.loc[filename] = [\n",
    "    mass,\n",
    "    total_mass,\n",
    "    loading,\n",
    "    fixed,\n",
    "    label,\n",
    "    cell_type,\n",
    "    raw_file_name,\n",
    "    cellpy_file_name,\n",
    "    group,\n",
    "    sub_group,\n",
    "]"
   ]
  },
  {
   "cell_type": "code",
   "execution_count": null,
   "metadata": {},
   "outputs": [],
   "source": [
    "p"
   ]
  },
  {
   "cell_type": "code",
   "execution_count": null,
   "metadata": {},
   "outputs": [],
   "source": [
    "b.pages = p"
   ]
  },
  {
   "cell_type": "code",
   "execution_count": null,
   "metadata": {},
   "outputs": [],
   "source": [
    "b.pages"
   ]
  },
  {
   "cell_type": "markdown",
   "metadata": {},
   "source": [
    "### Checking the ``create_journal`` function in ``Batch``"
   ]
  },
  {
   "cell_type": "code",
   "execution_count": null,
   "metadata": {},
   "outputs": [],
   "source": [
    "b2 = batch.init(default_log_level=\"DEBUG\")\n",
    "b2.experiment.journal.name = \"first\"\n",
    "b2.experiment.journal.project = \"ocv_tests\""
   ]
  },
  {
   "cell_type": "code",
   "execution_count": null,
   "metadata": {},
   "outputs": [],
   "source": [
    "# see if it finds files (str)\n",
    "b2.create_journal(\"creating_journals_by_different_methods.ipynb\")"
   ]
  },
  {
   "cell_type": "code",
   "execution_count": null,
   "metadata": {},
   "outputs": [],
   "source": [
    "# see if it finds files (pathlib.Path)\n",
    "b2.create_journal(Path(\"creating_journals_by_different_methods.ipynb\"))"
   ]
  },
  {
   "cell_type": "code",
   "execution_count": null,
   "metadata": {},
   "outputs": [],
   "source": []
  },
  {
   "cell_type": "markdown",
   "metadata": {},
   "source": [
    "### different methods"
   ]
  },
  {
   "cell_type": "markdown",
   "metadata": {},
   "source": [
    "#### dataframe"
   ]
  },
  {
   "cell_type": "code",
   "execution_count": null,
   "metadata": {},
   "outputs": [],
   "source": [
    "filename = \"20190204_FC_snx012_01_cc_03\"\n",
    "mass = 0.5\n",
    "total_mass = 1.0\n",
    "loading = 0.1\n",
    "fixed = False\n",
    "label = \"fc_snx012_01\"\n",
    "cell_type = \"full_cell\"\n",
    "raw_file_name = [Path(\".\") / \"20190204_FC_snx012_01_cc_01.res\"]\n",
    "cellpy_file_name = Path(\".\") / \"20190204_FC_snx012_01_cc_01.h5\"\n",
    "group = 1\n",
    "sub_group = 1\n",
    "\n",
    "d = {\n",
    "    \"filenames\": filename,\n",
    "    \"masses\": mass,\n",
    "    \"total_masses\": total_mass,\n",
    "    \"loadings\": loading,\n",
    "    \"fixed\": fixed,\n",
    "    \"labels\": label,\n",
    "    \"cell_type\": cell_type,\n",
    "    \"raw_file_names\": raw_file_name,\n",
    "    \"cellpy_file_names\": cellpy_file_name,\n",
    "    \"groups\": group,\n",
    "    \"sub_groups\": sub_group,\n",
    "}\n",
    "\n",
    "d2 = {\n",
    "    \"filenames\": [filename],\n",
    "    \"masses\": [mass],\n",
    "    \"total_masses\": [total_mass],\n",
    "    \"loadings\": [loading],\n",
    "    \"fixed\": [fixed],\n",
    "    \"labels\": [label],\n",
    "    \"cell_type\": [cell_type],\n",
    "    \"raw_file_names\": [raw_file_name],\n",
    "    \"cellpy_file_names\": [cellpy_file_name],\n",
    "    \"groups\": [group],\n",
    "    \"sub_groups\": [sub_group],\n",
    "}\n",
    "\n",
    "d3 = {\n",
    "    \"filenames\": [filename, filename + \"b\"],\n",
    "    \"masses\": [mass, 0.4],\n",
    "    \"total_masses\": [total_mass, 1.0],\n",
    "    \"loadings\": [loading, 0.2],\n",
    "    \"fixed\": [fixed, 1],\n",
    "    \"labels\": [label, \"JPM\"],\n",
    "    \"cell_type\": [cell_type, \"anode\"],\n",
    "    \"raw_file_names\": [raw_file_name, raw_file_name],\n",
    "    \"cellpy_file_names\": [cellpy_file_name, cellpy_file_name],\n",
    "    \"groups\": [group, 2],\n",
    "    \"sub_groups\": [sub_group, 1],\n",
    "}\n",
    "\n",
    "d4 = {\n",
    "    \"filenames\": [filename, filename + \"b\"],\n",
    "    \"masses\": [mass],  # Different length\n",
    "    \"total_masses\": [total_mass, 1.0],\n",
    "    \"loadings\": [loading, 0.2],\n",
    "    \"fixed\": [fixed, 1],\n",
    "    \"labels\": [label, \"JPM\"],\n",
    "    \"cell_type\": [cell_type, \"anode\"],\n",
    "    \"raw_file_names\": [raw_file_name, raw_file_name],\n",
    "    \"cellpy_file_names\": [cellpy_file_name, cellpy_file_name],\n",
    "    \"groups\": [group, 2],\n",
    "    \"sub_groups\": [sub_group, 1],\n",
    "}  # this should fail\n",
    "\n",
    "d5 = {\n",
    "    \"filenames\": [filename, filename + \"b\"],\n",
    "    \"masses\": [mass, 0.2],  # Different length\n",
    "    \"total_masses\": [total_mass, 1.0],\n",
    "    \"loadings\": [loading, 0.2],\n",
    "    # \"fixed\": [fixed, 1],\n",
    "    \"labels\": [label, \"JPM\"],\n",
    "    \"cell_type\": [cell_type, \"anode\"],\n",
    "    \"raw_file_names\": [raw_file_name, raw_file_name],\n",
    "    \"cellpy_file_names\": [cellpy_file_name, cellpy_file_name],\n",
    "    \"groups\": [group, 2],\n",
    "    \"sub_groups\": [sub_group, 1],\n",
    "}\n",
    "\n",
    "p = pd.DataFrame(d)\n",
    "p2 = pd.DataFrame(d2)\n",
    "p3 = pd.DataFrame(d3)\n",
    "p5 = pd.DataFrame(d5)"
   ]
  },
  {
   "cell_type": "code",
   "execution_count": null,
   "metadata": {},
   "outputs": [],
   "source": [
    "b3 = batch.init(name, project, default_log_level=\"DEBUG\")"
   ]
  },
  {
   "cell_type": "code",
   "execution_count": null,
   "metadata": {},
   "outputs": [],
   "source": [
    "b3.create_journal(d)\n",
    "b3.pages"
   ]
  },
  {
   "cell_type": "code",
   "execution_count": null,
   "metadata": {},
   "outputs": [],
   "source": [
    "b3.create_journal(d2)\n",
    "b3.pages"
   ]
  },
  {
   "cell_type": "code",
   "execution_count": null,
   "metadata": {},
   "outputs": [],
   "source": [
    "b3.create_journal(d3)\n",
    "b3.pages"
   ]
  },
  {
   "cell_type": "code",
   "execution_count": null,
   "metadata": {},
   "outputs": [],
   "source": [
    "b3.create_journal(d5)\n",
    "b3.pages"
   ]
  },
  {
   "cell_type": "code",
   "execution_count": null,
   "metadata": {},
   "outputs": [],
   "source": [
    "b3.create_journal(p)\n",
    "b3.pages"
   ]
  },
  {
   "cell_type": "code",
   "execution_count": null,
   "metadata": {},
   "outputs": [],
   "source": [
    "b3.create_journal(p2)\n",
    "b3.pages"
   ]
  },
  {
   "cell_type": "code",
   "execution_count": null,
   "metadata": {},
   "outputs": [],
   "source": [
    "b3.create_journal(p3)\n",
    "b3.pages"
   ]
  },
  {
   "cell_type": "code",
   "execution_count": null,
   "metadata": {},
   "outputs": [],
   "source": [
    "b3.create_journal(p5)\n",
    "b3.pages"
   ]
  },
  {
   "cell_type": "code",
   "execution_count": null,
   "metadata": {},
   "outputs": [],
   "source": []
  }
 ],
 "metadata": {
  "kernelspec": {
   "display_name": "cellpy",
   "language": "python",
   "name": "cellpy"
  },
  "language_info": {
   "codemirror_mode": {
    "name": "ipython",
    "version": 3
   },
   "file_extension": ".py",
   "mimetype": "text/x-python",
   "name": "python",
   "nbconvert_exporter": "python",
   "pygments_lexer": "ipython3",
   "version": "3.7.2"
  }
 },
 "nbformat": 4,
 "nbformat_minor": 4
}
