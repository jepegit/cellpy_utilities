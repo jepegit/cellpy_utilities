{
 "cells": [
  {
   "cell_type": "markdown",
   "metadata": {},
   "source": [
    "# Cellpy tweaking\n",
    "Notebook for testing ideas and check stuff.\n",
    "\n",
    "*Remember to run the notebook in the correct environment (for conda, issue* `conda install nb_conda` *to be able to switch environments).*"
   ]
  },
  {
   "cell_type": "code",
   "execution_count": null,
   "metadata": {},
   "outputs": [],
   "source": [
    "import os\n",
    "import sys\n",
    "import matplotlib.pyplot as plt\n",
    "\n",
    "%matplotlib inline"
   ]
  },
  {
   "cell_type": "code",
   "execution_count": null,
   "metadata": {},
   "outputs": [],
   "source": [
    "import cellpy.parameters.prms as prms\n",
    "from cellpy import cellreader"
   ]
  },
  {
   "cell_type": "code",
   "execution_count": null,
   "metadata": {},
   "outputs": [],
   "source": [
    "from cellpy import log\n",
    "\n",
    "log.setup_logging(default_level=\"DEBUG\")"
   ]
  },
  {
   "cell_type": "markdown",
   "metadata": {},
   "source": [
    "## Some digging into the cellpy structure"
   ]
  },
  {
   "cell_type": "code",
   "execution_count": null,
   "metadata": {},
   "outputs": [],
   "source": [
    "# print settings\n",
    "prm_dicts = [d for d in dir(prms) if not d.startswith(\"_\")]\n",
    "\n",
    "for d in prm_dicts:\n",
    "    if isinstance(getattr(prms, d), (dict,)) and not d.startswith(\"excel\"):\n",
    "        print(f\"\\n--------------------{d}----------------------\")\n",
    "        for variable in getattr(prms, d):\n",
    "            print(f\"{variable}: \", end=\"\")\n",
    "            print(eval(\"prms.%s['%s']\" % (d, variable)))"
   ]
  },
  {
   "cell_type": "markdown",
   "metadata": {},
   "source": [
    "## Defining filenames etc"
   ]
  },
  {
   "cell_type": "code",
   "execution_count": null,
   "metadata": {},
   "outputs": [],
   "source": [
    "current_file_path = os.getcwd()\n",
    "relative_test_data_dir = \"../testdata\"\n",
    "test_data_dir = os.path.abspath(os.path.join(current_file_path, relative_test_data_dir))\n",
    "test_data_dir_raw = os.path.join(test_data_dir, \"data\")\n",
    "test_res_file = \"20160805_test001_45_cc_01.res\"\n",
    "test_res_file_full = os.path.join(test_data_dir_raw, test_res_file)\n",
    "test_data_dir_out = os.path.join(test_data_dir, \"out\")\n",
    "test_data_dir_cellpy = os.path.join(test_data_dir, \"hdf5\")\n",
    "test_cellpy_file = \"20160805_test001_45_cc.h5\"\n",
    "test_cellpy_file_tmp = \"tmpfile.h5\"\n",
    "test_cellpy_file_full = os.path.join(test_data_dir_cellpy, test_cellpy_file)\n",
    "test_cellpy_file_tmp_full = os.path.join(test_data_dir_cellpy, test_cellpy_file_tmp)\n",
    "test_run_name = \"20160805_test001_45_cc\""
   ]
  },
  {
   "cell_type": "code",
   "execution_count": null,
   "metadata": {},
   "outputs": [],
   "source": [
    "assert os.path.isfile(test_res_file_full)\n",
    "assert os.path.isfile(test_cellpy_file_full)\n",
    "assert os.path.isdir(test_data_dir)\n",
    "# os.listdir(test_data_dir)"
   ]
  },
  {
   "cell_type": "markdown",
   "metadata": {},
   "source": [
    "## Loading and looking at what we got"
   ]
  },
  {
   "cell_type": "code",
   "execution_count": null,
   "metadata": {},
   "outputs": [],
   "source": [
    "celldata = cellreader.CellpyData()\n",
    "# celldata.from_raw(test_res_file_full)\n",
    "# celldata.set_mass(0.34)\n",
    "celldata.load(test_cellpy_file_full)"
   ]
  },
  {
   "cell_type": "code",
   "execution_count": null,
   "metadata": {},
   "outputs": [],
   "source": [
    "data = celldata.cell"
   ]
  },
  {
   "cell_type": "code",
   "execution_count": null,
   "metadata": {},
   "outputs": [],
   "source": [
    "for x in dir(data):\n",
    "    if not x.startswith(\"__\"):\n",
    "        if not x in [\"summary\", \"raw\", \"steps\"]:\n",
    "            print(f\"{x}: {getattr(data,x)}\")"
   ]
  },
  {
   "cell_type": "code",
   "execution_count": null,
   "metadata": {},
   "outputs": [],
   "source": [
    "data.summary.head()"
   ]
  },
  {
   "cell_type": "code",
   "execution_count": null,
   "metadata": {
    "scrolled": true
   },
   "outputs": [],
   "source": [
    "data.raw.head()"
   ]
  },
  {
   "cell_type": "code",
   "execution_count": null,
   "metadata": {},
   "outputs": [],
   "source": [
    "data.steps.head()"
   ]
  },
  {
   "cell_type": "code",
   "execution_count": null,
   "metadata": {
    "scrolled": true
   },
   "outputs": [],
   "source": [
    "celldata.make_summary()"
   ]
  },
  {
   "cell_type": "code",
   "execution_count": null,
   "metadata": {},
   "outputs": [],
   "source": [
    "print(data.summary_made)"
   ]
  },
  {
   "cell_type": "markdown",
   "metadata": {},
   "source": [
    "dfsummary_made is wrong in the cellpyfile"
   ]
  },
  {
   "cell_type": "markdown",
   "metadata": {},
   "source": [
    "## Task 1: capacity voltage curves\n",
    "Would like to make it possible to chose how the voltage curves are presented."
   ]
  },
  {
   "cell_type": "code",
   "execution_count": null,
   "metadata": {},
   "outputs": [],
   "source": [
    "# lets see what cycles we have\n",
    "cycles = celldata.get_cycle_numbers()\n",
    "print(cycles)"
   ]
  },
  {
   "cell_type": "code",
   "execution_count": null,
   "metadata": {},
   "outputs": [],
   "source": []
  }
 ],
 "metadata": {
  "kernelspec": {
   "display_name": "cellpy",
   "language": "python",
   "name": "cellpy"
  },
  "language_info": {
   "codemirror_mode": {
    "name": "ipython",
    "version": 3
   },
   "file_extension": ".py",
   "mimetype": "text/x-python",
   "name": "python",
   "nbconvert_exporter": "python",
   "pygments_lexer": "ipython3",
   "version": "3.7.4"
  }
 },
 "nbformat": 4,
 "nbformat_minor": 4
}
