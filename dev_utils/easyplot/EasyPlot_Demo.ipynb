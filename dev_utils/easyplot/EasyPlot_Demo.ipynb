{
 "cells": [
  {
   "cell_type": "markdown",
   "id": "6a014024",
   "metadata": {},
   "source": [
    "# Easyplot user guide\n",
    "\n",
    "Easyplot is a submodule found in the utils of cellpy. It takes a list of filenames and plots these corresponding to the users input configuration. Please follow the example below to learn how to use it."
   ]
  },
  {
   "cell_type": "markdown",
   "id": "4e759a77",
   "metadata": {},
   "source": [
    "## 1: Import cellpy and easyplot"
   ]
  },
  {
   "cell_type": "code",
   "execution_count": 1,
   "id": "8943d041",
   "metadata": {},
   "outputs": [],
   "source": [
    "from cellpy.utils import easyplot"
   ]
  },
  {
   "cell_type": "markdown",
   "id": "4fa08fcf",
   "metadata": {},
   "source": [
    "## 2: Specify a list of datafiles\n",
    "You can insert different filetypes as long as they are supported by the automatic detection of cellpy. Currently, if you want to use data from an SQL database, you can only plot other data from the same database. In addition you must specify the server credentials. See step below.\n",
    "If the file you want is in an arbin SQL database, insert the testname."
   ]
  },
  {
   "cell_type": "code",
   "execution_count": 2,
   "id": "6df02884",
   "metadata": {},
   "outputs": [],
   "source": [
    "files = [\n",
    "    # \"./data/raw/20160805_test001_45_cc_01.res\",\n",
    "    # \"./data/raw/20160805_test001_45_cc_01_copy.res\"# ,\n",
    "    # \"./data/20210430_seam10_01_01_cc_01_Channel_48_Wb_1.xlsx.csv# \",\n",
    "    # \"./data/20210430_seam10_01_02_cc_01_Channel_49_Wb_1.xlsx.cs# v\",\n",
    "    # \"20210630_seam13_03_02_cc_# 01\",\n",
    "    # \"20210630_seam13_03_03_cc# _01\",     #       \"20210630_seam13_04_01_c# c_01\n",
    "    #        \"20210630_seam13_04_02_# cc_01\",\n",
    "    # \"20210630_seam13_04_03_cc_01\",\n",
    "]"
   ]
  },
  {
   "cell_type": "markdown",
   "id": "e6723c34",
   "metadata": {},
   "source": [
    "## 3: Spawn easyplot object with desired settings\r\n",
    "All possible settings can be printed by running \r\n",
    "```easyplot.help()```"
   ]
  },
  {
   "cell_type": "code",
   "execution_count": 3,
   "id": "cc0b88be",
   "metadata": {},
   "outputs": [
    {
     "name": "stdout",
     "output_type": "stream",
     "text": [
      "The easyplot extension to cellpy aims to easily plot data in a pretty manner.\n",
      "In order to use this function, you must import cellpy, and easyplot from cellpy.utils.\n",
      "\n",
      "Usage:\n",
      "Create list of datafiles you want to plot on the following format:\n",
      "\n",
      "files = [\n",
      "\t'./folder/filename.ext',\n",
      "\t'./folder/filename2.ext',\n",
      "\t]\n",
      "\n",
      "And then call the easyplot.plot function with the files list as the first parameter, and any optional keyword arguments.\n",
      "Here is an example of the use of all keyword arguments:\n",
      "\tcyclelife_plot = True,\n",
      "\tcyclelife_separate_data = False,\n",
      "\tcyclelife_percentage = False,\n",
      "\tcyclelife_coulombic_efficiency = False,\n",
      "\tcyclelife_coulombic_efficiency_ylabel = 'Coulombic efficiency [%]',\n",
      "\tcyclelife_charge_c_rate = False,\n",
      "\tcyclelife_discharge_c_rate = False,\n",
      "\tcyclelife_c_rate_ylabel = 'Effective C-rate',\n",
      "\tcyclelife_ir = False,\n",
      "\tcyclelife_xlabel = 'Cycles',\n",
      "\tcyclelife_ylabel = 'Capacity $\\left[\\frac{mAh}{g}\\right]$',\n",
      "\tcyclelife_ylabel_percent = 'Capacity retention [%]',\n",
      "\tcyclelife_legend_outside = False,\n",
      "\tcyclelife_degradation_slope = False,\n",
      "\tcapacity_determination_from_ratecap = False,\n",
      "\tgalvanostatic_plot = True,\n",
      "\tgalvanostatic_potlim = None,\n",
      "\tgalvanostatic_caplim = None,\n",
      "\tgalvanostatic_xlabel = 'Capacity $\\left[\\frac{mAh}{g}\\right]$',\n",
      "\tgalvanostatic_ylabel = 'Cell potential [V]',\n",
      "\tgalvanostatic_normalize_capacity = False,\n",
      "\tdqdv_plot = False,\n",
      "\tdqdv_potlim = None,\n",
      "\tdqdv_dqlim = None,\n",
      "\tdqdv_xlabel = 'dQ/dV $\\left[\\frac{mAh}{gV}\\right]$',\n",
      "\tdqdv_ylabel = 'Cell potential [V]',\n",
      "\tspecific_cycles = None,\n",
      "\texclude_cycles = None,\n",
      "\tall_in_one = False,\n",
      "\tonly_dischg = False,\n",
      "\tonly_chg = False,\n",
      "\toutpath = './',\n",
      "\touttype = '.png',\n",
      "\toutname = None,\n",
      "\tfigsize = (6, 4),\n",
      "\tfigres = 100,\n",
      "\tfigtitle = 'Title',\n",
      "\n"
     ]
    }
   ],
   "source": [
    "easyplot.help()"
   ]
  },
  {
   "cell_type": "code",
   "execution_count": 4,
   "id": "84421700",
   "metadata": {},
   "outputs": [],
   "source": [
    "ezplt = easyplot.EasyPlot(\n",
    "    files,\n",
    "    None,\n",
    "    cyclelife_plot=True,\n",
    "    cyclelife_percentage=False,\n",
    "    cyclelife_coulombic_efficiency=True,\n",
    "    cyclelife_coulombic_efficiency_ylabel=\"Coulombic efficiency [%]\",\n",
    "    cyclelife_xlabel=\"Cycles\",\n",
    "    cyclelife_ylabel=r\"Capacity $\\left[\\frac{mAh}{g}\\right]$\",\n",
    "    cyclelife_ylabel_percent=\"Capacity retention [%]\",\n",
    "    cyclelife_legend_outside=True,  # if True, the legend is placed outside the plot\n",
    "    galvanostatic_plot=True,\n",
    "    galvanostatic_potlim=(0, 1),  # min and max limit on potential-axis\n",
    "    galvanostatic_caplim=None,\n",
    "    galvanostatic_xlabel=r\"Capacity $\\left[\\frac{mAh}{g}\\right]$\",\n",
    "    galvanostatic_ylabel=\"Cell potential [V]\",\n",
    "    dqdv_plot=True,\n",
    "    dqdv_potlim=None,  # min and max limit on potential-axis\n",
    "    dqdv_dqlim=None,\n",
    "    dqdv_xlabel=\"Cell potential [V]\",\n",
    "    dqdv_ylabel=r\"dQ/dV $\\left[\\frac{mAh}{gV}\\right]$\",\n",
    "    specific_cycles=None,  # []\n",
    "    exclude_cycles=[1, 2],\n",
    "    all_in_one=False,\n",
    "    # only_dischg = True,\n",
    "    only_chg=False,\n",
    "    outpath=\"./ezplots/deleteme/\",\n",
    "    figsize=(6, 4),  # 6 inches wide, 4 inches tall\n",
    "    figres=100,  # Dots per inch\n",
    "    figtitle=None,  # None = original filepath\n",
    ")"
   ]
  },
  {
   "cell_type": "markdown",
   "id": "ffd1696e",
   "metadata": {},
   "source": [
    "## 3a: SQL settings\n",
    "If you want to use the Arbin SQL database reader, you must insert the necessary details. This is done by the easyplot function *set_arbin_sql_credentials*\n",
    "\\\n",
    "```easyplot.set_arbin_sql_credentials(<IP Address>, <Username>, <Password>, <SQL driver type>)```"
   ]
  },
  {
   "cell_type": "code",
   "execution_count": 5,
   "id": "5d3eecc7",
   "metadata": {},
   "outputs": [],
   "source": [
    "ezplt.set_arbin_sql_credentials(\"localhost\", \"sa\", \"Amund1234\", \"SQL Server\")"
   ]
  },
  {
   "cell_type": "markdown",
   "id": "2eefd63d",
   "metadata": {},
   "source": [
    "## 4: Run easyplot!"
   ]
  },
  {
   "cell_type": "code",
   "execution_count": 6,
   "id": "1ff81896",
   "metadata": {
    "scrolled": true
   },
   "outputs": [
    {
     "name": "stdout",
     "output_type": "stream",
     "text": [
      "Saving to: ./ezplots/deleteme/_Cyclelife.png\n"
     ]
    },
    {
     "data": {
      "image/png": "[encoded data removed]",
      "text/plain": [
       "<Figure size 648x288 with 2 Axes>"
      ]
     },
     "metadata": {
      "needs_background": "light"
     },
     "output_type": "display_data"
    }
   ],
   "source": [
    "ezplt.plot()"
   ]
  },
  {
   "cell_type": "code",
   "execution_count": null,
   "id": "60134f03",
   "metadata": {},
   "outputs": [],
   "source": []
  }
 ],
 "metadata": {
  "interpreter": {
   "hash": "4a02c3eb08d3199cb8b960f028735a47c71b8fa4df04632ef586c170c1d0d8c5"
  },
  "kernelspec": {
   "display_name": "cellpy",
   "language": "python",
   "name": "python3"
  },
  "language_info": {
   "codemirror_mode": {
    "name": "ipython",
    "version": 3
   },
   "file_extension": ".py",
   "mimetype": "text/x-python",
   "name": "python",
   "nbconvert_exporter": "python",
   "pygments_lexer": "ipython3",
   "version": "3.8.8"
  }
 },
 "nbformat": 4,
 "nbformat_minor": 5
}
