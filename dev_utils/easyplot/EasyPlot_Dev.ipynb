{
 "cells": [
  {
   "cell_type": "code",
   "execution_count": 1,
   "id": "1ca9e98f-e159-4155-880f-7320c62be6e0",
   "metadata": {},
   "outputs": [],
   "source": [
    "%load_ext autoreload\n",
    "%autoreload 2"
   ]
  },
  {
   "cell_type": "code",
   "execution_count": 2,
   "id": "e769d4ac-458c-43fb-bfc3-6c636c1d84ae",
   "metadata": {},
   "outputs": [],
   "source": [
    "from pathlib import Path\n",
    "from cellpy.utils import easyplot\n",
    "\n",
    "\n",
    "from cellpy import prms\n",
    "from cellpy.utils.batch_tools.batch_journals import LabJournal"
   ]
  },
  {
   "cell_type": "code",
   "execution_count": null,
   "id": "ca931efc-4dbb-4d08-8fa5-d6446d073c05",
   "metadata": {},
   "outputs": [],
   "source": [
    "f1 = Path(\"data/raw/20160805_test001_45_cc_01.res\")\n",
    "f2 = Path(\"data/raw/20160805_test001_45_cc_02.res\")"
   ]
  },
  {
   "cell_type": "code",
   "execution_count": null,
   "id": "ba4cb14c-ed20-4c66-be6c-868351cff1fe",
   "metadata": {},
   "outputs": [],
   "source": [
    "f1.is_file()"
   ]
  },
  {
   "cell_type": "code",
   "execution_count": null,
   "id": "3a6bb212-ef47-4123-bc5c-a590e89329cd",
   "metadata": {},
   "outputs": [],
   "source": [
    "f2.is_file()"
   ]
  },
  {
   "cell_type": "markdown",
   "id": "bc215b27-91e4-4192-b1f6-654047c9f3d6",
   "metadata": {},
   "source": [
    "# Checking standard usage"
   ]
  },
  {
   "cell_type": "code",
   "execution_count": null,
   "id": "2e6a21fa-07bc-48ef-8846-3bd55d3396dd",
   "metadata": {},
   "outputs": [],
   "source": [
    "files = [f1, f2]\n",
    "names = [f1.name, f2.name]"
   ]
  },
  {
   "cell_type": "code",
   "execution_count": null,
   "id": "2a3bef3e-6adc-402f-93b6-5c50d1e21dba",
   "metadata": {},
   "outputs": [],
   "source": [
    "ezplt = easyplot.EasyPlot(files, names, figtitle=\"Test1\")"
   ]
  },
  {
   "cell_type": "code",
   "execution_count": null,
   "id": "5f4a377b-373b-4318-bfde-c39f32bae056",
   "metadata": {},
   "outputs": [],
   "source": [
    "ezplt.plot()"
   ]
  },
  {
   "cell_type": "markdown",
   "id": "1aca4546-a757-4b08-80a6-4818d86d944c",
   "metadata": {},
   "source": [
    "### NOTE\n",
    "- easyplot crashes if nicknames are not given"
   ]
  },
  {
   "cell_type": "code",
   "execution_count": null,
   "id": "02753c33-21d1-4a4b-8bd2-e31b5bc48350",
   "metadata": {},
   "outputs": [],
   "source": [
    "easyplot.EasyPlot(\n",
    "    files,\n",
    "    names,\n",
    "    figtitle=\"Test2\",\n",
    "    galvanostatic_normalize_capacity=True,\n",
    "    all_in_one=True,\n",
    "    dqdv_plot=True,\n",
    ").plot()"
   ]
  },
  {
   "cell_type": "code",
   "execution_count": null,
   "id": "87a01d38-a15a-4566-88fd-08cc38ffd67c",
   "metadata": {},
   "outputs": [],
   "source": [
    "f1.with_name(f\"{f1.stem}_tmp.xlsx\")"
   ]
  },
  {
   "cell_type": "code",
   "execution_count": null,
   "id": "c07485ad-c1bf-421c-a3ab-0b48e6aba4ff",
   "metadata": {},
   "outputs": [],
   "source": [
    "easyplot.help()"
   ]
  },
  {
   "cell_type": "markdown",
   "id": "626eac0e-a8b9-4172-bc4c-14ff664df19e",
   "metadata": {},
   "source": [
    "## Loading journal"
   ]
  },
  {
   "cell_type": "code",
   "execution_count": 3,
   "id": "cf555a64-8580-4e77-9594-3a7d97ed49d5",
   "metadata": {},
   "outputs": [],
   "source": [
    "journal_file = Path(\"../../dev_data/db/test_journal.xlsx\")"
   ]
  },
  {
   "cell_type": "code",
   "execution_count": 4,
   "id": "18ef08d8-48d0-49bb-8718-37036cf0ae17",
   "metadata": {},
   "outputs": [
    {
     "data": {
      "text/plain": [
       "True"
      ]
     },
     "execution_count": 4,
     "metadata": {},
     "output_type": "execute_result"
    }
   ],
   "source": [
    "journal_file.is_file()"
   ]
  },
  {
   "cell_type": "code",
   "execution_count": 5,
   "id": "b61f686c-6fc4-43bd-81a6-ea64c9d036e1",
   "metadata": {},
   "outputs": [],
   "source": [
    "j = LabJournal(db_reader=None)"
   ]
  },
  {
   "cell_type": "code",
   "execution_count": 6,
   "id": "0902b4ab-e732-4bac-960b-7078f18c58e5",
   "metadata": {},
   "outputs": [
    {
     "name": "stderr",
     "output_type": "stream",
     "text": [
      "CRITICAL:root:no session found in your journal file\n"
     ]
    }
   ],
   "source": [
    "j.from_file(journal_file, paginate=False)"
   ]
  },
  {
   "cell_type": "code",
   "execution_count": 7,
   "id": "b2d4c4d1-5885-4361-93bb-a8e99254c766",
   "metadata": {},
   "outputs": [
    {
     "data": {
      "text/html": [
       "<div>\n",
       "<style scoped>\n",
       "    .dataframe tbody tr th:only-of-type {\n",
       "        vertical-align: middle;\n",
       "    }\n",
       "\n",
       "    .dataframe tbody tr th {\n",
       "        vertical-align: top;\n",
       "    }\n",
       "\n",
       "    .dataframe thead th {\n",
       "        text-align: right;\n",
       "    }\n",
       "</style>\n",
       "<table border=\"1\" class=\"dataframe\">\n",
       "  <thead>\n",
       "    <tr style=\"text-align: right;\">\n",
       "      <th></th>\n",
       "      <th>keep</th>\n",
       "      <th>id_key</th>\n",
       "      <th>mass</th>\n",
       "      <th>total_mass</th>\n",
       "      <th>loading</th>\n",
       "      <th>nom_cap</th>\n",
       "      <th>experiment</th>\n",
       "      <th>cell_type</th>\n",
       "      <th>instrument</th>\n",
       "      <th>comment</th>\n",
       "      <th>fixed</th>\n",
       "      <th>label</th>\n",
       "      <th>cellpy_file_name</th>\n",
       "      <th>raw_file_names</th>\n",
       "      <th>group</th>\n",
       "      <th>sub_group</th>\n",
       "    </tr>\n",
       "    <tr>\n",
       "      <th>filename</th>\n",
       "      <th></th>\n",
       "      <th></th>\n",
       "      <th></th>\n",
       "      <th></th>\n",
       "      <th></th>\n",
       "      <th></th>\n",
       "      <th></th>\n",
       "      <th></th>\n",
       "      <th></th>\n",
       "      <th></th>\n",
       "      <th></th>\n",
       "      <th></th>\n",
       "      <th></th>\n",
       "      <th></th>\n",
       "      <th></th>\n",
       "      <th></th>\n",
       "    </tr>\n",
       "  </thead>\n",
       "  <tbody>\n",
       "    <tr>\n",
       "      <th>test001</th>\n",
       "      <td>1.0</td>\n",
       "      <td>1.0</td>\n",
       "      <td>0.510262</td>\n",
       "      <td>2.8175</td>\n",
       "      <td>0.956369</td>\n",
       "      <td>2970.0</td>\n",
       "      <td>cycling</td>\n",
       "      <td>anode</td>\n",
       "      <td>arbin_res</td>\n",
       "      <td>test</td>\n",
       "      <td>0.0</td>\n",
       "      <td>cell001</td>\n",
       "      <td>data\\cellpyfiles\\20160805_test001_45_cc_01.cellpy</td>\n",
       "      <td>data/raw/20160805_test001_45_cc_01.res</td>\n",
       "      <td>1.0</td>\n",
       "      <td>1.0</td>\n",
       "    </tr>\n",
       "    <tr>\n",
       "      <th>test002</th>\n",
       "      <td>1.0</td>\n",
       "      <td>2.0</td>\n",
       "      <td>0.454388</td>\n",
       "      <td>2.5375</td>\n",
       "      <td>0.861326</td>\n",
       "      <td>2926.0</td>\n",
       "      <td>cycling</td>\n",
       "      <td>anode</td>\n",
       "      <td>arbin_res</td>\n",
       "      <td>test</td>\n",
       "      <td>0.0</td>\n",
       "      <td>cell002</td>\n",
       "      <td>data\\cellpyfiles\\20160805_test001_45_cc_02.cellpy</td>\n",
       "      <td>data/raw/20160805_test001_45_cc_02.res</td>\n",
       "      <td>1.0</td>\n",
       "      <td>2.0</td>\n",
       "    </tr>\n",
       "    <tr>\n",
       "      <th>test003</th>\n",
       "      <td>1.0</td>\n",
       "      <td>3.0</td>\n",
       "      <td>0.495843</td>\n",
       "      <td>2.6975</td>\n",
       "      <td>0.915636</td>\n",
       "      <td>3454.0</td>\n",
       "      <td>cycling</td>\n",
       "      <td>anode</td>\n",
       "      <td>arbin_res</td>\n",
       "      <td>test</td>\n",
       "      <td>0.0</td>\n",
       "      <td>cell003</td>\n",
       "      <td>data\\cellpyfiles\\20160805_test001_45_cc_03.cellpy</td>\n",
       "      <td>data/raw/20160805_test001_45_cc_03.res</td>\n",
       "      <td>1.0</td>\n",
       "      <td>3.0</td>\n",
       "    </tr>\n",
       "    <tr>\n",
       "      <th>test004</th>\n",
       "      <td>1.0</td>\n",
       "      <td>4.0</td>\n",
       "      <td>0.454388</td>\n",
       "      <td>2.8975</td>\n",
       "      <td>0.983475</td>\n",
       "      <td>3080.0</td>\n",
       "      <td>cycling</td>\n",
       "      <td>anode</td>\n",
       "      <td>arbin_res</td>\n",
       "      <td>test</td>\n",
       "      <td>0.0</td>\n",
       "      <td>cell004</td>\n",
       "      <td>data\\cellpyfiles\\20160805_test001_45_cc_04.cellpy</td>\n",
       "      <td>data/raw/20160805_test001_45_cc_04.res</td>\n",
       "      <td>1.0</td>\n",
       "      <td>4.0</td>\n",
       "    </tr>\n",
       "    <tr>\n",
       "      <th>test005</th>\n",
       "      <td>1.0</td>\n",
       "      <td>5.0</td>\n",
       "      <td>0.447178</td>\n",
       "      <td>2.7875</td>\n",
       "      <td>0.946138</td>\n",
       "      <td>3117.4</td>\n",
       "      <td>cycling</td>\n",
       "      <td>anode</td>\n",
       "      <td>arbin_res</td>\n",
       "      <td>test</td>\n",
       "      <td>0.0</td>\n",
       "      <td>cell005</td>\n",
       "      <td>data\\cellpyfiles\\20160805_test001_45_cc_05.cellpy</td>\n",
       "      <td>data/raw/20160805_test001_45_cc_05.res</td>\n",
       "      <td>2.0</td>\n",
       "      <td>1.0</td>\n",
       "    </tr>\n",
       "  </tbody>\n",
       "</table>\n",
       "</div>"
      ],
      "text/plain": [
       "          keep  id_key      mass  total_mass   loading  nom_cap experiment  \\\n",
       "filename                                                                     \n",
       "test001    1.0     1.0  0.510262      2.8175  0.956369   2970.0    cycling   \n",
       "test002    1.0     2.0  0.454388      2.5375  0.861326   2926.0    cycling   \n",
       "test003    1.0     3.0  0.495843      2.6975  0.915636   3454.0    cycling   \n",
       "test004    1.0     4.0  0.454388      2.8975  0.983475   3080.0    cycling   \n",
       "test005    1.0     5.0  0.447178      2.7875  0.946138   3117.4    cycling   \n",
       "\n",
       "         cell_type instrument comment  fixed    label  \\\n",
       "filename                                                \n",
       "test001      anode  arbin_res    test    0.0  cell001   \n",
       "test002      anode  arbin_res    test    0.0  cell002   \n",
       "test003      anode  arbin_res    test    0.0  cell003   \n",
       "test004      anode  arbin_res    test    0.0  cell004   \n",
       "test005      anode  arbin_res    test    0.0  cell005   \n",
       "\n",
       "                                           cellpy_file_name  \\\n",
       "filename                                                      \n",
       "test001   data\\cellpyfiles\\20160805_test001_45_cc_01.cellpy   \n",
       "test002   data\\cellpyfiles\\20160805_test001_45_cc_02.cellpy   \n",
       "test003   data\\cellpyfiles\\20160805_test001_45_cc_03.cellpy   \n",
       "test004   data\\cellpyfiles\\20160805_test001_45_cc_04.cellpy   \n",
       "test005   data\\cellpyfiles\\20160805_test001_45_cc_05.cellpy   \n",
       "\n",
       "                                  raw_file_names  group  sub_group  \n",
       "filename                                                            \n",
       "test001   data/raw/20160805_test001_45_cc_01.res    1.0        1.0  \n",
       "test002   data/raw/20160805_test001_45_cc_02.res    1.0        2.0  \n",
       "test003   data/raw/20160805_test001_45_cc_03.res    1.0        3.0  \n",
       "test004   data/raw/20160805_test001_45_cc_04.res    1.0        4.0  \n",
       "test005   data/raw/20160805_test001_45_cc_05.res    2.0        1.0  "
      ]
     },
     "execution_count": 7,
     "metadata": {},
     "output_type": "execute_result"
    }
   ],
   "source": [
    "j.pages"
   ]
  },
  {
   "cell_type": "markdown",
   "id": "a1929a02-fd58-4643-a935-8f1a20a9ec13",
   "metadata": {},
   "source": [
    "### NOTE\n",
    "- should rename index to cell_name instead of filename"
   ]
  },
  {
   "cell_type": "code",
   "execution_count": null,
   "id": "4b5ddb3d-0a47-4c08-ba6e-e211d8defb73",
   "metadata": {},
   "outputs": [],
   "source": [
    "rawfiles = j.pages.raw_file_names.to_list()"
   ]
  },
  {
   "cell_type": "code",
   "execution_count": null,
   "id": "eefce352-aa98-42f5-8664-17fdce15582f",
   "metadata": {},
   "outputs": [],
   "source": [
    "names = j.pages.label.to_list()"
   ]
  },
  {
   "cell_type": "code",
   "execution_count": null,
   "id": "b1e0d31e-027a-48a1-bbdc-5d1b6d16bc23",
   "metadata": {},
   "outputs": [],
   "source": [
    "masses = j.pages.mass.to_list()"
   ]
  },
  {
   "cell_type": "code",
   "execution_count": null,
   "id": "6e090d07-1097-47d6-ac92-41d1860a5d81",
   "metadata": {},
   "outputs": [],
   "source": [
    "easyplot.EasyPlot(\n",
    "    rawfiles,\n",
    "    names,\n",
    "    figtitle=\"Test3\",\n",
    "    galvanostatic_normalize_capacity=True,\n",
    "    all_in_one=True,\n",
    "    dqdv_plot=True,\n",
    ").plot()"
   ]
  },
  {
   "cell_type": "code",
   "execution_count": null,
   "id": "67c62ddc-db9f-4ed0-800f-f6a839264b17",
   "metadata": {},
   "outputs": [],
   "source": [
    "outfile = journal_file"
   ]
  },
  {
   "cell_type": "code",
   "execution_count": null,
   "id": "77f9a1db-6ec1-4345-8ca5-9ba2b3a6c116",
   "metadata": {},
   "outputs": [],
   "source": [
    "j.to_file(outfile, to_project_folder=False)"
   ]
  },
  {
   "cell_type": "markdown",
   "id": "8068714e-365d-4395-a51d-11e8327a97be",
   "metadata": {},
   "source": [
    "### Note\n",
    "\n",
    "- need to implement a way to export journals to xlsx\n",
    "- maybe we also need to allow for reading meta and session from xlsx journals\n",
    "- figure out or modify easyplot so that mass and other parameters can be given to it\n",
    "- figure out a way to save an easyplot session with session and metadata"
   ]
  },
  {
   "cell_type": "markdown",
   "id": "95fda6e6-aac9-4dbe-8a6c-8295309eedd9",
   "metadata": {},
   "source": [
    "## Save journal to xlsx"
   ]
  },
  {
   "cell_type": "code",
   "execution_count": null,
   "id": "ebc885f7-cb6e-4298-ba8c-2075625338f9",
   "metadata": {},
   "outputs": [],
   "source": [
    "bad_cycle_numbers = {\"cell_name\": ['20160805_test001_45_cc', '20160805_test001_45_cc', '20160805_test001_45_cc', '20160805_test001_47_cc', '20160805_test001_47_cc']\n",
    "        '20160805_test001_45_cc': [4, 337, 338],\n",
    "        '20160805_test001_47_cc': [7, 8, 9, 33],\n",
    "}"
   ]
  },
  {
   "cell_type": "code",
   "execution_count": 142,
   "id": "cedcd8bb-eec0-44ef-9708-ff59bdefed7a",
   "metadata": {},
   "outputs": [],
   "source": [
    "bad_cycle_numbers = {\n",
    "    \"20160805_test001_45_cc\": [4, 337, 338],\n",
    "    \"20160805_test001_47_cc\": [7, 8, 9, 33],\n",
    "}\n",
    "bad_cells = [\"20160805_test001_45_cc\", \"another_cell_000_cc\"]\n",
    "\n",
    "notes = [\"one comment for the road\", \"another comment\", \"a third comment\"]\n",
    "\n",
    "session0 = {\n",
    "    \"bad_cycle_numbers\": bad_cycle_numbers,\n",
    "    \"bad_cells\": bad_cells,\n",
    "    \"notes\": notes,\n",
    "}\n",
    "\n",
    "meta = j._prm_packer()"
   ]
  },
  {
   "cell_type": "code",
   "execution_count": 73,
   "id": "20229ee8-df92-4350-ad1a-64d9f7744743",
   "metadata": {},
   "outputs": [
    {
     "data": {
      "text/plain": [
       "{'name': 'test_journal',\n",
       " 'project': 'NaN',\n",
       " 'time_stamp': None,\n",
       " 'project_dir': WindowsPath('.'),\n",
       " 'batch_dir': WindowsPath('.'),\n",
       " 'raw_dir': WindowsPath('.')}"
      ]
     },
     "execution_count": 73,
     "metadata": {},
     "output_type": "execute_result"
    }
   ],
   "source": [
    "meta"
   ]
  },
  {
   "cell_type": "code",
   "execution_count": 74,
   "id": "95917fa6-0acb-48d5-8b75-97822cadacef",
   "metadata": {},
   "outputs": [
    {
     "data": {
      "text/plain": [
       "{'bad_cycle_numbers': {'20160805_test001_45_cc': [4, 337, 338],\n",
       "  '20160805_test001_47_cc': [7, 8, 9, 33]},\n",
       " 'bad_cells': ['20160805_test001_45_cc', 'another_cell_000_cc'],\n",
       " 'notes': ['one comment for the road', 'another comment', 'a third comment']}"
      ]
     },
     "execution_count": 74,
     "metadata": {},
     "output_type": "execute_result"
    }
   ],
   "source": [
    "session"
   ]
  },
  {
   "cell_type": "code",
   "execution_count": 75,
   "id": "49a9a936-f856-4929-a068-1759150d2954",
   "metadata": {},
   "outputs": [],
   "source": [
    "import pandas as pd"
   ]
  },
  {
   "cell_type": "code",
   "execution_count": 90,
   "id": "216892a1-36c9-4548-9c43-01d7939987b2",
   "metadata": {},
   "outputs": [],
   "source": [
    "l_bad_cycle_numbers = []\n",
    "for k, v in bad_cycle_numbers.items():\n",
    "    l_bad_cycle_numbers.append(pd.DataFrame(data=v, columns=[k]))\n",
    "\n",
    "df_bad_cycle_numbers = (\n",
    "    pd.concat(l_bad_cycle_numbers, axis=1)\n",
    "    .melt(var_name=\"cell_name\", value_name=\"cycle_index\")\n",
    "    .dropna()\n",
    ")"
   ]
  },
  {
   "cell_type": "code",
   "execution_count": 91,
   "id": "483170d9-260f-4cbc-b49f-94786239e1a3",
   "metadata": {},
   "outputs": [
    {
     "data": {
      "text/html": [
       "<div>\n",
       "<style scoped>\n",
       "    .dataframe tbody tr th:only-of-type {\n",
       "        vertical-align: middle;\n",
       "    }\n",
       "\n",
       "    .dataframe tbody tr th {\n",
       "        vertical-align: top;\n",
       "    }\n",
       "\n",
       "    .dataframe thead th {\n",
       "        text-align: right;\n",
       "    }\n",
       "</style>\n",
       "<table border=\"1\" class=\"dataframe\">\n",
       "  <thead>\n",
       "    <tr style=\"text-align: right;\">\n",
       "      <th></th>\n",
       "      <th>cell_name</th>\n",
       "      <th>cycle_index</th>\n",
       "    </tr>\n",
       "  </thead>\n",
       "  <tbody>\n",
       "    <tr>\n",
       "      <th>0</th>\n",
       "      <td>20160805_test001_45_cc</td>\n",
       "      <td>4.0</td>\n",
       "    </tr>\n",
       "    <tr>\n",
       "      <th>1</th>\n",
       "      <td>20160805_test001_45_cc</td>\n",
       "      <td>337.0</td>\n",
       "    </tr>\n",
       "    <tr>\n",
       "      <th>2</th>\n",
       "      <td>20160805_test001_45_cc</td>\n",
       "      <td>338.0</td>\n",
       "    </tr>\n",
       "    <tr>\n",
       "      <th>4</th>\n",
       "      <td>20160805_test001_47_cc</td>\n",
       "      <td>7.0</td>\n",
       "    </tr>\n",
       "    <tr>\n",
       "      <th>5</th>\n",
       "      <td>20160805_test001_47_cc</td>\n",
       "      <td>8.0</td>\n",
       "    </tr>\n",
       "    <tr>\n",
       "      <th>6</th>\n",
       "      <td>20160805_test001_47_cc</td>\n",
       "      <td>9.0</td>\n",
       "    </tr>\n",
       "    <tr>\n",
       "      <th>7</th>\n",
       "      <td>20160805_test001_47_cc</td>\n",
       "      <td>33.0</td>\n",
       "    </tr>\n",
       "  </tbody>\n",
       "</table>\n",
       "</div>"
      ],
      "text/plain": [
       "                cell_name  cycle_index\n",
       "0  20160805_test001_45_cc          4.0\n",
       "1  20160805_test001_45_cc        337.0\n",
       "2  20160805_test001_45_cc        338.0\n",
       "4  20160805_test001_47_cc          7.0\n",
       "5  20160805_test001_47_cc          8.0\n",
       "6  20160805_test001_47_cc          9.0\n",
       "7  20160805_test001_47_cc         33.0"
      ]
     },
     "execution_count": 91,
     "metadata": {},
     "output_type": "execute_result"
    }
   ],
   "source": [
    "df_bad_cycle_numbers"
   ]
  },
  {
   "cell_type": "code",
   "execution_count": 92,
   "id": "b7712aab-6e3a-40a8-bc34-5a2a1f9bc452",
   "metadata": {},
   "outputs": [
    {
     "data": {
      "text/html": [
       "<div>\n",
       "<style scoped>\n",
       "    .dataframe tbody tr th:only-of-type {\n",
       "        vertical-align: middle;\n",
       "    }\n",
       "\n",
       "    .dataframe tbody tr th {\n",
       "        vertical-align: top;\n",
       "    }\n",
       "\n",
       "    .dataframe thead th {\n",
       "        text-align: right;\n",
       "    }\n",
       "</style>\n",
       "<table border=\"1\" class=\"dataframe\">\n",
       "  <thead>\n",
       "    <tr style=\"text-align: right;\">\n",
       "      <th></th>\n",
       "      <th>cell_name</th>\n",
       "    </tr>\n",
       "  </thead>\n",
       "  <tbody>\n",
       "    <tr>\n",
       "      <th>0</th>\n",
       "      <td>20160805_test001_45_cc</td>\n",
       "    </tr>\n",
       "    <tr>\n",
       "      <th>1</th>\n",
       "      <td>another_cell_000_cc</td>\n",
       "    </tr>\n",
       "  </tbody>\n",
       "</table>\n",
       "</div>"
      ],
      "text/plain": [
       "                cell_name\n",
       "0  20160805_test001_45_cc\n",
       "1     another_cell_000_cc"
      ]
     },
     "execution_count": 92,
     "metadata": {},
     "output_type": "execute_result"
    }
   ],
   "source": [
    "df_bad_cells = pd.DataFrame(bad_cells, columns=[\"cell_name\"])\n",
    "df_bad_cells"
   ]
  },
  {
   "cell_type": "code",
   "execution_count": 93,
   "id": "6d5f612c-4d90-4365-9c35-c2ba69c0b862",
   "metadata": {},
   "outputs": [
    {
     "data": {
      "text/html": [
       "<div>\n",
       "<style scoped>\n",
       "    .dataframe tbody tr th:only-of-type {\n",
       "        vertical-align: middle;\n",
       "    }\n",
       "\n",
       "    .dataframe tbody tr th {\n",
       "        vertical-align: top;\n",
       "    }\n",
       "\n",
       "    .dataframe thead th {\n",
       "        text-align: right;\n",
       "    }\n",
       "</style>\n",
       "<table border=\"1\" class=\"dataframe\">\n",
       "  <thead>\n",
       "    <tr style=\"text-align: right;\">\n",
       "      <th></th>\n",
       "      <th>txt</th>\n",
       "    </tr>\n",
       "  </thead>\n",
       "  <tbody>\n",
       "    <tr>\n",
       "      <th>0</th>\n",
       "      <td>one comment for the road</td>\n",
       "    </tr>\n",
       "    <tr>\n",
       "      <th>1</th>\n",
       "      <td>another comment</td>\n",
       "    </tr>\n",
       "    <tr>\n",
       "      <th>2</th>\n",
       "      <td>a third comment</td>\n",
       "    </tr>\n",
       "  </tbody>\n",
       "</table>\n",
       "</div>"
      ],
      "text/plain": [
       "                        txt\n",
       "0  one comment for the road\n",
       "1           another comment\n",
       "2           a third comment"
      ]
     },
     "execution_count": 93,
     "metadata": {},
     "output_type": "execute_result"
    }
   ],
   "source": [
    "df_notes = pd.DataFrame(notes, columns=[\"txt\"])\n",
    "df_notes"
   ]
  },
  {
   "cell_type": "code",
   "execution_count": 98,
   "id": "2161db7b-abeb-411c-a398-05083f29986b",
   "metadata": {},
   "outputs": [
    {
     "data": {
      "text/plain": [
       "6"
      ]
     },
     "execution_count": 98,
     "metadata": {},
     "output_type": "execute_result"
    }
   ],
   "source": [
    "len(meta)"
   ]
  },
  {
   "cell_type": "code",
   "execution_count": 108,
   "id": "5c7b0f26-d2e4-48ff-90b0-3274b4bb05d3",
   "metadata": {},
   "outputs": [],
   "source": [
    "df_meta = pd.DataFrame(meta, index=[0]).melt(var_name=\"parameter\", value_name=\"value\")"
   ]
  },
  {
   "cell_type": "code",
   "execution_count": 109,
   "id": "a7e89f6b-6bda-4770-b5d8-4f2652384744",
   "metadata": {},
   "outputs": [
    {
     "data": {
      "text/html": [
       "<div>\n",
       "<style scoped>\n",
       "    .dataframe tbody tr th:only-of-type {\n",
       "        vertical-align: middle;\n",
       "    }\n",
       "\n",
       "    .dataframe tbody tr th {\n",
       "        vertical-align: top;\n",
       "    }\n",
       "\n",
       "    .dataframe thead th {\n",
       "        text-align: right;\n",
       "    }\n",
       "</style>\n",
       "<table border=\"1\" class=\"dataframe\">\n",
       "  <thead>\n",
       "    <tr style=\"text-align: right;\">\n",
       "      <th></th>\n",
       "      <th>parameter</th>\n",
       "      <th>value</th>\n",
       "    </tr>\n",
       "  </thead>\n",
       "  <tbody>\n",
       "    <tr>\n",
       "      <th>0</th>\n",
       "      <td>name</td>\n",
       "      <td>test_journal</td>\n",
       "    </tr>\n",
       "    <tr>\n",
       "      <th>1</th>\n",
       "      <td>project</td>\n",
       "      <td>NaN</td>\n",
       "    </tr>\n",
       "    <tr>\n",
       "      <th>2</th>\n",
       "      <td>time_stamp</td>\n",
       "      <td>None</td>\n",
       "    </tr>\n",
       "    <tr>\n",
       "      <th>3</th>\n",
       "      <td>project_dir</td>\n",
       "      <td>.</td>\n",
       "    </tr>\n",
       "    <tr>\n",
       "      <th>4</th>\n",
       "      <td>batch_dir</td>\n",
       "      <td>.</td>\n",
       "    </tr>\n",
       "    <tr>\n",
       "      <th>5</th>\n",
       "      <td>raw_dir</td>\n",
       "      <td>.</td>\n",
       "    </tr>\n",
       "  </tbody>\n",
       "</table>\n",
       "</div>"
      ],
      "text/plain": [
       "     parameter         value\n",
       "0         name  test_journal\n",
       "1      project           NaN\n",
       "2   time_stamp          None\n",
       "3  project_dir             .\n",
       "4    batch_dir             .\n",
       "5      raw_dir             ."
      ]
     },
     "execution_count": 109,
     "metadata": {},
     "output_type": "execute_result"
    }
   ],
   "source": [
    "df_meta"
   ]
  },
  {
   "cell_type": "code",
   "execution_count": 94,
   "id": "d3bce53f-8380-4771-ad2b-5b765bc24122",
   "metadata": {},
   "outputs": [],
   "source": [
    "session = pd.concat(\n",
    "    [df_bad_cycle_numbers, df_bad_cells, df_notes],\n",
    "    axis=1,\n",
    "    keys=[\"bad_cycle_number\", \"bad_cells\", \"notes\"],\n",
    ")"
   ]
  },
  {
   "cell_type": "code",
   "execution_count": 95,
   "id": "0961c6a2-94cb-4155-b253-60ab5d465cd5",
   "metadata": {},
   "outputs": [
    {
     "data": {
      "text/html": [
       "<div>\n",
       "<style scoped>\n",
       "    .dataframe tbody tr th:only-of-type {\n",
       "        vertical-align: middle;\n",
       "    }\n",
       "\n",
       "    .dataframe tbody tr th {\n",
       "        vertical-align: top;\n",
       "    }\n",
       "\n",
       "    .dataframe thead tr th {\n",
       "        text-align: left;\n",
       "    }\n",
       "</style>\n",
       "<table border=\"1\" class=\"dataframe\">\n",
       "  <thead>\n",
       "    <tr>\n",
       "      <th></th>\n",
       "      <th colspan=\"2\" halign=\"left\">bad_cycle_number</th>\n",
       "      <th>bad_cells</th>\n",
       "      <th>notes</th>\n",
       "    </tr>\n",
       "    <tr>\n",
       "      <th></th>\n",
       "      <th>cell_name</th>\n",
       "      <th>cycle_index</th>\n",
       "      <th>cell_name</th>\n",
       "      <th>txt</th>\n",
       "    </tr>\n",
       "  </thead>\n",
       "  <tbody>\n",
       "    <tr>\n",
       "      <th>0</th>\n",
       "      <td>20160805_test001_45_cc</td>\n",
       "      <td>4.0</td>\n",
       "      <td>20160805_test001_45_cc</td>\n",
       "      <td>one comment for the road</td>\n",
       "    </tr>\n",
       "    <tr>\n",
       "      <th>1</th>\n",
       "      <td>20160805_test001_45_cc</td>\n",
       "      <td>337.0</td>\n",
       "      <td>another_cell_000_cc</td>\n",
       "      <td>another comment</td>\n",
       "    </tr>\n",
       "    <tr>\n",
       "      <th>2</th>\n",
       "      <td>20160805_test001_45_cc</td>\n",
       "      <td>338.0</td>\n",
       "      <td>NaN</td>\n",
       "      <td>a third comment</td>\n",
       "    </tr>\n",
       "    <tr>\n",
       "      <th>4</th>\n",
       "      <td>20160805_test001_47_cc</td>\n",
       "      <td>7.0</td>\n",
       "      <td>NaN</td>\n",
       "      <td>NaN</td>\n",
       "    </tr>\n",
       "    <tr>\n",
       "      <th>5</th>\n",
       "      <td>20160805_test001_47_cc</td>\n",
       "      <td>8.0</td>\n",
       "      <td>NaN</td>\n",
       "      <td>NaN</td>\n",
       "    </tr>\n",
       "    <tr>\n",
       "      <th>6</th>\n",
       "      <td>20160805_test001_47_cc</td>\n",
       "      <td>9.0</td>\n",
       "      <td>NaN</td>\n",
       "      <td>NaN</td>\n",
       "    </tr>\n",
       "    <tr>\n",
       "      <th>7</th>\n",
       "      <td>20160805_test001_47_cc</td>\n",
       "      <td>33.0</td>\n",
       "      <td>NaN</td>\n",
       "      <td>NaN</td>\n",
       "    </tr>\n",
       "  </tbody>\n",
       "</table>\n",
       "</div>"
      ],
      "text/plain": [
       "         bad_cycle_number                           bad_cells  \\\n",
       "                cell_name cycle_index               cell_name   \n",
       "0  20160805_test001_45_cc         4.0  20160805_test001_45_cc   \n",
       "1  20160805_test001_45_cc       337.0     another_cell_000_cc   \n",
       "2  20160805_test001_45_cc       338.0                     NaN   \n",
       "4  20160805_test001_47_cc         7.0                     NaN   \n",
       "5  20160805_test001_47_cc         8.0                     NaN   \n",
       "6  20160805_test001_47_cc         9.0                     NaN   \n",
       "7  20160805_test001_47_cc        33.0                     NaN   \n",
       "\n",
       "                      notes  \n",
       "                        txt  \n",
       "0  one comment for the road  \n",
       "1           another comment  \n",
       "2           a third comment  \n",
       "4                       NaN  \n",
       "5                       NaN  \n",
       "6                       NaN  \n",
       "7                       NaN  "
      ]
     },
     "execution_count": 95,
     "metadata": {},
     "output_type": "execute_result"
    }
   ],
   "source": [
    "session"
   ]
  },
  {
   "cell_type": "code",
   "execution_count": 65,
   "id": "6e154248-2da2-42f9-959e-2937dd6be04d",
   "metadata": {},
   "outputs": [],
   "source": [
    "file_name = Path(\"out.xlsx\")"
   ]
  },
  {
   "cell_type": "code",
   "execution_count": 96,
   "id": "a728bd65-756c-4a5c-b986-eb67880e25bd",
   "metadata": {},
   "outputs": [],
   "source": [
    "pages = j.pages"
   ]
  },
  {
   "cell_type": "code",
   "execution_count": 225,
   "id": "ea6cf87b-052f-47e7-98cb-da32cee085a2",
   "metadata": {},
   "outputs": [],
   "source": [
    "# saving journal to xlsx\n",
    "try:\n",
    "    with pd.ExcelWriter(file_name, mode=\"w\", engine=\"openpyxl\") as writer:\n",
    "        pages.to_excel(writer, sheet_name=\"pages\", engine=\"openpyxl\")\n",
    "        # no index is not supported for multi-index (update to index=False when pandas implements it):\n",
    "        session.to_excel(writer, sheet_name=\"session\", engine=\"openpyxl\")\n",
    "        df_meta.to_excel(writer, sheet_name=\"meta\", engine=\"openpyxl\", index=False)\n",
    "except PermissionError as e:\n",
    "    print(f\"Could not load journal to xlsx ({e})\")"
   ]
  },
  {
   "cell_type": "markdown",
   "id": "1ef093da-028e-4c4f-8113-36906866c015",
   "metadata": {},
   "source": [
    "## loading xlsx journal"
   ]
  },
  {
   "cell_type": "code",
   "execution_count": 226,
   "id": "d8e62678-9ac6-44ea-8b1c-ffd5c70e4f99",
   "metadata": {},
   "outputs": [],
   "source": [
    "import tempfile\n",
    "import shutil"
   ]
  },
  {
   "cell_type": "code",
   "execution_count": 227,
   "id": "7d583cb6-708c-44ee-815c-1c57edcf2ec5",
   "metadata": {},
   "outputs": [
    {
     "data": {
      "text/html": [
       "<div>\n",
       "<style scoped>\n",
       "    .dataframe tbody tr th:only-of-type {\n",
       "        vertical-align: middle;\n",
       "    }\n",
       "\n",
       "    .dataframe tbody tr th {\n",
       "        vertical-align: top;\n",
       "    }\n",
       "\n",
       "    .dataframe thead th {\n",
       "        text-align: right;\n",
       "    }\n",
       "</style>\n",
       "<table border=\"1\" class=\"dataframe\">\n",
       "  <thead>\n",
       "    <tr style=\"text-align: right;\">\n",
       "      <th></th>\n",
       "      <th>filename</th>\n",
       "      <th>keep</th>\n",
       "      <th>id_key</th>\n",
       "      <th>mass</th>\n",
       "      <th>total_mass</th>\n",
       "      <th>loading</th>\n",
       "      <th>nom_cap</th>\n",
       "      <th>experiment</th>\n",
       "      <th>cell_type</th>\n",
       "      <th>instrument</th>\n",
       "      <th>comment</th>\n",
       "      <th>fixed</th>\n",
       "      <th>label</th>\n",
       "      <th>cellpy_file_name</th>\n",
       "      <th>raw_file_names</th>\n",
       "      <th>group</th>\n",
       "      <th>sub_group</th>\n",
       "    </tr>\n",
       "  </thead>\n",
       "  <tbody>\n",
       "    <tr>\n",
       "      <th>0</th>\n",
       "      <td>test001</td>\n",
       "      <td>1</td>\n",
       "      <td>1</td>\n",
       "      <td>0.510262</td>\n",
       "      <td>2.8175</td>\n",
       "      <td>0.956369</td>\n",
       "      <td>2970.0</td>\n",
       "      <td>cycling</td>\n",
       "      <td>anode</td>\n",
       "      <td>arbin_res</td>\n",
       "      <td>test</td>\n",
       "      <td>0</td>\n",
       "      <td>cell001</td>\n",
       "      <td>data\\cellpyfiles\\20160805_test001_45_cc_01.cellpy</td>\n",
       "      <td>data/raw/20160805_test001_45_cc_01.res</td>\n",
       "      <td>1</td>\n",
       "      <td>1</td>\n",
       "    </tr>\n",
       "    <tr>\n",
       "      <th>1</th>\n",
       "      <td>test002</td>\n",
       "      <td>1</td>\n",
       "      <td>2</td>\n",
       "      <td>0.454388</td>\n",
       "      <td>2.5375</td>\n",
       "      <td>0.861326</td>\n",
       "      <td>2926.0</td>\n",
       "      <td>cycling</td>\n",
       "      <td>anode</td>\n",
       "      <td>arbin_res</td>\n",
       "      <td>test</td>\n",
       "      <td>0</td>\n",
       "      <td>cell002</td>\n",
       "      <td>data\\cellpyfiles\\20160805_test001_45_cc_02.cellpy</td>\n",
       "      <td>data/raw/20160805_test001_45_cc_02.res</td>\n",
       "      <td>1</td>\n",
       "      <td>2</td>\n",
       "    </tr>\n",
       "    <tr>\n",
       "      <th>2</th>\n",
       "      <td>test003</td>\n",
       "      <td>1</td>\n",
       "      <td>3</td>\n",
       "      <td>0.495843</td>\n",
       "      <td>2.6975</td>\n",
       "      <td>0.915636</td>\n",
       "      <td>3454.0</td>\n",
       "      <td>cycling</td>\n",
       "      <td>anode</td>\n",
       "      <td>arbin_res</td>\n",
       "      <td>test</td>\n",
       "      <td>0</td>\n",
       "      <td>cell003</td>\n",
       "      <td>data\\cellpyfiles\\20160805_test001_45_cc_03.cellpy</td>\n",
       "      <td>data/raw/20160805_test001_45_cc_03.res</td>\n",
       "      <td>1</td>\n",
       "      <td>3</td>\n",
       "    </tr>\n",
       "    <tr>\n",
       "      <th>3</th>\n",
       "      <td>test004</td>\n",
       "      <td>1</td>\n",
       "      <td>4</td>\n",
       "      <td>0.454388</td>\n",
       "      <td>2.8975</td>\n",
       "      <td>0.983475</td>\n",
       "      <td>3080.0</td>\n",
       "      <td>cycling</td>\n",
       "      <td>anode</td>\n",
       "      <td>arbin_res</td>\n",
       "      <td>test</td>\n",
       "      <td>0</td>\n",
       "      <td>cell004</td>\n",
       "      <td>data\\cellpyfiles\\20160805_test001_45_cc_04.cellpy</td>\n",
       "      <td>data/raw/20160805_test001_45_cc_04.res</td>\n",
       "      <td>1</td>\n",
       "      <td>4</td>\n",
       "    </tr>\n",
       "    <tr>\n",
       "      <th>4</th>\n",
       "      <td>test005</td>\n",
       "      <td>1</td>\n",
       "      <td>5</td>\n",
       "      <td>0.447178</td>\n",
       "      <td>2.7875</td>\n",
       "      <td>0.946138</td>\n",
       "      <td>3117.4</td>\n",
       "      <td>cycling</td>\n",
       "      <td>anode</td>\n",
       "      <td>arbin_res</td>\n",
       "      <td>test</td>\n",
       "      <td>0</td>\n",
       "      <td>cell005</td>\n",
       "      <td>data\\cellpyfiles\\20160805_test001_45_cc_05.cellpy</td>\n",
       "      <td>data/raw/20160805_test001_45_cc_05.res</td>\n",
       "      <td>2</td>\n",
       "      <td>1</td>\n",
       "    </tr>\n",
       "  </tbody>\n",
       "</table>\n",
       "</div>"
      ],
      "text/plain": [
       "  filename  keep  id_key      mass  total_mass   loading  nom_cap experiment  \\\n",
       "0  test001     1       1  0.510262      2.8175  0.956369   2970.0    cycling   \n",
       "1  test002     1       2  0.454388      2.5375  0.861326   2926.0    cycling   \n",
       "2  test003     1       3  0.495843      2.6975  0.915636   3454.0    cycling   \n",
       "3  test004     1       4  0.454388      2.8975  0.983475   3080.0    cycling   \n",
       "4  test005     1       5  0.447178      2.7875  0.946138   3117.4    cycling   \n",
       "\n",
       "  cell_type instrument comment  fixed    label  \\\n",
       "0     anode  arbin_res    test      0  cell001   \n",
       "1     anode  arbin_res    test      0  cell002   \n",
       "2     anode  arbin_res    test      0  cell003   \n",
       "3     anode  arbin_res    test      0  cell004   \n",
       "4     anode  arbin_res    test      0  cell005   \n",
       "\n",
       "                                    cellpy_file_name  \\\n",
       "0  data\\cellpyfiles\\20160805_test001_45_cc_01.cellpy   \n",
       "1  data\\cellpyfiles\\20160805_test001_45_cc_02.cellpy   \n",
       "2  data\\cellpyfiles\\20160805_test001_45_cc_03.cellpy   \n",
       "3  data\\cellpyfiles\\20160805_test001_45_cc_04.cellpy   \n",
       "4  data\\cellpyfiles\\20160805_test001_45_cc_05.cellpy   \n",
       "\n",
       "                           raw_file_names  group  sub_group  \n",
       "0  data/raw/20160805_test001_45_cc_01.res      1          1  \n",
       "1  data/raw/20160805_test001_45_cc_02.res      1          2  \n",
       "2  data/raw/20160805_test001_45_cc_03.res      1          3  \n",
       "3  data/raw/20160805_test001_45_cc_04.res      1          4  \n",
       "4  data/raw/20160805_test001_45_cc_05.res      2          1  "
      ]
     },
     "execution_count": 227,
     "metadata": {},
     "output_type": "execute_result"
    }
   ],
   "source": [
    "# loading journal from xlsx: pages\n",
    "temporary_directory = tempfile.mkdtemp()\n",
    "temporary_file_name = shutil.copy(file_name, temporary_directory)\n",
    "try:\n",
    "    pages2 = pd.read_excel(temporary_file_name, sheet_name=\"pages\", engine=\"openpyxl\")\n",
    "except PermissionError as e:\n",
    "    print(f\"Could not load journal to xlsx ({e})\")\n",
    "\n",
    "pages2"
   ]
  },
  {
   "cell_type": "code",
   "execution_count": 228,
   "id": "08da9e00-00c5-4097-9136-0b487f54fd53",
   "metadata": {},
   "outputs": [
    {
     "data": {
      "text/html": [
       "<div>\n",
       "<style scoped>\n",
       "    .dataframe tbody tr th:only-of-type {\n",
       "        vertical-align: middle;\n",
       "    }\n",
       "\n",
       "    .dataframe tbody tr th {\n",
       "        vertical-align: top;\n",
       "    }\n",
       "\n",
       "    .dataframe thead tr th {\n",
       "        text-align: left;\n",
       "    }\n",
       "</style>\n",
       "<table border=\"1\" class=\"dataframe\">\n",
       "  <thead>\n",
       "    <tr>\n",
       "      <th></th>\n",
       "      <th>Unnamed: 0_level_0</th>\n",
       "      <th colspan=\"2\" halign=\"left\">bad_cycle_number</th>\n",
       "      <th>bad_cells</th>\n",
       "      <th>notes</th>\n",
       "    </tr>\n",
       "    <tr>\n",
       "      <th></th>\n",
       "      <th>Unnamed: 0_level_1</th>\n",
       "      <th>cell_name</th>\n",
       "      <th>cycle_index</th>\n",
       "      <th>cell_name</th>\n",
       "      <th>txt</th>\n",
       "    </tr>\n",
       "  </thead>\n",
       "  <tbody>\n",
       "    <tr>\n",
       "      <th>0</th>\n",
       "      <td>0</td>\n",
       "      <td>20160805_test001_45_cc</td>\n",
       "      <td>4</td>\n",
       "      <td>20160805_test001_45_cc</td>\n",
       "      <td>one comment for the road</td>\n",
       "    </tr>\n",
       "    <tr>\n",
       "      <th>1</th>\n",
       "      <td>1</td>\n",
       "      <td>20160805_test001_45_cc</td>\n",
       "      <td>337</td>\n",
       "      <td>another_cell_000_cc</td>\n",
       "      <td>another comment</td>\n",
       "    </tr>\n",
       "    <tr>\n",
       "      <th>2</th>\n",
       "      <td>2</td>\n",
       "      <td>20160805_test001_45_cc</td>\n",
       "      <td>338</td>\n",
       "      <td>NaN</td>\n",
       "      <td>a third comment</td>\n",
       "    </tr>\n",
       "    <tr>\n",
       "      <th>3</th>\n",
       "      <td>4</td>\n",
       "      <td>20160805_test001_47_cc</td>\n",
       "      <td>7</td>\n",
       "      <td>NaN</td>\n",
       "      <td>NaN</td>\n",
       "    </tr>\n",
       "    <tr>\n",
       "      <th>4</th>\n",
       "      <td>5</td>\n",
       "      <td>20160805_test001_47_cc</td>\n",
       "      <td>8</td>\n",
       "      <td>NaN</td>\n",
       "      <td>NaN</td>\n",
       "    </tr>\n",
       "    <tr>\n",
       "      <th>5</th>\n",
       "      <td>6</td>\n",
       "      <td>20160805_test001_47_cc</td>\n",
       "      <td>9</td>\n",
       "      <td>NaN</td>\n",
       "      <td>NaN</td>\n",
       "    </tr>\n",
       "    <tr>\n",
       "      <th>6</th>\n",
       "      <td>7</td>\n",
       "      <td>20160805_test001_47_cc</td>\n",
       "      <td>33</td>\n",
       "      <td>NaN</td>\n",
       "      <td>NaN</td>\n",
       "    </tr>\n",
       "  </tbody>\n",
       "</table>\n",
       "</div>"
      ],
      "text/plain": [
       "  Unnamed: 0_level_0        bad_cycle_number              \\\n",
       "  Unnamed: 0_level_1               cell_name cycle_index   \n",
       "0                  0  20160805_test001_45_cc           4   \n",
       "1                  1  20160805_test001_45_cc         337   \n",
       "2                  2  20160805_test001_45_cc         338   \n",
       "3                  4  20160805_test001_47_cc           7   \n",
       "4                  5  20160805_test001_47_cc           8   \n",
       "5                  6  20160805_test001_47_cc           9   \n",
       "6                  7  20160805_test001_47_cc          33   \n",
       "\n",
       "                bad_cells                     notes  \n",
       "                cell_name                       txt  \n",
       "0  20160805_test001_45_cc  one comment for the road  \n",
       "1     another_cell_000_cc           another comment  \n",
       "2                     NaN           a third comment  \n",
       "3                     NaN                       NaN  \n",
       "4                     NaN                       NaN  \n",
       "5                     NaN                       NaN  \n",
       "6                     NaN                       NaN  "
      ]
     },
     "execution_count": 228,
     "metadata": {},
     "output_type": "execute_result"
    }
   ],
   "source": [
    "# loading journal from xlsx: session\n",
    "temporary_directory = tempfile.mkdtemp()\n",
    "temporary_file_name = shutil.copy(file_name, temporary_directory)\n",
    "try:\n",
    "    session2 = pd.read_excel(\n",
    "        temporary_file_name, sheet_name=\"session\", engine=\"openpyxl\", header=[0, 1]\n",
    "    )\n",
    "except PermissionError as e:\n",
    "    print(f\"Could not load journal to xlsx ({e})\")\n",
    "session2"
   ]
  },
  {
   "cell_type": "code",
   "execution_count": 229,
   "id": "cad0d4dd-6168-486d-be73-be17aba871a0",
   "metadata": {},
   "outputs": [
    {
     "data": {
      "text/plain": [
       "{'20160805_test001_45_cc': [4, 337, 338],\n",
       " '20160805_test001_47_cc': [7, 8, 9, 33]}"
      ]
     },
     "execution_count": 229,
     "metadata": {},
     "output_type": "execute_result"
    }
   ],
   "source": [
    "bcn2 = {\n",
    "    l: list(sb[\"cycle_index\"].values)\n",
    "    for l, sb in session2[\"bad_cycle_number\"].groupby(\"cell_name\")\n",
    "}\n",
    "bcn2"
   ]
  },
  {
   "cell_type": "code",
   "execution_count": 230,
   "id": "4bcf2bd3-29bc-4c22-a935-b453f4a19948",
   "metadata": {},
   "outputs": [
    {
     "data": {
      "text/plain": [
       "['20160805_test001_45_cc', 'another_cell_000_cc']"
      ]
     },
     "execution_count": 230,
     "metadata": {},
     "output_type": "execute_result"
    }
   ],
   "source": [
    "bc2 = list(session2[\"bad_cells\"].dropna().values.flatten())\n",
    "bc2"
   ]
  },
  {
   "cell_type": "code",
   "execution_count": 231,
   "id": "0f060e0d-e434-4a0c-bdf1-c0d712ecaa43",
   "metadata": {},
   "outputs": [
    {
     "data": {
      "text/plain": [
       "['one comment for the road', 'another comment', 'a third comment']"
      ]
     },
     "execution_count": 231,
     "metadata": {},
     "output_type": "execute_result"
    }
   ],
   "source": [
    "n2 = list(session2[\"notes\"].dropna().values.flatten())\n",
    "n2"
   ]
  },
  {
   "cell_type": "code",
   "execution_count": 232,
   "id": "60ef97f2-92ee-485b-b98c-4b3dfba09baa",
   "metadata": {},
   "outputs": [],
   "source": [
    "session3 = {\"bad_cycle_numbers\": bcn2, \"bad_cells\": bc2, \"notes\": n2}"
   ]
  },
  {
   "cell_type": "code",
   "execution_count": 233,
   "id": "a54c519f-b37c-43d2-b9c2-f292b3588365",
   "metadata": {},
   "outputs": [
    {
     "data": {
      "text/plain": [
       "{'bad_cycle_numbers': {'20160805_test001_45_cc': [4, 337, 338],\n",
       "  '20160805_test001_47_cc': [7, 8, 9, 33]},\n",
       " 'bad_cells': ['20160805_test001_45_cc', 'another_cell_000_cc'],\n",
       " 'notes': ['one comment for the road', 'another comment', 'a third comment']}"
      ]
     },
     "execution_count": 233,
     "metadata": {},
     "output_type": "execute_result"
    }
   ],
   "source": [
    "session0"
   ]
  },
  {
   "cell_type": "code",
   "execution_count": 234,
   "id": "075a0747-c769-41a6-a0bb-f0dccdf087df",
   "metadata": {},
   "outputs": [
    {
     "data": {
      "text/plain": [
       "{'bad_cycle_numbers': {'20160805_test001_45_cc': [4, 337, 338],\n",
       "  '20160805_test001_47_cc': [7, 8, 9, 33]},\n",
       " 'bad_cells': ['20160805_test001_45_cc', 'another_cell_000_cc'],\n",
       " 'notes': ['one comment for the road', 'another comment', 'a third comment']}"
      ]
     },
     "execution_count": 234,
     "metadata": {},
     "output_type": "execute_result"
    }
   ],
   "source": [
    "session3"
   ]
  },
  {
   "cell_type": "code",
   "execution_count": 235,
   "id": "03c51504-221b-4d71-8db0-41deecc9d421",
   "metadata": {},
   "outputs": [
    {
     "data": {
      "text/plain": [
       "True"
      ]
     },
     "execution_count": 235,
     "metadata": {},
     "output_type": "execute_result"
    }
   ],
   "source": [
    "session0 == session3"
   ]
  },
  {
   "cell_type": "code",
   "execution_count": 236,
   "id": "1f05142a-569a-462f-84c5-9c358d37aa5f",
   "metadata": {},
   "outputs": [],
   "source": [
    "# loading journal from xlsx: meta\n",
    "temporary_directory = tempfile.mkdtemp()\n",
    "temporary_file_name = shutil.copy(file_name, temporary_directory)\n",
    "try:\n",
    "    df_meta2 = pd.read_excel(\n",
    "        temporary_file_name, sheet_name=\"meta\", engine=\"openpyxl\", index_col=\"parameter\"\n",
    "    )\n",
    "except PermissionError as e:\n",
    "    print(f\"Could not load journal to xlsx ({e})\")"
   ]
  },
  {
   "cell_type": "code",
   "execution_count": 237,
   "id": "69f9e43f-fe96-4f22-98fe-2fb21f5956e3",
   "metadata": {},
   "outputs": [
    {
     "data": {
      "text/plain": [
       "{'name': 'test_journal',\n",
       " 'project': nan,\n",
       " 'time_stamp': nan,\n",
       " 'project_dir': '.',\n",
       " 'batch_dir': '.',\n",
       " 'raw_dir': '.'}"
      ]
     },
     "execution_count": 237,
     "metadata": {},
     "output_type": "execute_result"
    }
   ],
   "source": [
    "meta2 = df_meta2.to_dict()[\"value\"]\n",
    "meta2"
   ]
  },
  {
   "cell_type": "code",
   "execution_count": 238,
   "id": "f5e32d90-e12b-4388-813b-d119e953e6b4",
   "metadata": {},
   "outputs": [
    {
     "data": {
      "text/plain": [
       "{'name': 'test_journal',\n",
       " 'project': 'NaN',\n",
       " 'time_stamp': None,\n",
       " 'project_dir': WindowsPath('.'),\n",
       " 'batch_dir': WindowsPath('.'),\n",
       " 'raw_dir': WindowsPath('.')}"
      ]
     },
     "execution_count": 238,
     "metadata": {},
     "output_type": "execute_result"
    }
   ],
   "source": [
    "meta"
   ]
  },
  {
   "cell_type": "code",
   "execution_count": 239,
   "id": "2f4de1b3-15c2-4bae-b0e8-26a684bb0396",
   "metadata": {},
   "outputs": [
    {
     "data": {
      "text/html": [
       "<div>\n",
       "<style scoped>\n",
       "    .dataframe tbody tr th:only-of-type {\n",
       "        vertical-align: middle;\n",
       "    }\n",
       "\n",
       "    .dataframe tbody tr th {\n",
       "        vertical-align: top;\n",
       "    }\n",
       "\n",
       "    .dataframe thead th {\n",
       "        text-align: right;\n",
       "    }\n",
       "</style>\n",
       "<table border=\"1\" class=\"dataframe\">\n",
       "  <thead>\n",
       "    <tr style=\"text-align: right;\">\n",
       "      <th></th>\n",
       "      <th>filename</th>\n",
       "      <th>keep</th>\n",
       "      <th>id_key</th>\n",
       "      <th>mass</th>\n",
       "      <th>total_mass</th>\n",
       "      <th>loading</th>\n",
       "      <th>nom_cap</th>\n",
       "      <th>experiment</th>\n",
       "      <th>cell_type</th>\n",
       "      <th>instrument</th>\n",
       "      <th>comment</th>\n",
       "      <th>fixed</th>\n",
       "      <th>label</th>\n",
       "      <th>cellpy_file_name</th>\n",
       "      <th>raw_file_names</th>\n",
       "      <th>group</th>\n",
       "      <th>sub_group</th>\n",
       "    </tr>\n",
       "  </thead>\n",
       "  <tbody>\n",
       "    <tr>\n",
       "      <th>0</th>\n",
       "      <td>test001</td>\n",
       "      <td>1</td>\n",
       "      <td>1</td>\n",
       "      <td>0.510262</td>\n",
       "      <td>2.8175</td>\n",
       "      <td>0.956369</td>\n",
       "      <td>2970.0</td>\n",
       "      <td>cycling</td>\n",
       "      <td>anode</td>\n",
       "      <td>arbin_res</td>\n",
       "      <td>test</td>\n",
       "      <td>0</td>\n",
       "      <td>cell001</td>\n",
       "      <td>data\\cellpyfiles\\20160805_test001_45_cc_01.cellpy</td>\n",
       "      <td>data/raw/20160805_test001_45_cc_01.res</td>\n",
       "      <td>1</td>\n",
       "      <td>1</td>\n",
       "    </tr>\n",
       "    <tr>\n",
       "      <th>1</th>\n",
       "      <td>test002</td>\n",
       "      <td>1</td>\n",
       "      <td>2</td>\n",
       "      <td>0.454388</td>\n",
       "      <td>2.5375</td>\n",
       "      <td>0.861326</td>\n",
       "      <td>2926.0</td>\n",
       "      <td>cycling</td>\n",
       "      <td>anode</td>\n",
       "      <td>arbin_res</td>\n",
       "      <td>test</td>\n",
       "      <td>0</td>\n",
       "      <td>cell002</td>\n",
       "      <td>data\\cellpyfiles\\20160805_test001_45_cc_02.cellpy</td>\n",
       "      <td>data/raw/20160805_test001_45_cc_02.res</td>\n",
       "      <td>1</td>\n",
       "      <td>2</td>\n",
       "    </tr>\n",
       "    <tr>\n",
       "      <th>2</th>\n",
       "      <td>test003</td>\n",
       "      <td>1</td>\n",
       "      <td>3</td>\n",
       "      <td>0.495843</td>\n",
       "      <td>2.6975</td>\n",
       "      <td>0.915636</td>\n",
       "      <td>3454.0</td>\n",
       "      <td>cycling</td>\n",
       "      <td>anode</td>\n",
       "      <td>arbin_res</td>\n",
       "      <td>test</td>\n",
       "      <td>0</td>\n",
       "      <td>cell003</td>\n",
       "      <td>data\\cellpyfiles\\20160805_test001_45_cc_03.cellpy</td>\n",
       "      <td>data/raw/20160805_test001_45_cc_03.res</td>\n",
       "      <td>1</td>\n",
       "      <td>3</td>\n",
       "    </tr>\n",
       "    <tr>\n",
       "      <th>3</th>\n",
       "      <td>test004</td>\n",
       "      <td>1</td>\n",
       "      <td>4</td>\n",
       "      <td>0.454388</td>\n",
       "      <td>2.8975</td>\n",
       "      <td>0.983475</td>\n",
       "      <td>3080.0</td>\n",
       "      <td>cycling</td>\n",
       "      <td>anode</td>\n",
       "      <td>arbin_res</td>\n",
       "      <td>test</td>\n",
       "      <td>0</td>\n",
       "      <td>cell004</td>\n",
       "      <td>data\\cellpyfiles\\20160805_test001_45_cc_04.cellpy</td>\n",
       "      <td>data/raw/20160805_test001_45_cc_04.res</td>\n",
       "      <td>1</td>\n",
       "      <td>4</td>\n",
       "    </tr>\n",
       "    <tr>\n",
       "      <th>4</th>\n",
       "      <td>test005</td>\n",
       "      <td>1</td>\n",
       "      <td>5</td>\n",
       "      <td>0.447178</td>\n",
       "      <td>2.7875</td>\n",
       "      <td>0.946138</td>\n",
       "      <td>3117.4</td>\n",
       "      <td>cycling</td>\n",
       "      <td>anode</td>\n",
       "      <td>arbin_res</td>\n",
       "      <td>test</td>\n",
       "      <td>0</td>\n",
       "      <td>cell005</td>\n",
       "      <td>data\\cellpyfiles\\20160805_test001_45_cc_05.cellpy</td>\n",
       "      <td>data/raw/20160805_test001_45_cc_05.res</td>\n",
       "      <td>2</td>\n",
       "      <td>1</td>\n",
       "    </tr>\n",
       "  </tbody>\n",
       "</table>\n",
       "</div>"
      ],
      "text/plain": [
       "  filename  keep  id_key      mass  total_mass   loading  nom_cap experiment  \\\n",
       "0  test001     1       1  0.510262      2.8175  0.956369   2970.0    cycling   \n",
       "1  test002     1       2  0.454388      2.5375  0.861326   2926.0    cycling   \n",
       "2  test003     1       3  0.495843      2.6975  0.915636   3454.0    cycling   \n",
       "3  test004     1       4  0.454388      2.8975  0.983475   3080.0    cycling   \n",
       "4  test005     1       5  0.447178      2.7875  0.946138   3117.4    cycling   \n",
       "\n",
       "  cell_type instrument comment  fixed    label  \\\n",
       "0     anode  arbin_res    test      0  cell001   \n",
       "1     anode  arbin_res    test      0  cell002   \n",
       "2     anode  arbin_res    test      0  cell003   \n",
       "3     anode  arbin_res    test      0  cell004   \n",
       "4     anode  arbin_res    test      0  cell005   \n",
       "\n",
       "                                    cellpy_file_name  \\\n",
       "0  data\\cellpyfiles\\20160805_test001_45_cc_01.cellpy   \n",
       "1  data\\cellpyfiles\\20160805_test001_45_cc_02.cellpy   \n",
       "2  data\\cellpyfiles\\20160805_test001_45_cc_03.cellpy   \n",
       "3  data\\cellpyfiles\\20160805_test001_45_cc_04.cellpy   \n",
       "4  data\\cellpyfiles\\20160805_test001_45_cc_05.cellpy   \n",
       "\n",
       "                           raw_file_names  group  sub_group  \n",
       "0  data/raw/20160805_test001_45_cc_01.res      1          1  \n",
       "1  data/raw/20160805_test001_45_cc_02.res      1          2  \n",
       "2  data/raw/20160805_test001_45_cc_03.res      1          3  \n",
       "3  data/raw/20160805_test001_45_cc_04.res      1          4  \n",
       "4  data/raw/20160805_test001_45_cc_05.res      2          1  "
      ]
     },
     "execution_count": 239,
     "metadata": {},
     "output_type": "execute_result"
    }
   ],
   "source": [
    "pages2"
   ]
  },
  {
   "cell_type": "code",
   "execution_count": 134,
   "id": "9a81703e-b1ed-4020-a4f8-8902302a983e",
   "metadata": {},
   "outputs": [
    {
     "data": {
      "text/html": [
       "<div>\n",
       "<style scoped>\n",
       "    .dataframe tbody tr th:only-of-type {\n",
       "        vertical-align: middle;\n",
       "    }\n",
       "\n",
       "    .dataframe tbody tr th {\n",
       "        vertical-align: top;\n",
       "    }\n",
       "\n",
       "    .dataframe thead th {\n",
       "        text-align: right;\n",
       "    }\n",
       "</style>\n",
       "<table border=\"1\" class=\"dataframe\">\n",
       "  <thead>\n",
       "    <tr style=\"text-align: right;\">\n",
       "      <th></th>\n",
       "      <th>Unnamed: 0</th>\n",
       "      <th>bad_cycle_number</th>\n",
       "      <th>Unnamed: 2</th>\n",
       "      <th>bad_cells</th>\n",
       "      <th>notes</th>\n",
       "    </tr>\n",
       "  </thead>\n",
       "  <tbody>\n",
       "    <tr>\n",
       "      <th>0</th>\n",
       "      <td>NaN</td>\n",
       "      <td>cell_name</td>\n",
       "      <td>cycle_index</td>\n",
       "      <td>cell_name</td>\n",
       "      <td>txt</td>\n",
       "    </tr>\n",
       "    <tr>\n",
       "      <th>1</th>\n",
       "      <td>NaN</td>\n",
       "      <td>NaN</td>\n",
       "      <td>NaN</td>\n",
       "      <td>NaN</td>\n",
       "      <td>NaN</td>\n",
       "    </tr>\n",
       "    <tr>\n",
       "      <th>2</th>\n",
       "      <td>0.0</td>\n",
       "      <td>20160805_test001_45_cc</td>\n",
       "      <td>4</td>\n",
       "      <td>20160805_test001_45_cc</td>\n",
       "      <td>one comment for the road</td>\n",
       "    </tr>\n",
       "    <tr>\n",
       "      <th>3</th>\n",
       "      <td>1.0</td>\n",
       "      <td>20160805_test001_45_cc</td>\n",
       "      <td>337</td>\n",
       "      <td>another_cell_000_cc</td>\n",
       "      <td>another comment</td>\n",
       "    </tr>\n",
       "    <tr>\n",
       "      <th>4</th>\n",
       "      <td>2.0</td>\n",
       "      <td>20160805_test001_45_cc</td>\n",
       "      <td>338</td>\n",
       "      <td>NaN</td>\n",
       "      <td>a third comment</td>\n",
       "    </tr>\n",
       "    <tr>\n",
       "      <th>5</th>\n",
       "      <td>4.0</td>\n",
       "      <td>20160805_test001_47_cc</td>\n",
       "      <td>7</td>\n",
       "      <td>NaN</td>\n",
       "      <td>NaN</td>\n",
       "    </tr>\n",
       "    <tr>\n",
       "      <th>6</th>\n",
       "      <td>5.0</td>\n",
       "      <td>20160805_test001_47_cc</td>\n",
       "      <td>8</td>\n",
       "      <td>NaN</td>\n",
       "      <td>NaN</td>\n",
       "    </tr>\n",
       "    <tr>\n",
       "      <th>7</th>\n",
       "      <td>6.0</td>\n",
       "      <td>20160805_test001_47_cc</td>\n",
       "      <td>9</td>\n",
       "      <td>NaN</td>\n",
       "      <td>NaN</td>\n",
       "    </tr>\n",
       "    <tr>\n",
       "      <th>8</th>\n",
       "      <td>7.0</td>\n",
       "      <td>20160805_test001_47_cc</td>\n",
       "      <td>33</td>\n",
       "      <td>NaN</td>\n",
       "      <td>NaN</td>\n",
       "    </tr>\n",
       "  </tbody>\n",
       "</table>\n",
       "</div>"
      ],
      "text/plain": [
       "   Unnamed: 0        bad_cycle_number   Unnamed: 2               bad_cells  \\\n",
       "0         NaN               cell_name  cycle_index               cell_name   \n",
       "1         NaN                     NaN          NaN                     NaN   \n",
       "2         0.0  20160805_test001_45_cc            4  20160805_test001_45_cc   \n",
       "3         1.0  20160805_test001_45_cc          337     another_cell_000_cc   \n",
       "4         2.0  20160805_test001_45_cc          338                     NaN   \n",
       "5         4.0  20160805_test001_47_cc            7                     NaN   \n",
       "6         5.0  20160805_test001_47_cc            8                     NaN   \n",
       "7         6.0  20160805_test001_47_cc            9                     NaN   \n",
       "8         7.0  20160805_test001_47_cc           33                     NaN   \n",
       "\n",
       "                      notes  \n",
       "0                       txt  \n",
       "1                       NaN  \n",
       "2  one comment for the road  \n",
       "3           another comment  \n",
       "4           a third comment  \n",
       "5                       NaN  \n",
       "6                       NaN  \n",
       "7                       NaN  \n",
       "8                       NaN  "
      ]
     },
     "execution_count": 134,
     "metadata": {},
     "output_type": "execute_result"
    }
   ],
   "source": [
    "session2"
   ]
  },
  {
   "cell_type": "code",
   "execution_count": 135,
   "id": "2af3db72-1955-47ad-a757-8fc63686816b",
   "metadata": {},
   "outputs": [
    {
     "data": {
      "text/html": [
       "<div>\n",
       "<style scoped>\n",
       "    .dataframe tbody tr th:only-of-type {\n",
       "        vertical-align: middle;\n",
       "    }\n",
       "\n",
       "    .dataframe tbody tr th {\n",
       "        vertical-align: top;\n",
       "    }\n",
       "\n",
       "    .dataframe thead th {\n",
       "        text-align: right;\n",
       "    }\n",
       "</style>\n",
       "<table border=\"1\" class=\"dataframe\">\n",
       "  <thead>\n",
       "    <tr style=\"text-align: right;\">\n",
       "      <th></th>\n",
       "      <th>Unnamed: 0</th>\n",
       "      <th>parameter</th>\n",
       "      <th>value</th>\n",
       "    </tr>\n",
       "  </thead>\n",
       "  <tbody>\n",
       "    <tr>\n",
       "      <th>0</th>\n",
       "      <td>0</td>\n",
       "      <td>name</td>\n",
       "      <td>test_journal</td>\n",
       "    </tr>\n",
       "    <tr>\n",
       "      <th>1</th>\n",
       "      <td>1</td>\n",
       "      <td>project</td>\n",
       "      <td>NaN</td>\n",
       "    </tr>\n",
       "    <tr>\n",
       "      <th>2</th>\n",
       "      <td>2</td>\n",
       "      <td>time_stamp</td>\n",
       "      <td>NaN</td>\n",
       "    </tr>\n",
       "    <tr>\n",
       "      <th>3</th>\n",
       "      <td>3</td>\n",
       "      <td>project_dir</td>\n",
       "      <td>.</td>\n",
       "    </tr>\n",
       "    <tr>\n",
       "      <th>4</th>\n",
       "      <td>4</td>\n",
       "      <td>batch_dir</td>\n",
       "      <td>.</td>\n",
       "    </tr>\n",
       "    <tr>\n",
       "      <th>5</th>\n",
       "      <td>5</td>\n",
       "      <td>raw_dir</td>\n",
       "      <td>.</td>\n",
       "    </tr>\n",
       "  </tbody>\n",
       "</table>\n",
       "</div>"
      ],
      "text/plain": [
       "   Unnamed: 0    parameter         value\n",
       "0           0         name  test_journal\n",
       "1           1      project           NaN\n",
       "2           2   time_stamp           NaN\n",
       "3           3  project_dir             .\n",
       "4           4    batch_dir             .\n",
       "5           5      raw_dir             ."
      ]
     },
     "execution_count": 135,
     "metadata": {},
     "output_type": "execute_result"
    }
   ],
   "source": [
    "df_meta2"
   ]
  },
  {
   "cell_type": "code",
   "execution_count": 57,
   "id": "f07a7ef3-f460-46d2-8bea-01ed962feae4",
   "metadata": {},
   "outputs": [
    {
     "data": {
      "text/plain": [
       "{'name': 'test_journal',\n",
       " 'project': 'NaN',\n",
       " 'time_stamp': None,\n",
       " 'project_dir': WindowsPath('.'),\n",
       " 'batch_dir': WindowsPath('.'),\n",
       " 'raw_dir': WindowsPath('.')}"
      ]
     },
     "execution_count": 57,
     "metadata": {},
     "output_type": "execute_result"
    }
   ],
   "source": [
    "j._prm_packer()"
   ]
  },
  {
   "cell_type": "code",
   "execution_count": null,
   "id": "b9c63423-a5ee-476d-aaa4-6fe764854fbb",
   "metadata": {},
   "outputs": [],
   "source": []
  }
 ],
 "metadata": {
  "kernelspec": {
   "display_name": "cellpy",
   "language": "python",
   "name": "python3"
  },
  "language_info": {
   "codemirror_mode": {
    "name": "ipython",
    "version": 3
   },
   "file_extension": ".py",
   "mimetype": "text/x-python",
   "name": "python",
   "nbconvert_exporter": "python",
   "pygments_lexer": "ipython3",
   "version": "3.8.8"
  }
 },
 "nbformat": 4,
 "nbformat_minor": 5
}
