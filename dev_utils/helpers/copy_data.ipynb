{
 "cells": [
  {
   "cell_type": "markdown",
   "metadata": {},
   "source": [
    "# copy data"
   ]
  },
  {
   "cell_type": "code",
   "execution_count": 1,
   "metadata": {},
   "outputs": [],
   "source": [
    "from pathlib import Path\n",
    "import shutil\n",
    "import tqdm\n",
    "\n",
    "import cellpy\n",
    "from cellpy.utils import batch\n",
    "from cellpy.readers import dbreader"
   ]
  },
  {
   "cell_type": "code",
   "execution_count": 2,
   "metadata": {},
   "outputs": [],
   "source": [
    "# Folder to copy to\n",
    "new_folder = Path(r\"I:\\Org\\MPT-BAT-Students\\data\")\n",
    "\n",
    "# Parameters for the batch\n",
    "project = \"SilcRoad\"\n",
    "name = \"SilcRoad\"\n",
    "batch_col = \"project\"\n",
    "overwrite = False"
   ]
  },
  {
   "cell_type": "code",
   "execution_count": 3,
   "metadata": {},
   "outputs": [],
   "source": [
    "# Create the batch object\n",
    "b = batch.init(name, project, batch_col=batch_col)"
   ]
  },
  {
   "cell_type": "code",
   "execution_count": 4,
   "metadata": {},
   "outputs": [],
   "source": [
    "b.create_journal()"
   ]
  },
  {
   "cell_type": "code",
   "execution_count": 5,
   "metadata": {},
   "outputs": [
    {
     "name": "stdout",
     "output_type": "stream",
     "text": [
      "[[-][[-][[-][[-][[-][[-][[-][[-][[-][[-][[-][[-][[-][[-][[-][[-][[-][[-][[-][[-][[-][[-][[-][[-][[-][[-][[-][[-][[-][[-][[-][[-][[-][[-][[-][[-][[-][[-][[-][[-][[-][[-][c][c][c][c][c][c][c][c][c][c][c][c][c][c][c][c][c][c][c][c][c][c][c][c][c][c][c][c][c][c][c][c][c][c][c][c][c][c][c][c][c][c][c][c][c][c][c][c][c][c][c][c][c][c][c][c][c][c][c][c][c][c][c][c][c][c][c][c][c][c][c][c][c][c][c][c][c][c][c][c][c][c][c][c][c][c][c][c][c][c][c][c][c][c][c][c][c][c][c][c][c][c][c][c][c][c][c][c][c][c][c][c][c][c][c][c][c][c][c][c][c][c][c][c][c][c][c][c][c][c][c][c][c][c][c][c][c][c][c][c][c][c][c][c][c][c][c][c][c][c][c][c][c][c][c][c][c][c][c][c][c][c][c][c][c][c][c][c][c][c][c][c][c][c][c][c][[-]"
     ]
    }
   ],
   "source": [
    "# This is for trying to find out how to best use tqdm\n",
    "\n",
    "for raw_files in b.pages.raw_file_names:\n",
    "    for raw_file in raw_files:\n",
    "        old_file = Path(raw_file)\n",
    "        new_file = new_folder / old_file.name\n",
    "        if not new_file.is_file():\n",
    "            print(\"[c]\", end=\"\")\n",
    "        else:\n",
    "            if overwrite:\n",
    "                print(\"[u]\")\n",
    "            else:\n",
    "                print(\"[-]\", end=\"\")"
   ]
  },
  {
   "cell_type": "code",
   "execution_count": 6,
   "metadata": {},
   "outputs": [
    {
     "name": "stdout",
     "output_type": "stream",
     "text": [
      "[[-][[-][[-][[-][[-][[-][[-][[-][[-][[-][[-][[-][[-][[-][[-][[-][[-][[-][[-][[-][[-][[-][[-][[-][[-][[-][[-][[-][[-][[-][[-][[-][[-][[-][[-][[-][[-][[-][[-][[-][[-][[-][c][c][c][c][c][c][c][c][c][c][c][c][c][c][c][c][c][c][c][c][c][c][c][c][c][c][c][c][c][c][c][c][c][c][c][c][c][c][c][c][c][c][c][c][c][c][c][c][c][c][c][c][c][c][c][c][c][c][c][c][c][c][c][c][c][c][c][c][c][c][c][c][c][c][c][c][c][c][c][c][c][c][c][c][c][c][c][c][c][c][c][c][c][c][c][c][c][c][c][c][c][c][c][c][c][c][c][c][c][c][c][c][c][c][c][c][c][c][c][c][c][c][c][c][c][c][c][c][c][c][c][c][c][c][c][c][c][c][c][c][c][c][c][c][c][c][c][c][c][c][c][c][c][c][c][c][c][c][c][c][c][c][c][c][c][c][c][c][c][c][c][c][c][c][c][c][[-]"
     ]
    }
   ],
   "source": [
    "# copy the files\n",
    "\n",
    "for raw_files in b.pages.raw_file_names:\n",
    "    for raw_file in raw_files:\n",
    "        old_file = Path(raw_file)\n",
    "        new_file = new_folder / old_file.name\n",
    "        if not new_file.is_file():\n",
    "            print(\"[c]\", end=\"\")\n",
    "            shutil.copy(old_file, new_file)\n",
    "        else:\n",
    "            print(\"[\", end=\"\")\n",
    "            if overwrite:\n",
    "                new_file.unlink()\n",
    "                print(\"[u]\", end=\"\")\n",
    "                shutil.copy(old_file, new_file)\n",
    "            else:\n",
    "                print(\"[-]\", end=\"\")"
   ]
  },
  {
   "cell_type": "code",
   "execution_count": null,
   "metadata": {},
   "outputs": [],
   "source": []
  }
 ],
 "metadata": {
  "kernelspec": {
   "display_name": "cellpy",
   "language": "python",
   "name": "cellpy"
  },
  "language_info": {
   "codemirror_mode": {
    "name": "ipython",
    "version": 3
   },
   "file_extension": ".py",
   "mimetype": "text/x-python",
   "name": "python",
   "nbconvert_exporter": "python",
   "pygments_lexer": "ipython3",
   "version": "3.8.3"
  }
 },
 "nbformat": 4,
 "nbformat_minor": 4
}
