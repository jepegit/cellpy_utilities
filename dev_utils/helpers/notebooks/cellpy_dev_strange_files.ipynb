{
 "cells": [
  {
   "cell_type": "markdown",
   "metadata": {},
   "source": [
    "# 1. Settings"
   ]
  },
  {
   "cell_type": "code",
   "execution_count": null,
   "metadata": {},
   "outputs": [],
   "source": [
    "%load_ext autoreload\n",
    "%autoreload 2"
   ]
  },
  {
   "cell_type": "code",
   "execution_count": null,
   "metadata": {},
   "outputs": [],
   "source": [
    "import numpy as np\n",
    "import pandas as pd\n",
    "import matplotlib.pyplot as plt\n",
    "\n",
    "import cellpy\n",
    "from cellpy import log\n",
    "from cellpy import cellreader\n",
    "from cellpy import prms\n",
    "from cellpy import prmreader\n",
    "from cellpy.utils import batch\n",
    "\n",
    "# import holoviews as hv\n",
    "\n",
    "%matplotlib inline\n",
    "# hv.extension('bokeh')"
   ]
  },
  {
   "cell_type": "code",
   "execution_count": null,
   "metadata": {},
   "outputs": [],
   "source": [
    "log.setup_logging(default_level=\"DEBUG\")"
   ]
  },
  {
   "cell_type": "code",
   "execution_count": null,
   "metadata": {},
   "outputs": [],
   "source": [
    "## Uncomment this and run for checking your cellpy parameters.\n",
    "# prmreader.info()"
   ]
  },
  {
   "cell_type": "code",
   "execution_count": null,
   "metadata": {},
   "outputs": [],
   "source": [
    "filepath = r\"C:\\Scripting\\MyFiles\\development_cellpy\\dev_data\\arbin\\2019_types.res\"\n",
    "\n",
    "\n",
    "filepath = [\n",
    "    r\"C:\\Scripting\\MyFiles\\development_cellpy\\dev_data\\arbin\\20181126_cen41_02_cc_01.res\",\n",
    "    r\"C:\\Scripting\\MyFiles\\development_cellpy\\dev_data\\arbin\\20181126_cen41_02_cc_02.res\",\n",
    "    r\"C:\\Scripting\\MyFiles\\development_cellpy\\dev_data\\arbin\\20181126_cen41_02_cc_03.res\",\n",
    "    r\"C:\\Scripting\\MyFiles\\development_cellpy\\dev_data\\arbin\\20181126_cen41_02_cc_04.res\",\n",
    "    r\"C:\\Scripting\\MyFiles\\development_cellpy\\dev_data\\arbin\\20181126_cen41_02_cc_05.res\",\n",
    "    r\"C:\\Scripting\\MyFiles\\development_cellpy\\dev_data\\arbin\\20181126_cen41_02_cc_06.res\",\n",
    "]\n",
    "\n",
    "\n",
    "filepath2 = filepath[0]\n",
    "\n",
    "\n",
    "m = 0.374433\n",
    "outfilepath = r\"C:\\Scripting\\MyFiles\\development_cellpy\\dev_data\\arbin\\2019_types.h5\"\n",
    "prms.Paths.rawdatadir = r\"C:\\ExperimentalData\\BatteryTestData\\Arbin\\RAW\""
   ]
  },
  {
   "cell_type": "code",
   "execution_count": null,
   "metadata": {},
   "outputs": [],
   "source": [
    "cell = cellreader.CellpyData()\n",
    "cell.from_raw(filepath)\n",
    "\n",
    "cell2 = cellreader.CellpyData()\n",
    "cell2.from_raw(filepath2)"
   ]
  },
  {
   "cell_type": "code",
   "execution_count": null,
   "metadata": {},
   "outputs": [],
   "source": [
    "cell.set_mass(m)\n",
    "cell2.set_mass(m)"
   ]
  },
  {
   "cell_type": "code",
   "execution_count": null,
   "metadata": {},
   "outputs": [],
   "source": []
  },
  {
   "cell_type": "code",
   "execution_count": null,
   "metadata": {},
   "outputs": [],
   "source": []
  },
  {
   "cell_type": "code",
   "execution_count": null,
   "metadata": {},
   "outputs": [],
   "source": []
  },
  {
   "cell_type": "code",
   "execution_count": null,
   "metadata": {},
   "outputs": [],
   "source": []
  },
  {
   "cell_type": "code",
   "execution_count": null,
   "metadata": {},
   "outputs": [],
   "source": [
    "cell.make_step_table()\n",
    "cell2.make_step_table()"
   ]
  },
  {
   "cell_type": "code",
   "execution_count": null,
   "metadata": {},
   "outputs": [],
   "source": [
    "cell.make_summary()\n",
    "cell2.make_summary()"
   ]
  },
  {
   "cell_type": "code",
   "execution_count": null,
   "metadata": {},
   "outputs": [],
   "source": [
    "dataset = cell.dataset\n",
    "dataset2 = cell2.dataset"
   ]
  },
  {
   "cell_type": "code",
   "execution_count": null,
   "metadata": {},
   "outputs": [],
   "source": []
  },
  {
   "cell_type": "code",
   "execution_count": null,
   "metadata": {},
   "outputs": [],
   "source": []
  },
  {
   "cell_type": "code",
   "execution_count": null,
   "metadata": {},
   "outputs": [],
   "source": []
  },
  {
   "cell_type": "code",
   "execution_count": null,
   "metadata": {},
   "outputs": [],
   "source": [
    "dataset.summary"
   ]
  },
  {
   "cell_type": "code",
   "execution_count": null,
   "metadata": {},
   "outputs": [],
   "source": [
    "dataset.steps"
   ]
  },
  {
   "cell_type": "code",
   "execution_count": null,
   "metadata": {},
   "outputs": [],
   "source": [
    "dataset.raw"
   ]
  },
  {
   "cell_type": "code",
   "execution_count": null,
   "metadata": {},
   "outputs": [],
   "source": [
    "dataset.raw.describe()"
   ]
  },
  {
   "cell_type": "code",
   "execution_count": null,
   "metadata": {},
   "outputs": [],
   "source": [
    "dataset.raw.dtypes"
   ]
  },
  {
   "cell_type": "code",
   "execution_count": null,
   "metadata": {},
   "outputs": [],
   "source": [
    "dataset2.raw.dtypes"
   ]
  },
  {
   "cell_type": "code",
   "execution_count": null,
   "metadata": {},
   "outputs": [],
   "source": [
    "dataset.raw.Step_Index.unique()"
   ]
  },
  {
   "cell_type": "code",
   "execution_count": null,
   "metadata": {},
   "outputs": [],
   "source": [
    "dataset2.raw.Step_Index.unique()"
   ]
  },
  {
   "cell_type": "code",
   "execution_count": null,
   "metadata": {},
   "outputs": [],
   "source": []
  },
  {
   "cell_type": "code",
   "execution_count": null,
   "metadata": {},
   "outputs": [],
   "source": [
    "dataset.summary.dtypes"
   ]
  },
  {
   "cell_type": "code",
   "execution_count": null,
   "metadata": {},
   "outputs": [],
   "source": [
    "dataset.steps.dtypes"
   ]
  },
  {
   "cell_type": "code",
   "execution_count": null,
   "metadata": {},
   "outputs": [],
   "source": [
    "cell.save(outfilepath)"
   ]
  },
  {
   "cell_type": "code",
   "execution_count": null,
   "metadata": {},
   "outputs": [],
   "source": []
  },
  {
   "cell_type": "code",
   "execution_count": null,
   "metadata": {},
   "outputs": [],
   "source": []
  },
  {
   "cell_type": "code",
   "execution_count": null,
   "metadata": {},
   "outputs": [],
   "source": []
  },
  {
   "cell_type": "code",
   "execution_count": null,
   "metadata": {},
   "outputs": [],
   "source": []
  },
  {
   "cell_type": "code",
   "execution_count": null,
   "metadata": {},
   "outputs": [],
   "source": []
  },
  {
   "cell_type": "code",
   "execution_count": null,
   "metadata": {},
   "outputs": [],
   "source": []
  },
  {
   "cell_type": "code",
   "execution_count": null,
   "metadata": {},
   "outputs": [],
   "source": []
  },
  {
   "cell_type": "code",
   "execution_count": null,
   "metadata": {},
   "outputs": [],
   "source": []
  },
  {
   "cell_type": "markdown",
   "metadata": {},
   "source": [
    "# 4. Looking at the data"
   ]
  },
  {
   "cell_type": "markdown",
   "metadata": {},
   "source": [
    "## Summaries"
   ]
  },
  {
   "cell_type": "code",
   "execution_count": null,
   "metadata": {},
   "outputs": [],
   "source": [
    "# Plot the charge capacity and the C.E. (and resistance) vs. cycle number (standard plot)\n",
    "b.plot_summaries()"
   ]
  },
  {
   "cell_type": "code",
   "execution_count": null,
   "metadata": {},
   "outputs": [],
   "source": [
    "# Show the journal pages\n",
    "# b.experiment.journal.pages.head()"
   ]
  },
  {
   "cell_type": "code",
   "execution_count": null,
   "metadata": {},
   "outputs": [],
   "source": [
    "# Show the most important part of the journal pages\n",
    "b.view"
   ]
  },
  {
   "cell_type": "code",
   "execution_count": null,
   "metadata": {},
   "outputs": [],
   "source": [
    "# b.experiment.status()"
   ]
  },
  {
   "cell_type": "code",
   "execution_count": null,
   "metadata": {},
   "outputs": [],
   "source": [
    "# b.summaries.head()"
   ]
  },
  {
   "cell_type": "markdown",
   "metadata": {},
   "source": [
    "## Cycles"
   ]
  },
  {
   "cell_type": "code",
   "execution_count": null,
   "metadata": {},
   "outputs": [],
   "source": [
    "%%opts Curve (color=hv.Palette('Magma'))\n",
    "voltage_curves = dict()\n",
    "for label in b.experiment.cell_names:\n",
    "    d = b.experiment.data[label]\n",
    "    curves = d.get_cap(label_cycle_number=True, interpolated=True, number_of_points=100)\n",
    "    curve = hv.Curve(curves, kdims=[\"capacity\", \"cycle\"], vdims=\"voltage\").groupby(\"cycle\").overlay().opts(show_legend=False)\n",
    "    voltage_curves[label] = curve\n",
    "NdLayout = hv.NdLayout(voltage_curves, kdims='label').cols(3)\n",
    "NdLayout"
   ]
  },
  {
   "cell_type": "code",
   "execution_count": null,
   "metadata": {},
   "outputs": [],
   "source": [
    "%%opts Curve (color=hv.Palette('Magma'))\n",
    "ocv_curves = dict()\n",
    "for label in b.experiment.cell_names:\n",
    "    d = b.experiment.data[label]\n",
    "    ocv_data = d.get_ocv(direction=\"up\", number_of_points=40)\n",
    "    ocv_curve = hv.Curve(ocv_data, kdims=[\"Step_Time\", \"Cycle_Index\"], vdims=\"Voltage\").groupby(\"Cycle_Index\").overlay().opts(show_legend=False)\n",
    "    ocv_curves[label] = ocv_curve\n",
    "\n",
    "NdLayout = hv.NdLayout(ocv_curves, kdims='label').cols(3)\n",
    "NdLayout"
   ]
  },
  {
   "cell_type": "markdown",
   "metadata": {},
   "source": [
    "### Selecting specific cells and investigating them"
   ]
  },
  {
   "cell_type": "code",
   "execution_count": null,
   "metadata": {},
   "outputs": [],
   "source": [
    "# This will show you all your cell names\n",
    "cell_labels = b.experiment.cell_names\n",
    "cell_labels"
   ]
  },
  {
   "cell_type": "code",
   "execution_count": null,
   "metadata": {},
   "outputs": [],
   "source": [
    "# This is how to select the data (CellpyData-objects)\n",
    "data1 = b.experiment.data[\"20160805_test001_45_cc\"]\n",
    "data2 = b.experiment.data[\"20160805_test001_47_cc\"]"
   ]
  },
  {
   "cell_type": "markdown",
   "metadata": {},
   "source": [
    "Let's see how the smoothing (interpolation) method works"
   ]
  },
  {
   "cell_type": "code",
   "execution_count": null,
   "metadata": {},
   "outputs": [],
   "source": [
    "# get voltage curves\n",
    "df_cycles1 = data1.get_cap(\n",
    "    method=\"back-and-forth\",\n",
    "    categorical_column=True,\n",
    "    label_cycle_number=True,\n",
    "    interpolated=False,\n",
    ")"
   ]
  },
  {
   "cell_type": "code",
   "execution_count": null,
   "metadata": {},
   "outputs": [],
   "source": [
    "# get interpolated voltage curves\n",
    "df_cycles2 = data1.get_cap(\n",
    "    method=\"back-and-forth\",\n",
    "    categorical_column=True,\n",
    "    label_cycle_number=True,\n",
    "    interpolated=True,\n",
    "    dx=0.1,\n",
    "    number_of_points=100,\n",
    ")"
   ]
  },
  {
   "cell_type": "code",
   "execution_count": null,
   "metadata": {},
   "outputs": [],
   "source": [
    "%%opts Scatter [width=600] (color=\"red\", alpha=0.9, size=12)\n",
    "single_curve = hv.Curve(df_cycles1, kdims=[\"capacity\", \"cycle\"], vdims=\"voltage\", label=\"not-smoothed\").groupby(\"cycle\")\n",
    "single_scatter = hv.Scatter(df_cycles2, kdims=[\"capacity\", \"cycle\"], vdims=\"voltage\", label=\"smoothed\").groupby(\"cycle\")\n",
    "single_scatter * single_curve"
   ]
  },
  {
   "cell_type": "markdown",
   "metadata": {},
   "source": [
    "## Using hvplot for plotting summaries"
   ]
  },
  {
   "cell_type": "markdown",
   "metadata": {},
   "source": [
    "You can for example use hvplot for looking more at your summary data"
   ]
  },
  {
   "cell_type": "code",
   "execution_count": null,
   "metadata": {},
   "outputs": [],
   "source": [
    "import hvplot.pandas"
   ]
  },
  {
   "cell_type": "code",
   "execution_count": null,
   "metadata": {},
   "outputs": [],
   "source": [
    "# hvplot does not like infinities\n",
    "s = b.summaries.replace([np.inf, -np.inf], np.nan)"
   ]
  },
  {
   "cell_type": "code",
   "execution_count": null,
   "metadata": {},
   "outputs": [],
   "source": [
    "layout = (\n",
    "    s[\"coulombic_efficiency\"].hvplot()\n",
    "    + s[\"discharge_capacity\"].hvplot() * s[\"charge_capacity\"].hvplot()\n",
    ")\n",
    "layout.cols(1)"
   ]
  },
  {
   "cell_type": "code",
   "execution_count": null,
   "metadata": {},
   "outputs": [],
   "source": [
    "s[\"cumulated_coulombic_efficiency\"].hvplot()"
   ]
  },
  {
   "cell_type": "markdown",
   "metadata": {},
   "source": [
    "## Looking more *in-depth* and utilising advanced features"
   ]
  },
  {
   "cell_type": "markdown",
   "metadata": {},
   "source": [
    "#### OCV relaxation points\n",
    "Picking out 5 points on each OCV relaxation curve (distributed by last, last/2, last/2/2, ..., first)."
   ]
  },
  {
   "cell_type": "code",
   "execution_count": null,
   "metadata": {},
   "outputs": [],
   "source": [
    "from cellpy.utils.batch_tools.batch_analyzers import OCVRelaxationAnalyzer\n",
    "\n",
    "print(\" analyzing ocv relaxation data \".center(80, \"-\"))\n",
    "analyzer = OCVRelaxationAnalyzer()\n",
    "analyzer.assign(b.experiment)\n",
    "analyzer.direction = \"down\"\n",
    "analyzer.do()\n",
    "dfs = analyzer.last\n",
    "df_file_one, _df_file_two = dfs\n",
    "\n",
    "# keeping only the columns with voltages\n",
    "ycols = [col for col in df_file_one.columns if col.find(\"point\") >= 0]\n",
    "\n",
    "# removing the first ocv rlx (relaxation before starting cycling)\n",
    "df = df_file_one.iloc[1:, :]\n",
    "# tidy format\n",
    "df = df.melt(id_vars=\"cycle\", var_name=\"point\", value_vars=ycols, value_name=\"voltage\")\n",
    "curve = (\n",
    "    hv.Curve(df, kdims=[\"cycle\", \"point\"], vdims=\"voltage\")\n",
    "    .groupby(\"point\")\n",
    "    .overlay()\n",
    "    .opts(xlim=(1, 10), width=800)\n",
    ")\n",
    "scatter = (\n",
    "    hv.Scatter(df, kdims=[\"cycle\", \"point\"], vdims=\"voltage\")\n",
    "    .groupby(\"point\")\n",
    "    .overlay()\n",
    "    .opts(xlim=(1, 10), ylim=(0.7, 1))\n",
    ")"
   ]
  },
  {
   "cell_type": "code",
   "execution_count": null,
   "metadata": {},
   "outputs": [],
   "source": [
    "layout = hv.Layout(curve * scatter)\n",
    "layout.cols(1)"
   ]
  },
  {
   "cell_type": "markdown",
   "metadata": {},
   "source": [
    "## Looking closer at some summary-plots"
   ]
  },
  {
   "cell_type": "code",
   "execution_count": null,
   "metadata": {},
   "outputs": [],
   "source": [
    "b.summary_columns"
   ]
  },
  {
   "cell_type": "code",
   "execution_count": null,
   "metadata": {},
   "outputs": [],
   "source": [
    "discharge_capacity = b.summaries.discharge_capacity\n",
    "charge_capacity = b.summaries.charge_capacity\n",
    "coulombic_efficiency = b.summaries.coulombic_efficiency\n",
    "ir_charge = b.summaries.ir_charge"
   ]
  },
  {
   "cell_type": "code",
   "execution_count": null,
   "metadata": {},
   "outputs": [],
   "source": [
    "fig, (ax1, ax2) = plt.subplots(2, 1)\n",
    "ax1.plot(discharge_capacity)\n",
    "ax1.set_ylabel(\"capacity \")\n",
    "ax2.plot(ir_charge)\n",
    "ax2.set_xlabel(\"cycle\")\n",
    "ax2.set_ylabel(\"resistance\")"
   ]
  },
  {
   "cell_type": "markdown",
   "metadata": {},
   "source": [
    "# 5. Checking for more details per cycle"
   ]
  },
  {
   "cell_type": "markdown",
   "metadata": {},
   "source": [
    "#### A. pick the CellpyData object for one of the cells"
   ]
  },
  {
   "cell_type": "code",
   "execution_count": null,
   "metadata": {},
   "outputs": [],
   "source": [
    "# Lets check what cells we have\n",
    "cell_labels = b.experiment.cell_names\n",
    "cell_labels"
   ]
  },
  {
   "cell_type": "code",
   "execution_count": null,
   "metadata": {},
   "outputs": [],
   "source": [
    "# OK, then I choose one of them\n",
    "data = b.experiment.data[\"20160805_test001_45_cc\"]"
   ]
  },
  {
   "cell_type": "markdown",
   "metadata": {},
   "source": [
    "#### B. Get some voltage curves for some cycles and plot them\n",
    "The method `get_cap` can be used to extract voltage curves."
   ]
  },
  {
   "cell_type": "code",
   "execution_count": null,
   "metadata": {},
   "outputs": [],
   "source": [
    "cap = data.get_cap(categorical_column=True)\n",
    "cap.head()"
   ]
  },
  {
   "cell_type": "code",
   "execution_count": null,
   "metadata": {},
   "outputs": [],
   "source": [
    "fig, ax = plt.subplots()\n",
    "ax.plot(cap.capacity, cap.voltage)\n",
    "ax.set_xlabel(\"capacity\")\n",
    "ax.set_ylabel(\"voltage\")"
   ]
  },
  {
   "cell_type": "code",
   "execution_count": null,
   "metadata": {},
   "outputs": [],
   "source": [
    "cv = data.get_cap(method=\"forth\")\n",
    "fig, ax = plt.subplots()\n",
    "ax.set_xlabel(\"capacity\")\n",
    "ax.set_ylabel(\"voltage\")\n",
    "ax.plot(cv.capacity, cv.voltage)"
   ]
  },
  {
   "cell_type": "code",
   "execution_count": null,
   "metadata": {},
   "outputs": [],
   "source": [
    "c4 = data.get_cap(cycle=4, method=\"forth-and-forth\")\n",
    "c10 = data.get_cap(cycle=10, method=\"forth-and-forth\")\n",
    "fig, ax = plt.subplots()\n",
    "ax.set_xlabel(\"capacity\")\n",
    "ax.set_ylabel(\"voltage\")\n",
    "ax.plot(c4.capacity, c4.voltage, \"ro\", label=\"cycle 4\")\n",
    "ax.plot(c10.capacity, c10.voltage, \"bs\", label=\"cycle 22\")\n",
    "ax.legend();"
   ]
  },
  {
   "cell_type": "markdown",
   "metadata": {},
   "source": [
    "### Looking at some dqdv data"
   ]
  },
  {
   "cell_type": "markdown",
   "metadata": {},
   "source": [
    "#### Get capacity cycles and make dqdv using the ica module"
   ]
  },
  {
   "cell_type": "code",
   "execution_count": null,
   "metadata": {},
   "outputs": [],
   "source": [
    "from cellpy.utils import ica\n",
    "\n",
    "v4, dqdv4 = ica.dqdv_cycle(\n",
    "    data.get_cap(4, categorical_column=True, method=\"forth-and-forth\")\n",
    ")\n",
    "\n",
    "v10, dqdv10 = ica.dqdv_cycle(\n",
    "    data.get_cap(10, categorical_column=True, method=\"forth-and-forth\")\n",
    ")\n",
    "\n",
    "plt.plot(v4, dqdv4, label=\"cycle 4\")\n",
    "plt.plot(v10, dqdv10, label=\"cycle 10\")\n",
    "plt.legend();"
   ]
  },
  {
   "cell_type": "markdown",
   "metadata": {},
   "source": [
    "#### Put it in a for-loop for plotting many ica plots"
   ]
  },
  {
   "cell_type": "code",
   "execution_count": null,
   "metadata": {},
   "outputs": [],
   "source": [
    "fig, ax = plt.subplots()\n",
    "for cycle in data.get_cycle_numbers():\n",
    "    d = data.get_cap(cycle, categorical_column=True, method=\"forth-and-forth\")\n",
    "    if not d.empty:\n",
    "        v, dqdv = ica.dqdv_cycle(d)\n",
    "        ax.plot(v, dqdv)\n",
    "    else:\n",
    "        print(f\"cycle {cycle} seems to be missing or corrupted\")"
   ]
  },
  {
   "cell_type": "markdown",
   "metadata": {},
   "source": [
    "### Get all the dqdv data in one go"
   ]
  },
  {
   "cell_type": "code",
   "execution_count": null,
   "metadata": {},
   "outputs": [],
   "source": [
    "hv.extension(\"bokeh\")"
   ]
  },
  {
   "cell_type": "code",
   "execution_count": null,
   "metadata": {},
   "outputs": [],
   "source": [
    "tidy_ica = ica.dqdv_frames(data)\n",
    "cycles = list(range(1, 3)) + [10, 11, 12, 15]\n",
    "tidy_ica = tidy_ica.loc[tidy_ica.cycle.isin(cycles), :]"
   ]
  },
  {
   "cell_type": "code",
   "execution_count": null,
   "metadata": {},
   "outputs": [],
   "source": [
    "%%opts Curve [xlim=(0,1)] (color=hv.Palette('Magma'), alpha=0.9) NdOverlay [legend_position='right', width=800, height=500]\n",
    "curve4 = (hv.Curve(tidy_ica, kdims=['voltage'], vdims=['dq', 'cycle'], label=\"Incremental capacity plot\")\n",
    "          .groupby(\"cycle\")\n",
    "          .overlay()\n",
    "         )\n",
    "curve4\n"
   ]
  },
  {
   "cell_type": "code",
   "execution_count": null,
   "metadata": {},
   "outputs": [],
   "source": []
  }
 ],
 "metadata": {
  "kernelspec": {
   "display_name": "Python3 (cellpy)",
   "language": "python",
   "name": "cellpy"
  },
  "language_info": {
   "codemirror_mode": {
    "name": "ipython",
    "version": 3
   },
   "file_extension": ".py",
   "mimetype": "text/x-python",
   "name": "python",
   "nbconvert_exporter": "python",
   "pygments_lexer": "ipython3",
   "version": "3.6.7"
  }
 },
 "nbformat": 4,
 "nbformat_minor": 2
}
