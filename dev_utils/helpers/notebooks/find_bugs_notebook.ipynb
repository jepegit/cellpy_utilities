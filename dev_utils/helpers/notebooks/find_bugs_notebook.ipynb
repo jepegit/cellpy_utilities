{
 "cells": [
  {
   "cell_type": "code",
   "execution_count": null,
   "metadata": {},
   "outputs": [],
   "source": [
    "%load_ext autoreload\n",
    "%autoreload 2"
   ]
  },
  {
   "cell_type": "code",
   "execution_count": null,
   "metadata": {},
   "outputs": [],
   "source": [
    "import matplotlib.pyplot as plt"
   ]
  },
  {
   "cell_type": "code",
   "execution_count": null,
   "metadata": {},
   "outputs": [],
   "source": [
    "%matplotlib widget"
   ]
  },
  {
   "cell_type": "code",
   "execution_count": null,
   "metadata": {},
   "outputs": [],
   "source": [
    "import pandas as pd\n",
    "from IPython.display import display\n",
    "\n",
    "pd.options.display.max_columns = None"
   ]
  },
  {
   "cell_type": "markdown",
   "metadata": {},
   "source": [
    "# Checking for bugs"
   ]
  },
  {
   "cell_type": "code",
   "execution_count": null,
   "metadata": {},
   "outputs": [],
   "source": [
    "name_of_evil_file = \"20180919_FC_LFP2_cen14_01_cc_01.res\"\n",
    "datapath = \"/Users/jepe/scripting/cellpy/dev_data/bugfixing\""
   ]
  },
  {
   "cell_type": "code",
   "execution_count": null,
   "metadata": {},
   "outputs": [],
   "source": [
    "import os\n",
    "import sys\n",
    "import time\n",
    "from pathlib import Path\n",
    "\n",
    "print(f\"running {sys.argv[0]}\")\n",
    "\n",
    "import cellpy\n",
    "from cellpy import log\n",
    "from cellpy import cellreader\n",
    "from cellpy.parameters import prms\n",
    "\n",
    "prms.Reader.use_cellpy_stat_file = False\n",
    "# prms.Reader.cycle_mode = \"cathode\"\n",
    "prms.Reader.sorted_data = False\n",
    "log.setup_logging(default_level=\"INFO\", custom_log_dir=os.getcwd())\n",
    "\n",
    "filename = Path(datapath) / name_of_evil_file\n",
    "\n",
    "assert os.path.isfile(filename)"
   ]
  },
  {
   "cell_type": "code",
   "execution_count": null,
   "metadata": {},
   "outputs": [],
   "source": [
    "d = cellreader.CellpyData()\n",
    "d.from_raw(filename)\n",
    "d.set_mass(0.12)\n",
    "d.make_step_table()\n",
    "d.make_summary()\n",
    "\n",
    "# checking extracting cycles\n",
    "n = d.get_number_of_cycles()\n",
    "c = d.get_cycle_numbers()"
   ]
  },
  {
   "cell_type": "code",
   "execution_count": null,
   "metadata": {},
   "outputs": [],
   "source": [
    "current = d.dataset.raw\n",
    "steps = d.dataset.steps"
   ]
  },
  {
   "cell_type": "code",
   "execution_count": null,
   "metadata": {},
   "outputs": [],
   "source": [
    "plt.close()"
   ]
  },
  {
   "cell_type": "code",
   "execution_count": null,
   "metadata": {},
   "outputs": [],
   "source": [
    "ch.iloc[-1]"
   ]
  },
  {
   "cell_type": "code",
   "execution_count": null,
   "metadata": {},
   "outputs": [],
   "source": [
    "fig, ax = plt.subplots()\n",
    "for cycle in c:\n",
    "    print(f\"{cycle}\", end=\".\")\n",
    "    ch, volt_ch = d.get_ccap(cycle=cycle)\n",
    "    dc, volt_dc = d.get_dcap(cycle=cycle)\n",
    "    last_point = ch.iloc[-1]\n",
    "    v = pd.concat([volt_ch, volt_dc])\n",
    "    cap = pd.concat([ch, last_point - dc])\n",
    "\n",
    "    ax.plot(cap, v)"
   ]
  },
  {
   "cell_type": "code",
   "execution_count": null,
   "metadata": {},
   "outputs": [],
   "source": [
    "def extract_dqdv(cell_data, extract=\"charge\", last_cycle=None):\n",
    "    \"\"\"Simple wrapper around the cellpy.utils.ica.dqdv function.\"\"\"\n",
    "\n",
    "    from cellpy.utils.ica import dqdv\n",
    "\n",
    "    list_of_cycles = cell_data.get_cycle_numbers()\n",
    "    if last_cycle is not None:\n",
    "        list_of_cycles = [c for c in list_of_cycles if c <= int(last_cycle)]\n",
    "        lprint(f\"only processing up to cycle {last_cycle}\")\n",
    "        lprint(f\"you have {len(list_of_cycles)} cycles to process\")\n",
    "    out_data = []\n",
    "    for cycle in list_of_cycles:\n",
    "        if extract == \"charge\":\n",
    "            c, v = cell_data.get_ccap(cycle)\n",
    "        else:\n",
    "            c, v = cell_data.get_dcap(cycle)\n",
    "        if v.any():\n",
    "            try:\n",
    "                v, dq = dqdv(v, c)\n",
    "                v = v.tolist()\n",
    "                dq = dq.tolist()\n",
    "            except IndexError or OverflowError as e:\n",
    "                v = list()\n",
    "                dq = list()\n",
    "                print(\" -could not process this (cycle %i)\" % cycle)\n",
    "                print(\" %s\" % e)\n",
    "\n",
    "            header_x = \"dQ cycle_no %i\" % cycle\n",
    "            header_y = \"voltage cycle_no %i\" % cycle\n",
    "            dq.insert(0, header_x)\n",
    "            v.insert(0, header_y)\n",
    "\n",
    "            out_data.append(v)\n",
    "            out_data.append(dq)\n",
    "        else:\n",
    "            print(f\"Empty step encountered for cycle={cycle}\")\n",
    "    return out_data"
   ]
  },
  {
   "cell_type": "code",
   "execution_count": null,
   "metadata": {},
   "outputs": [],
   "source": [
    "o1 = extract_dqdv(d, \"discharge\")\n",
    "o2 = extract_dqdv(d, \"charge\")"
   ]
  },
  {
   "cell_type": "code",
   "execution_count": null,
   "metadata": {},
   "outputs": [],
   "source": [
    "import warnings\n",
    "\n",
    "warnings.filterwarnings(\"default\")"
   ]
  },
  {
   "cell_type": "code",
   "execution_count": null,
   "metadata": {},
   "outputs": [],
   "source": [
    "from cellpy.utils.ica import dqdv\n",
    "\n",
    "c, v = d.get_ccap(2)\n",
    "v2, dq = dqdv(v, c)"
   ]
  },
  {
   "cell_type": "code",
   "execution_count": null,
   "metadata": {},
   "outputs": [],
   "source": [
    "fig2, (ax1, ax2) = plt.subplots(nrows=2, sharex=True)\n",
    "ax1.plot(v2, dq)\n",
    "ax2.plot(v, c)\n",
    "ax1.set_ylabel(\"dqdv\")\n",
    "ax2.set_ylabel(\"cap\")\n",
    "ax2.set_xlabel(\"voltage\")"
   ]
  },
  {
   "cell_type": "code",
   "execution_count": null,
   "metadata": {},
   "outputs": [],
   "source": [
    "dc, v3 = d.get_dcap(2)\n",
    "v4, dq2 = dqdv(v3, dc)"
   ]
  },
  {
   "cell_type": "code",
   "execution_count": null,
   "metadata": {},
   "outputs": [],
   "source": [
    "fig3, (ax3, ax4) = plt.subplots(nrows=2, sharex=True)\n",
    "ax3.plot(v4, dq2)\n",
    "ax4.plot(v3, dc)\n",
    "ax3.set_ylabel(\"dqdv\")\n",
    "ax4.set_ylabel(\"cap\")\n",
    "ax4.set_xlabel(\"voltage\")"
   ]
  },
  {
   "cell_type": "code",
   "execution_count": null,
   "metadata": {},
   "outputs": [],
   "source": [
    "print(f\"NOTE! get_ccap returns {type(v)} while dqdv returns {type(v2)}\")\n",
    "print(\n",
    "    \"NOTE! also important to note that numpy issues a deprecation warning when running\",\n",
    "    \"the scipy savgol_filter\",\n",
    ")"
   ]
  },
  {
   "cell_type": "markdown",
   "metadata": {},
   "source": [
    "# SUMMARY\n",
    "The dqdv routine should be improved in the future\n",
    "- if possible, it should return a dataframe\n",
    "- if possible, it should be an option to return a dataframe in tidy format with all cycles\n",
    "- if possible, it should be an option to return a xyyyyyy...y frame (interpolated)"
   ]
  },
  {
   "cell_type": "code",
   "execution_count": null,
   "metadata": {},
   "outputs": [],
   "source": []
  }
 ],
 "metadata": {
  "kernelspec": {
   "display_name": "Python3 (cellpy)",
   "language": "python",
   "name": "cellpy"
  },
  "language_info": {
   "codemirror_mode": {
    "name": "ipython",
    "version": 3
   },
   "file_extension": ".py",
   "mimetype": "text/x-python",
   "name": "python",
   "nbconvert_exporter": "python",
   "pygments_lexer": "ipython3",
   "version": "3.6.7"
  }
 },
 "nbformat": 4,
 "nbformat_minor": 2
}
