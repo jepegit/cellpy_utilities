{
 "cells": [
  {
   "cell_type": "markdown",
   "metadata": {},
   "source": [
    "# Fitting of dqdv peaks\n",
    "The purpose of this notebook is to evaluate and develope a robust way of fitting dqdv data. The plan is then to implement this into the cellpy.utils.ica module (as seperate classes). It would also be valuable to equip the fitting class(es) with optional ipywidgets."
   ]
  },
  {
   "cell_type": "code",
   "execution_count": null,
   "metadata": {},
   "outputs": [],
   "source": [
    "%load_ext autoreload\n",
    "%autoreload 2"
   ]
  },
  {
   "cell_type": "code",
   "execution_count": null,
   "metadata": {},
   "outputs": [],
   "source": [
    "import os\n",
    "import copy\n",
    "import logging\n",
    "import bokeh\n",
    "import numpy as np\n",
    "import matplotlib.pyplot as plt\n",
    "import pandas as pd\n",
    "from cellpy import cellreader\n",
    "from cellpy.utils import ica\n",
    "import holoviews as hv\n",
    "\n",
    "import ipywidgets as widgets\n",
    "from ipywidgets import interact, interact_manual\n",
    "\n",
    "%matplotlib inline\n",
    "hv.extension(\"bokeh\")\n",
    "\n",
    "logger = logging.getLogger(__name__)\n",
    "logger.setLevel(logging.INFO)\n",
    "\n",
    "my_data = cellreader.CellpyData()\n",
    "filename = \"../../../testdata/hdf5/20160805_test001_45_cc.h5\"\n",
    "assert os.path.isfile(filename)\n",
    "my_data.load(filename)\n",
    "my_data.set_mass(0.1)\n",
    "\n",
    "from icafit import *"
   ]
  },
  {
   "cell_type": "markdown",
   "metadata": {},
   "source": [
    "## Defining dqdv peak ensambles\n",
    "The natural way (and my impression is that this is how other groups also do it) of conducting an \"in-depth\" ica study on a LiB cell would be to measure ica of re-buildt half-cells of both the cathode and the anode of the full cells, fit the peaks of the half cells, and then a use convolution of these fits to fit the actual full cell.\n",
    "\n",
    "\n",
    "### Examples from the literature\n",
    "Should include references here...\n",
    "\n",
    "### Plan\n",
    "1. Create a class (PeakEnsamble)\n",
    "2. Create peak ensambles by sub-classing PeakEnsamble\n",
    "\n",
    "### ToDo\n",
    "- [x] Fix so that it is possible to turn crystalline peak on and off for Si peaks\n",
    "- [ ] Set peak attributes directly\n",
    "- [ ] Make it easy (and obvious) to use previous fit-prms for new fit\n",
    "- [x] Use `__add__`\n",
    "- [x] Combine all fit-results into one dataframe\n",
    "- [ ] Make a ipywidget for at least one of the prms (e.g. scale)\n",
    "- [ ] Make it possible to freeze peaks and ensambles\n",
    "- [ ] Make it possible to zero out peaks?\n",
    "- [x] Fit negative of discharge curves\n",
    "- [ ] Fit discharge and charge in one go? (\"hysteresis parameter\")"
   ]
  },
  {
   "cell_type": "code",
   "execution_count": null,
   "metadata": {},
   "outputs": [],
   "source": []
  },
  {
   "cell_type": "code",
   "execution_count": null,
   "metadata": {},
   "outputs": [],
   "source": [
    "logger.setLevel(logging.DEBUG)"
   ]
  },
  {
   "cell_type": "code",
   "execution_count": null,
   "metadata": {},
   "outputs": [],
   "source": [
    "import logging\n",
    "from colorama import Fore\n",
    "import ipywidgets as widgets\n",
    "\n",
    "\n",
    "class log_viewer(logging.Handler):\n",
    "    \"\"\"Class to redistribute python logging data\"\"\"\n",
    "\n",
    "    # have a class member to store the existing logger\n",
    "    logger_instance = logging.getLogger(\"__name__\")\n",
    "\n",
    "    def __init__(self, output=None, up_side_down=True, max_lines=20, *args, **kwargs):\n",
    "        self._output = output\n",
    "        self.up_side_down = up_side_down\n",
    "        self.max_lines = max_lines\n",
    "        if self._output is None:\n",
    "            self._output = widgets.Output(\n",
    "                layout=widgets.Layout(width=\"600px\", height=\"160px\", border=\"solid\")\n",
    "            )\n",
    "        self._output.layout.overflow_y = \"scroll\"\n",
    "\n",
    "        # Initialize the Handler\n",
    "        logging.Handler.__init__(self, *args)\n",
    "\n",
    "        # optional take format\n",
    "        # setFormatter function is derived from logging.Handler\n",
    "        for key, value in kwargs.items():\n",
    "            if \"{}\".format(key) == \"format\":\n",
    "                self.setFormatter(value)\n",
    "\n",
    "        # make the logger send data to this class\n",
    "        self.logger_instance.addHandler(self)\n",
    "\n",
    "    @property\n",
    "    def output(self):\n",
    "        return self._output\n",
    "\n",
    "    def emit(self, record):\n",
    "        \"\"\"Overload of logging.Handler method\"\"\"\n",
    "\n",
    "        record = self.format(record)\n",
    "\n",
    "        if self.up_side_down:\n",
    "            self.output.outputs = (\n",
    "                {\n",
    "                    \"name\": \"stdout\",\n",
    "                    \"output_type\": \"stream\",\n",
    "                    \"text\": (Fore.BLACK + (record + \"\\n\")),\n",
    "                },\n",
    "            ) + self.output.outputs[: self.max_lines]\n",
    "\n",
    "        else:\n",
    "            self.output.outputs = self.output.outputs[-self.max_lines :] + (\n",
    "                {\n",
    "                    \"name\": \"stdout\",\n",
    "                    \"output_type\": \"stream\",\n",
    "                    \"text\": (Fore.BLACK + (record + \"\\n\")),\n",
    "                },\n",
    "            )"
   ]
  },
  {
   "cell_type": "markdown",
   "metadata": {},
   "source": [
    "## Widgets"
   ]
  },
  {
   "cell_type": "code",
   "execution_count": null,
   "metadata": {},
   "outputs": [],
   "source": [
    "import ipywidgets as widgets\n",
    "from IPython.display import display\n",
    "import matplotlib.pyplot as plt\n",
    "\n",
    "%matplotlib inline"
   ]
  },
  {
   "cell_type": "code",
   "execution_count": null,
   "metadata": {},
   "outputs": [],
   "source": [
    "from fit_widget import SiliconPeaksFitWidget"
   ]
  },
  {
   "cell_type": "code",
   "execution_count": null,
   "metadata": {},
   "outputs": [],
   "source": [
    "silicon = Silicon(shift=-0.0, max_point=1000000, sigma_p1=0.06)"
   ]
  },
  {
   "cell_type": "code",
   "execution_count": null,
   "metadata": {},
   "outputs": [],
   "source": [
    "cycle = 5\n",
    "cha, volt = my_data.get_ccap(cycle)\n",
    "v, dq = ica.dqdv(volt, cha)"
   ]
  },
  {
   "cell_type": "code",
   "execution_count": null,
   "metadata": {},
   "outputs": [],
   "source": [
    "silicon_fit_widget = SiliconPeaksFitWidget(silicon, cha, volt)"
   ]
  },
  {
   "cell_type": "code",
   "execution_count": null,
   "metadata": {},
   "outputs": [],
   "source": [
    "# ---------------------------------------------------------------------------\n",
    "visited = {}\n",
    "options = list(range(1, 10 + 1))\n",
    "\n",
    "\n",
    "def reset_cycle(event):\n",
    "    main_logger.info(\"-> reset cycle\")\n",
    "    _load_cycle(sel.value, reset=True)\n",
    "\n",
    "\n",
    "def load_cycle(change):\n",
    "    cycle = change.new\n",
    "    _load_cycle(cycle, reset=False)\n",
    "\n",
    "\n",
    "def _load_cycle(cycle, reset):\n",
    "\n",
    "    if not reset and cycle in visited.keys():\n",
    "        c = visited[cycle]\n",
    "\n",
    "    if reset and cycle in visited.keys():\n",
    "        old = visited[cycle]\n",
    "        v = old.x\n",
    "        dq = old.y\n",
    "\n",
    "        silicon = Silicon(shift=-0.0, max_point=dq.max(), sigma_p1=0.06)\n",
    "        c = SiliconPeaksFitWidget(silicon, v, dq, f\"Cycle {cycle}\")\n",
    "        visited[cycle] = c\n",
    "\n",
    "    if cycle not in visited.keys():\n",
    "        cha, volt = my_data.get_ccap(cycle)\n",
    "        v, dq = ica.dqdv(volt, cha)\n",
    "\n",
    "        silicon = Silicon(shift=-0.0, max_point=dq.max(), sigma_p1=0.06)\n",
    "        c = SiliconPeaksFitWidget(silicon, v, dq, f\"Cycle {cycle}\")\n",
    "        visited[cycle] = c\n",
    "\n",
    "    with fit_window:\n",
    "        fit_window.clear_output(wait=True)\n",
    "        display(c)\n",
    "\n",
    "\n",
    "def _copy(cycle1, cycle2):\n",
    "    main_logger.info(f\"-> copy from {cycle1} to {cycle2}\")\n",
    "    old = visited[cycle1]\n",
    "    old_peaks = copy.deepcopy(old.peaks_object)\n",
    "    cha, volt = my_data.get_ccap(cycle2)\n",
    "    v, dq = ica.dqdv(volt, cha)\n",
    "    new = SiliconPeaksFitWidget(old_peaks, v, dq, f\"Cycle {cycle2}\")\n",
    "    visited[cycle2] = new\n",
    "    sel.value = cycle2\n",
    "\n",
    "\n",
    "def copy_cycle_forward(event):\n",
    "    cycle1 = sel.value\n",
    "    cycle2 = cycle1 + 1\n",
    "    if cycle2 in options:\n",
    "        _copy(cycle1, cycle2)\n",
    "    else:\n",
    "        main_logger.info(f\"-> {cycle2} does not exist\")\n",
    "\n",
    "\n",
    "def copy_cycle_backward(event):\n",
    "    cycle1 = sel.value\n",
    "    cycle2 = cycle1 - 1\n",
    "    if cycle2 in options:\n",
    "        _copy(cycle1, cycle2)\n",
    "    else:\n",
    "        main_logger.info(f\"-> {cycle2} does not exist\")\n",
    "\n",
    "\n",
    "fit_window = widgets.Output()\n",
    "\n",
    "description = widgets.Label(\"Select cycle\")\n",
    "sel = widgets.Select(\n",
    "    options=options,\n",
    "    value=options[0],\n",
    "    rows=20,\n",
    "    disabled=False,\n",
    "    layout=widgets.Layout(width=\"70%\", height=\"220px\"),\n",
    ")\n",
    "sel.observe(load_cycle, \"value\")\n",
    "reset = widgets.Button(description=\"Reset!\")\n",
    "\n",
    "copy_next = widgets.Button(description=\"Copy >>\")\n",
    "copy_prev = widgets.Button(description=\"Copy <<\")\n",
    "\n",
    "reset.on_click(reset_cycle)\n",
    "copy_next.on_click(copy_cycle_forward)\n",
    "copy_prev.on_click(copy_cycle_backward)\n",
    "\n",
    "header = widgets.VBox([description, sel, reset, copy_next, copy_prev])\n",
    "out = widgets.HBox([header, fit_window])\n",
    "\n",
    "handler = log_viewer()\n",
    "main_logger_out = handler.output\n",
    "\n",
    "main_logger = logging.getLogger(__name__)\n",
    "main_logger.addHandler(handler)\n",
    "main_logger.setLevel(20)  # log at info level.\n",
    "\n",
    "display(main_logger_out)\n",
    "display(out)\n",
    "_load_cycle(sel.value, reset=False)"
   ]
  },
  {
   "cell_type": "markdown",
   "metadata": {},
   "source": [
    "## Pickling test\n",
    "### Saving results"
   ]
  },
  {
   "cell_type": "code",
   "execution_count": null,
   "metadata": {},
   "outputs": [],
   "source": [
    "import pickle\n",
    "\n",
    "cc = visited[3]\n",
    "c3 = cc.result\n",
    "b3 = c3.best_values\n",
    "\n",
    "pickle_out = open(\"example.pickle\", \"wb\")\n",
    "pickle.dump(b3, pickle_out)\n",
    "pickle_out.close()"
   ]
  },
  {
   "cell_type": "markdown",
   "metadata": {},
   "source": [
    "### Loading results"
   ]
  },
  {
   "cell_type": "code",
   "execution_count": null,
   "metadata": {},
   "outputs": [],
   "source": [
    "pickle_in = open(\"example.pickle\", \"rb\")\n",
    "b3new = pickle.load(pickle_in)"
   ]
  },
  {
   "cell_type": "code",
   "execution_count": null,
   "metadata": {},
   "outputs": [],
   "source": [
    "for key in b3new:\n",
    "    cc.peaks_object.set_param(key, value=b3new[key])"
   ]
  },
  {
   "cell_type": "markdown",
   "metadata": {},
   "source": [
    "### Save params using dump (json)"
   ]
  },
  {
   "cell_type": "code",
   "execution_count": null,
   "metadata": {},
   "outputs": [],
   "source": [
    "jsonstr = cc.peaks_object.params.dumps()"
   ]
  },
  {
   "cell_type": "code",
   "execution_count": null,
   "metadata": {},
   "outputs": [],
   "source": [
    "ccc = visited[4]"
   ]
  },
  {
   "cell_type": "code",
   "execution_count": null,
   "metadata": {},
   "outputs": [],
   "source": [
    "s = ccc.peaks_object.params.loads(jsonstr)"
   ]
  },
  {
   "cell_type": "code",
   "execution_count": null,
   "metadata": {},
   "outputs": [],
   "source": [
    "cc.peaks_object.params"
   ]
  },
  {
   "cell_type": "code",
   "execution_count": null,
   "metadata": {},
   "outputs": [],
   "source": [
    "ccc.peaks_object.params"
   ]
  },
  {
   "cell_type": "markdown",
   "metadata": {},
   "source": [
    "### Set values by writing"
   ]
  },
  {
   "cell_type": "code",
   "execution_count": null,
   "metadata": {},
   "outputs": [],
   "source": []
  },
  {
   "cell_type": "code",
   "execution_count": null,
   "metadata": {},
   "outputs": [],
   "source": [
    "cc.set_value(\"shift\", -0.2)"
   ]
  },
  {
   "cell_type": "code",
   "execution_count": null,
   "metadata": {},
   "outputs": [],
   "source": [
    "cc.w_shift.value = 0.001"
   ]
  },
  {
   "cell_type": "code",
   "execution_count": null,
   "metadata": {},
   "outputs": [],
   "source": [
    "cc.peaks_object.params.pretty_print()"
   ]
  },
  {
   "cell_type": "code",
   "execution_count": null,
   "metadata": {},
   "outputs": [],
   "source": [
    "p_si = Silicon()\n",
    "p_si.params[\"Si02sigma\"]"
   ]
  },
  {
   "cell_type": "code",
   "execution_count": null,
   "metadata": {},
   "outputs": [],
   "source": [
    "prm = \"Si02sigma\"\n",
    "step = 0.01\n",
    "p_si.params[prm].min += step"
   ]
  },
  {
   "cell_type": "code",
   "execution_count": null,
   "metadata": {},
   "outputs": [],
   "source": [
    "# method two implemented in CompositeEnsamble\n",
    "p_t = CompositeEnsemble(Silicon(), Graphite())\n",
    "p_t.set_param(\"Si02sigma\", minimum=0.02, vary=False)\n",
    "p_t.reset_peaks()\n",
    "print(f\"hint: {p_t.param_hints['Si02sigma']} val: {p_t.params['Si02sigma']}\")"
   ]
  },
  {
   "cell_type": "code",
   "execution_count": null,
   "metadata": {},
   "outputs": [],
   "source": []
  },
  {
   "cell_type": "code",
   "execution_count": null,
   "metadata": {},
   "outputs": [],
   "source": []
  },
  {
   "cell_type": "markdown",
   "metadata": {},
   "source": [
    "## Collecting all the results"
   ]
  },
  {
   "cell_type": "code",
   "execution_count": null,
   "metadata": {},
   "outputs": [],
   "source": []
  },
  {
   "cell_type": "code",
   "execution_count": null,
   "metadata": {},
   "outputs": [],
   "source": [
    "import pandas as pd\n",
    "\n",
    "pd.options.display.max_columns = None"
   ]
  },
  {
   "cell_type": "code",
   "execution_count": null,
   "metadata": {},
   "outputs": [],
   "source": [
    "cycles = sorted(visited.keys())\n",
    "all_dfs = []\n",
    "for cycle in cycles:\n",
    "    params = visited[cycle].peaks_object.params\n",
    "    labels = params.keys()\n",
    "    columns = list(labels)\n",
    "    df = pd.DataFrame(columns=columns)\n",
    "    df.loc[cycle] = None\n",
    "    for label in labels:\n",
    "        df.loc[cycle, label] = params[label].value\n",
    "    all_dfs.append(df)\n",
    "n_df = pd.concat(all_dfs)\n",
    "n_df.index.name = \"cycle\""
   ]
  },
  {
   "cell_type": "code",
   "execution_count": null,
   "metadata": {},
   "outputs": [],
   "source": [
    "n_df"
   ]
  },
  {
   "cell_type": "code",
   "execution_count": null,
   "metadata": {},
   "outputs": [],
   "source": [
    "n_df.plot(y=[\"Si01center\", \"Si02center\"])"
   ]
  },
  {
   "cell_type": "code",
   "execution_count": null,
   "metadata": {},
   "outputs": [],
   "source": []
  }
 ],
 "metadata": {
  "kernelspec": {
   "display_name": "cellpy",
   "language": "python",
   "name": "cellpy"
  },
  "language_info": {
   "codemirror_mode": {
    "name": "ipython",
    "version": 3
   },
   "file_extension": ".py",
   "mimetype": "text/x-python",
   "name": "python",
   "nbconvert_exporter": "python",
   "pygments_lexer": "ipython3",
   "version": "3.7.4"
  }
 },
 "nbformat": 4,
 "nbformat_minor": 4
}
