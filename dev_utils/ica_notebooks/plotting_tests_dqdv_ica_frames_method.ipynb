{
 "cells": [
  {
   "cell_type": "markdown",
   "metadata": {},
   "source": [
    "# Best practice for plotting batch-runs"
   ]
  },
  {
   "cell_type": "code",
   "execution_count": null,
   "metadata": {},
   "outputs": [],
   "source": [
    "%load_ext autoreload\n",
    "%autoreload 2"
   ]
  },
  {
   "cell_type": "code",
   "execution_count": null,
   "metadata": {},
   "outputs": [],
   "source": [
    "import os\n",
    "from pathlib import Path\n",
    "import bokeh\n",
    "import numpy as np\n",
    "import matplotlib.pyplot as plt\n",
    "import pandas as pd\n",
    "from cellpy import cellreader\n",
    "from cellpy.utils import ica\n",
    "from cellpy.exceptions import NullData\n",
    "from cellpy import log\n",
    "import holoviews as hv\n",
    "\n",
    "%matplotlib inline\n",
    "hv.extension(\"bokeh\")\n",
    "log.setup_logging(default_level=\"INFO\")"
   ]
  },
  {
   "cell_type": "markdown",
   "metadata": {},
   "source": [
    "### Setting file names and loading data"
   ]
  },
  {
   "cell_type": "code",
   "execution_count": null,
   "metadata": {},
   "outputs": [],
   "source": [
    "p = Path().cwd()"
   ]
  },
  {
   "cell_type": "code",
   "execution_count": null,
   "metadata": {},
   "outputs": [],
   "source": [
    "(p / \"../../testdata/\").resolve()"
   ]
  },
  {
   "cell_type": "code",
   "execution_count": null,
   "metadata": {},
   "outputs": [],
   "source": [
    "my_data = cellreader.CellpyData()\n",
    "filename = \"../../testdata/hdf5/20160805_test001_45_cc.h5\"\n",
    "assert os.path.isfile(filename)\n",
    "my_data.load(filename)\n",
    "my_data.set_mass(0.1)"
   ]
  },
  {
   "cell_type": "markdown",
   "metadata": {},
   "source": [
    "## Creating the ica data"
   ]
  },
  {
   "cell_type": "markdown",
   "metadata": {},
   "source": [
    "#### Method 1: using the basic dqdv-function"
   ]
  },
  {
   "cell_type": "code",
   "execution_count": null,
   "metadata": {},
   "outputs": [],
   "source": [
    "cycle = 2\n",
    "q, v = my_data.get_ccap(cycle=cycle)\n",
    "dvc, dqc = ica.dqdv(v, q)\n",
    "ccurve = hv.Curve((dvc, dqc))\n",
    "\n",
    "q, v = my_data.get_dcap(cycle=cycle)\n",
    "dvd, dqd = ica.dqdv(v, q)\n",
    "dcurve = hv.Curve((dvd, dqd))\n",
    "\n",
    "ccurve * dcurve"
   ]
  },
  {
   "cell_type": "markdown",
   "metadata": {},
   "source": [
    "#### Method 2: using the dqdv_cycle function to retrive both charge and discharge dqdv"
   ]
  },
  {
   "cell_type": "code",
   "execution_count": null,
   "metadata": {},
   "outputs": [],
   "source": [
    "cycle = 2\n",
    "cycle_df = my_data.get_cap(cycle, categorical_column=True, method=\"forth-and-forth\")\n",
    "dv, dq = ica.dqdv_cycle(cycle_df)\n",
    "hv.Curve((dv, dq))"
   ]
  },
  {
   "cell_type": "markdown",
   "metadata": {},
   "source": [
    "#### Method 3: using the dqdv_frames convinence function to retrive a pandas.DataFrame"
   ]
  },
  {
   "cell_type": "code",
   "execution_count": null,
   "metadata": {},
   "outputs": [],
   "source": [
    "comb_ica = ica.dqdv_frames(my_data, split=False, tidy=False)\n",
    "comb_ica.head()"
   ]
  },
  {
   "cell_type": "code",
   "execution_count": null,
   "metadata": {},
   "outputs": [],
   "source": [
    "ica_charge, ica_discharge = ica.dqdv_frames(my_data, split=True, tidy=True)\n",
    "ccurve = hv.Curve(ica_charge, vdims=[\"dq\"], kdims=[\"voltage\"])\n",
    "dcurve = hv.Curve(ica_discharge, vdims=[\"dq\"], kdims=[\"voltage\"])\n",
    "ccurve * dcurve"
   ]
  },
  {
   "cell_type": "code",
   "execution_count": null,
   "metadata": {},
   "outputs": [],
   "source": [
    "tidy_comb_ica = ica.dqdv_frames(my_data, split=False, tidy=True)\n",
    "tidy_comb_ica.head()"
   ]
  },
  {
   "cell_type": "code",
   "execution_count": null,
   "metadata": {},
   "outputs": [],
   "source": [
    "# quick view\n",
    "tidy_comb_ica.plot(x=\"voltage\", y=\"dq\")"
   ]
  },
  {
   "cell_type": "code",
   "execution_count": null,
   "metadata": {},
   "outputs": [],
   "source": [
    "# tidy_comb_ica.groupby(\"cycle\").plot(x=\"voltage\", y=\"dq\");\n",
    "## This creates one plot pr cycle"
   ]
  },
  {
   "cell_type": "code",
   "execution_count": null,
   "metadata": {},
   "outputs": [],
   "source": [
    "def plot_and_combine(\n",
    "    ica_frame,\n",
    "    selected_cycles=None,\n",
    "    ax=None,\n",
    "    back_end=\"matplotlib\",\n",
    "    palette=None,\n",
    "    xlabel=\"voltage\",\n",
    "    ylabel=\"dq\",\n",
    "    **kwargs,\n",
    "):\n",
    "    \"\"\"Plot dqdv for selected cycles and combine them into a wide dataframe.\n",
    "\n",
    "    This function assumes a tidy ica-frame as input.\n",
    "    \"\"\"\n",
    "    selected_frames = []\n",
    "    keys = []\n",
    "\n",
    "    if back_end == \"matplotlib\":\n",
    "        print(\"using matplotlib\")\n",
    "        if ax is None:\n",
    "            fig, ax = plt.subplots()\n",
    "\n",
    "    if back_end == \"holoviews\":\n",
    "        curves = dict()\n",
    "\n",
    "    if selected_cycles is not None:\n",
    "        ica_frame = ica_frame.loc[ica_frame[\"cycle\"].isin(selected_cycles)]\n",
    "\n",
    "    for c, dd in ica_frame.groupby(\"cycle\"):\n",
    "        plot_label = f\"cycle {c:03}\"\n",
    "        frame_label = f\"cycle_{c:03}\"\n",
    "\n",
    "        if back_end == \"matplotlib\":\n",
    "            ax.plot(dd[\"voltage\"], dd[\"dq\"], label=plot_label)\n",
    "\n",
    "        elif back_end == \"holoviews\":\n",
    "            curve = hv.Curve(dd[[\"voltage\", \"dq\"]], vdims=[\"dq\"])\n",
    "            if palette is not None:\n",
    "                curve = curve.opts(color=palette)\n",
    "            curves[plot_label] = curve\n",
    "\n",
    "        selected_frames.append(dd[[\"voltage\", \"dq\"]])\n",
    "        keys.append(frame_label)\n",
    "\n",
    "    if back_end == \"matplotlib\":\n",
    "        ax.legend()\n",
    "\n",
    "    elif back_end == \"holoviews\":\n",
    "        ax = hv.NdOverlay(curves).opts(\n",
    "            xlabel=xlabel,\n",
    "            ylabel=ylabel,\n",
    "            **kwargs,\n",
    "        )\n",
    "\n",
    "    new_df = pd.concat(selected_frames, axis=1, keys=keys)\n",
    "    return ax, new_df"
   ]
  },
  {
   "cell_type": "code",
   "execution_count": null,
   "metadata": {},
   "outputs": [],
   "source": [
    "p, new_com_ica = plot_and_combine(\n",
    "    tidy_comb_ica,\n",
    "    back_end=\"holoviews\",\n",
    "    width=600,\n",
    "    palette=hv.Palette(\"Blues\"),\n",
    "    xlim=(0.0, 1.0),\n",
    "    ylim=(-1.3e5, 2e5),\n",
    ")\n",
    "p"
   ]
  },
  {
   "cell_type": "code",
   "execution_count": null,
   "metadata": {},
   "outputs": [],
   "source": [
    "selected_cycles = [1, 2, 3, 10, 15, 22]\n",
    "p, new_com_ica = plot_and_combine(\n",
    "    tidy_comb_ica,\n",
    "    selected_cycles,\n",
    "    back_end=\"holoviews\",\n",
    "    width=600,\n",
    "    palette=hv.Palette(\"Spectral\"),\n",
    "    xlim=(0.0, 1.0),\n",
    ")"
   ]
  },
  {
   "cell_type": "code",
   "execution_count": null,
   "metadata": {},
   "outputs": [],
   "source": [
    "p"
   ]
  },
  {
   "cell_type": "code",
   "execution_count": null,
   "metadata": {},
   "outputs": [],
   "source": [
    "new_com_ica.head()"
   ]
  },
  {
   "cell_type": "code",
   "execution_count": null,
   "metadata": {},
   "outputs": [],
   "source": [
    "selected_cycles = [1, 2, 3, 10, 15, 22]\n",
    "ax, new_com_ica = plot_and_combine(\n",
    "    tidy_comb_ica, selected_cycles, back_end=\"matplotlib\"\n",
    ")"
   ]
  },
  {
   "cell_type": "code",
   "execution_count": null,
   "metadata": {},
   "outputs": [],
   "source": [
    "new_com_ica.head()"
   ]
  },
  {
   "cell_type": "markdown",
   "metadata": {},
   "source": [
    "## Saving the results"
   ]
  },
  {
   "cell_type": "code",
   "execution_count": null,
   "metadata": {},
   "outputs": [],
   "source": [
    "# new_com_ica.to_csv(\"example_ica_out.csv\", sep=\";\")"
   ]
  },
  {
   "cell_type": "code",
   "execution_count": null,
   "metadata": {},
   "outputs": [],
   "source": [
    "# %%output fig='html' filename='ica_test_out'\n",
    "# p"
   ]
  },
  {
   "cell_type": "markdown",
   "metadata": {},
   "source": [
    "## Creating image-plots"
   ]
  },
  {
   "cell_type": "code",
   "execution_count": null,
   "metadata": {},
   "outputs": [],
   "source": [
    "# get data\n",
    "ica_charge, ica_discharge = ica.dqdv_frames(my_data, split=True, tidy=True)\n",
    "# meshgridding?\n",
    "# plot image"
   ]
  }
 ],
 "metadata": {
  "kernelspec": {
   "display_name": "Python 3",
   "language": "python",
   "name": "python3"
  },
  "language_info": {
   "codemirror_mode": {
    "name": "ipython",
    "version": 3
   },
   "file_extension": ".py",
   "mimetype": "text/x-python",
   "name": "python",
   "nbconvert_exporter": "python",
   "pygments_lexer": "ipython3",
   "version": "3.8.1"
  }
 },
 "nbformat": 4,
 "nbformat_minor": 4
}
