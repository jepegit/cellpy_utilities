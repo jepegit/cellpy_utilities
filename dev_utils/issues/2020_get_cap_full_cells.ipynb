{
 "cells": [
  {
   "cell_type": "code",
   "execution_count": null,
   "metadata": {},
   "outputs": [],
   "source": [
    "%load_ext autoreload\n",
    "%autoreload 2"
   ]
  },
  {
   "cell_type": "code",
   "execution_count": null,
   "metadata": {},
   "outputs": [],
   "source": [
    "from pathlib import Path\n",
    "import os\n",
    "import matplotlib.pyplot as plt\n",
    "import pandas as pd\n",
    "\n",
    "from cellpy import cellreader"
   ]
  },
  {
   "cell_type": "code",
   "execution_count": null,
   "metadata": {},
   "outputs": [],
   "source": [
    "fdir = Path(r\"C:\\scripts\\processing_cellpy\\cellpyfiles\")"
   ]
  },
  {
   "cell_type": "code",
   "execution_count": null,
   "metadata": {},
   "outputs": [],
   "source": [
    "f = fdir / \"20190625_FC_2ndlife_sag02_nmc622_17_cc.h5\""
   ]
  },
  {
   "cell_type": "code",
   "execution_count": null,
   "metadata": {},
   "outputs": [],
   "source": [
    "h = fdir / \"20190823_SiB_08_03_cc.h5\""
   ]
  },
  {
   "cell_type": "code",
   "execution_count": null,
   "metadata": {},
   "outputs": [],
   "source": [
    "c = cellreader.get(f, cycle_mode=\"full_cell\")"
   ]
  },
  {
   "cell_type": "code",
   "execution_count": null,
   "metadata": {},
   "outputs": [],
   "source": [
    "d = cellreader.get(h)"
   ]
  },
  {
   "cell_type": "code",
   "execution_count": null,
   "metadata": {},
   "outputs": [],
   "source": [
    "fig, (ax1, ax2) = plt.subplots(1, 2)\n",
    "method = \"forth-and-forth\"\n",
    "cycle = [1, 2]\n",
    "cyc = c.get_cap(cycle=cycle, method=method)\n",
    "cyc.plot(x=\"capacity\", y=\"voltage\", kind=\"scatter\", color=\"red\", ax=ax1)\n",
    "cyc.plot(x=\"capacity\", y=\"voltage\", kind=\"line\", ax=ax1, title=\"full-cell\")\n",
    "\n",
    "dcyc = d.get_cap(cycle=cycle, method=method)\n",
    "ax = dcyc.plot(x=\"capacity\", y=\"voltage\", kind=\"scatter\", color=\"red\", ax=ax2)\n",
    "dcyc.plot(x=\"capacity\", y=\"voltage\", kind=\"line\", ax=ax2, title=\"anode\")\n",
    "\n",
    "cyc.plot(x=\"capacity\", y=\"voltage\")\n",
    "dcyc.plot(x=\"capacity\", y=\"voltage\")"
   ]
  },
  {
   "cell_type": "code",
   "execution_count": null,
   "metadata": {},
   "outputs": [],
   "source": [
    "fig, (ax1, ax2) = plt.subplots(1, 2)\n",
    "method = \"forth\"\n",
    "cycle = [1, 2, 3]\n",
    "cyc = c.get_cap(cycle=cycle, method=method)\n",
    "cyc.plot(x=\"capacity\", y=\"voltage\", kind=\"scatter\", color=\"red\", ax=ax1)\n",
    "cyc.plot(x=\"capacity\", y=\"voltage\", kind=\"line\", ax=ax1, title=\"full-cell\")\n",
    "\n",
    "dcyc = d.get_cap(cycle=cycle, method=method)\n",
    "ax = dcyc.plot(x=\"capacity\", y=\"voltage\", kind=\"scatter\", color=\"red\", ax=ax2)\n",
    "dcyc.plot(x=\"capacity\", y=\"voltage\", kind=\"line\", ax=ax2, title=\"anode\")\n",
    "\n",
    "\n",
    "cyc.plot(x=\"capacity\", y=\"voltage\")\n",
    "dcyc.plot(x=\"capacity\", y=\"voltage\")"
   ]
  },
  {
   "cell_type": "code",
   "execution_count": null,
   "metadata": {},
   "outputs": [],
   "source": [
    "fig, ((ax1, ax2), (ax3, ax4)) = plt.subplots(2, 2)\n",
    "method = None\n",
    "interpolated = False\n",
    "cycle = [5, 6, 12]\n",
    "cyc = c.get_cap(cycle=cycle, interpolated=interpolated, dx=0.01)\n",
    "cyc.plot(x=\"capacity\", y=\"voltage\", kind=\"scatter\", color=\"red\", ax=ax1)\n",
    "cyc.plot(x=\"capacity\", y=\"voltage\", kind=\"line\", ax=ax1, title=\"full-cell\")\n",
    "\n",
    "dcyc = d.get_cap(cycle=cycle, interpolated=interpolated, dx=0.01)\n",
    "ax = dcyc.plot(x=\"capacity\", y=\"voltage\", kind=\"scatter\", color=\"red\", ax=ax2)\n",
    "dcyc.plot(x=\"capacity\", y=\"voltage\", kind=\"line\", ax=ax2, title=\"anode\")\n",
    "\n",
    "interpolated = True\n",
    "cyc = c.get_cap(cycle=cycle, interpolated=interpolated, dx=0.01)\n",
    "cyc.plot(x=\"capacity\", y=\"voltage\", kind=\"scatter\", color=\"red\", ax=ax3)\n",
    "cyc.plot(x=\"capacity\", y=\"voltage\", kind=\"line\", ax=ax3, title=\"full-cell\")\n",
    "\n",
    "dcyc = d.get_cap(cycle=cycle, interpolated=interpolated, dx=0.01)\n",
    "dcyc.plot(x=\"capacity\", y=\"voltage\", kind=\"scatter\", color=\"red\", ax=ax4)\n",
    "dcyc.plot(x=\"capacity\", y=\"voltage\", kind=\"line\", ax=ax4, title=\"anode\")\n",
    "\n",
    "\n",
    "cyc.plot(x=\"capacity\", y=\"voltage\")\n",
    "dcyc.plot(x=\"capacity\", y=\"voltage\")"
   ]
  },
  {
   "cell_type": "code",
   "execution_count": null,
   "metadata": {},
   "outputs": [],
   "source": [
    "fig, ((ax1, ax2), (ax3, ax4)) = plt.subplots(2, 2)\n",
    "method = \"forth-and-forth\"\n",
    "interpolated = False\n",
    "cycle = [5, 6, 12]\n",
    "cyc = c.get_cap(cycle=cycle, method=method, interpolated=interpolated, dx=0.01)\n",
    "cyc.plot(x=\"capacity\", y=\"voltage\", kind=\"scatter\", color=\"red\", ax=ax1)\n",
    "cyc.plot(x=\"capacity\", y=\"voltage\", kind=\"line\", ax=ax1, title=\"full-cell\")\n",
    "\n",
    "dcyc = d.get_cap(cycle=cycle, method=method, interpolated=interpolated, dx=0.01)\n",
    "ax = dcyc.plot(x=\"capacity\", y=\"voltage\", kind=\"scatter\", color=\"red\", ax=ax2)\n",
    "dcyc.plot(x=\"capacity\", y=\"voltage\", kind=\"line\", ax=ax2, title=\"anode\")\n",
    "\n",
    "interpolated = True\n",
    "cyc = c.get_cap(cycle=cycle, method=method, interpolated=interpolated, dx=0.01)\n",
    "cyc.plot(x=\"capacity\", y=\"voltage\", kind=\"scatter\", color=\"red\", ax=ax3)\n",
    "cyc.plot(x=\"capacity\", y=\"voltage\", kind=\"line\", ax=ax3, title=\"full-cell\")\n",
    "\n",
    "dcyc = d.get_cap(cycle=cycle, method=method, interpolated=interpolated, dx=0.01)\n",
    "dcyc.plot(x=\"capacity\", y=\"voltage\", kind=\"scatter\", color=\"red\", ax=ax4)\n",
    "dcyc.plot(x=\"capacity\", y=\"voltage\", kind=\"line\", ax=ax4, title=\"anode\")\n",
    "\n",
    "\n",
    "cyc.plot(x=\"capacity\", y=\"voltage\")\n",
    "dcyc.plot(x=\"capacity\", y=\"voltage\")"
   ]
  },
  {
   "cell_type": "code",
   "execution_count": null,
   "metadata": {},
   "outputs": [],
   "source": [
    "fig, ((ax1, ax2), (ax3, ax4)) = plt.subplots(2, 2)\n",
    "method = \"forth\"\n",
    "interpolated = False\n",
    "cycle = [5, 6, 12]\n",
    "cyc = c.get_cap(cycle=cycle, method=method, interpolated=interpolated, dx=0.01)\n",
    "cyc.plot(x=\"capacity\", y=\"voltage\", kind=\"scatter\", color=\"red\", ax=ax1)\n",
    "cyc.plot(x=\"capacity\", y=\"voltage\", kind=\"line\", ax=ax1, title=\"full-cell\")\n",
    "\n",
    "dcyc = d.get_cap(cycle=cycle, method=method, interpolated=interpolated, dx=0.01)\n",
    "ax = dcyc.plot(x=\"capacity\", y=\"voltage\", kind=\"scatter\", color=\"red\", ax=ax2)\n",
    "dcyc.plot(x=\"capacity\", y=\"voltage\", kind=\"line\", ax=ax2, title=\"anode\")\n",
    "\n",
    "interpolated = True\n",
    "cyc = c.get_cap(cycle=cycle, method=method, interpolated=interpolated, dx=0.01)\n",
    "cyc.plot(x=\"capacity\", y=\"voltage\", kind=\"scatter\", color=\"red\", ax=ax3)\n",
    "cyc.plot(x=\"capacity\", y=\"voltage\", kind=\"line\", ax=ax3, title=\"full-cell\")\n",
    "\n",
    "dcyc = d.get_cap(cycle=cycle, method=method, interpolated=interpolated, dx=0.01)\n",
    "dcyc.plot(x=\"capacity\", y=\"voltage\", kind=\"scatter\", color=\"red\", ax=ax4)\n",
    "dcyc.plot(x=\"capacity\", y=\"voltage\", kind=\"line\", ax=ax4, title=\"anode\")\n",
    "\n",
    "\n",
    "cyc.plot(x=\"capacity\", y=\"voltage\")\n",
    "dcyc.plot(x=\"capacity\", y=\"voltage\")"
   ]
  }
 ],
 "metadata": {
  "kernelspec": {
   "display_name": "cellpy",
   "language": "python",
   "name": "cellpy"
  },
  "language_info": {
   "codemirror_mode": {
    "name": "ipython",
    "version": 3
   },
   "file_extension": ".py",
   "mimetype": "text/x-python",
   "name": "python",
   "nbconvert_exporter": "python",
   "pygments_lexer": "ipython3",
   "version": "3.8.3"
  }
 },
 "nbformat": 4,
 "nbformat_minor": 4
}
