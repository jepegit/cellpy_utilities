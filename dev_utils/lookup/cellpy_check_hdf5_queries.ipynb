{
 "cells": [
  {
   "cell_type": "code",
   "execution_count": null,
   "metadata": {},
   "outputs": [],
   "source": [
    "%load_ext autoreload"
   ]
  },
  {
   "cell_type": "code",
   "execution_count": null,
   "metadata": {},
   "outputs": [],
   "source": [
    "%autoreload 2"
   ]
  },
  {
   "cell_type": "code",
   "execution_count": null,
   "metadata": {},
   "outputs": [],
   "source": [
    "import os\n",
    "import time\n",
    "from pathlib import Path\n",
    "import numpy as np\n",
    "import matplotlib.pyplot as plt\n",
    "import pandas as pd\n",
    "import cellpy\n",
    "from cellpy import cellreader\n",
    "\n",
    "%matplotlib inline"
   ]
  },
  {
   "cell_type": "code",
   "execution_count": null,
   "metadata": {},
   "outputs": [],
   "source": [
    "from cellpy import log\n",
    "\n",
    "log.setup_logging(default_level=\"INFO\", custom_log_dir=os.getcwd())"
   ]
  },
  {
   "cell_type": "code",
   "execution_count": null,
   "metadata": {},
   "outputs": [],
   "source": [
    "filename = Path(\"/Users/jepe/Arbeid/Data/celldata/20171120_nb034_11_cc.h5\")\n",
    "print(f\"size: {filename.stat().st_size/1_048_576}\")\n",
    "\n",
    "my_data = cellreader.CellpyData()\n",
    "my_data.load(filename)\n",
    "dataset = my_data.dataset\n",
    "dataset.steps.head()\n",
    "print(dataset.steps.columns)"
   ]
  },
  {
   "cell_type": "code",
   "execution_count": null,
   "metadata": {},
   "outputs": [],
   "source": [
    "dataset.raw.columns"
   ]
  },
  {
   "cell_type": "code",
   "execution_count": null,
   "metadata": {},
   "outputs": [],
   "source": [
    "dataset.raw.head(10)"
   ]
  },
  {
   "cell_type": "markdown",
   "metadata": {},
   "source": [
    "## Some notes\n",
    "- should rename the tables consistently\n",
    "  - *e.g.* dfsummary, dfdata, dfinfo, dfsteps, dffid\n",
    "  - have to take care so that it also can read \"old\" cellpy-files\n",
    "- should make (or check if it is already made) an option for giving a \"custom\" config-file in starting the session"
   ]
  },
  {
   "cell_type": "code",
   "execution_count": null,
   "metadata": {},
   "outputs": [],
   "source": [
    "my_data.make_step_table()"
   ]
  },
  {
   "cell_type": "code",
   "execution_count": null,
   "metadata": {},
   "outputs": [],
   "source": [
    "filename2 = Path(\"/Users/jepe/Arbeid/Data/celldata/20171120_nb034_11_cc.nh5\")\n",
    "my_data.save(filename2)"
   ]
  },
  {
   "cell_type": "code",
   "execution_count": null,
   "metadata": {},
   "outputs": [],
   "source": [
    "print(f\"size: {filename2.stat().st_size/1_048_576} MB\")"
   ]
  },
  {
   "cell_type": "code",
   "execution_count": null,
   "metadata": {},
   "outputs": [],
   "source": [
    "my_data2 = cellreader.CellpyData()\n",
    "my_data2.load(filename2)\n",
    "dataset2 = my_data2.dataset\n",
    "print(dataset2.steps.columns)\n",
    "del my_data2\n",
    "del dataset2"
   ]
  },
  {
   "cell_type": "code",
   "execution_count": null,
   "metadata": {},
   "outputs": [],
   "source": [
    "# next: dont load the full hdf5-file, only get datapoints for a cycle from step_table\n",
    "# then: query the hdf5-file for the data (and time it)\n",
    "# ex: store.select('/CellpyData/dfdata', \"data_point>20130104 & data_point<20130104 & columns=['A', 'B']\")"
   ]
  },
  {
   "cell_type": "code",
   "execution_count": null,
   "metadata": {},
   "outputs": [],
   "source": [
    "infoname = \"/CellpyData/info\"\n",
    "dataname = \"/CellpyData/dfdata\"\n",
    "summaryname = \"/CellpyData/dfsummary\"\n",
    "fidname = \"/CellpyData/fidtable\"\n",
    "stepname = \"/CellpyData/step_table\"\n",
    "\n",
    "store = pd.HDFStore(filename2)\n",
    "store.select(\"/CellpyData/dfdata\", where=\"index>21 and index<32\")\n",
    "store.select(\n",
    "    \"/CellpyData/dfdata\", \"index>21 & index<32 & columns=['Test_Time', 'Step_Index']\"\n",
    ")"
   ]
  },
  {
   "cell_type": "markdown",
   "metadata": {},
   "source": [
    "## Querying cellpy file (hdf5)\n",
    "1. load steptable\n",
    "2. get the stepnumbers for given cycle\n",
    "3. create query and run it\n",
    "4. scale the charge (100_000/mass)"
   ]
  },
  {
   "cell_type": "code",
   "execution_count": null,
   "metadata": {},
   "outputs": [],
   "source": [
    "steptable = store.select(stepname)"
   ]
  },
  {
   "cell_type": "code",
   "execution_count": null,
   "metadata": {},
   "outputs": [],
   "source": [
    "s = my_data.get_step_numbers(\n",
    "    steptype=\"charge\",\n",
    "    allctypes=True,\n",
    "    pdtype=True,\n",
    "    cycle_number=None,\n",
    "    steptable=steptable,\n",
    ")\n",
    "cycle_mask = (\n",
    "    s[\"cycle\"] == 2\n",
    ")  # also possible to give cycle_number in get_step_number instead"
   ]
  },
  {
   "cell_type": "code",
   "execution_count": null,
   "metadata": {},
   "outputs": [],
   "source": [
    "s.head()"
   ]
  },
  {
   "cell_type": "code",
   "execution_count": null,
   "metadata": {},
   "outputs": [],
   "source": [
    "a = s.loc[cycle_mask, [\"point_first\", \"point_last\"]].values[0]"
   ]
  },
  {
   "cell_type": "code",
   "execution_count": null,
   "metadata": {},
   "outputs": [],
   "source": [
    "v_hdr = \"Voltage\"\n",
    "c_hdr = \"Charge_Capacity\"\n",
    "d_hdr = \"Discharge_Capacity\"\n",
    "i_hdr = \"Current\""
   ]
  },
  {
   "cell_type": "code",
   "execution_count": null,
   "metadata": {},
   "outputs": [],
   "source": [
    "q = f\"index>={ a[0] } & index<={ a[1] }\""
   ]
  },
  {
   "cell_type": "code",
   "execution_count": null,
   "metadata": {},
   "outputs": [],
   "source": [
    "q += f\"& columns = ['{c_hdr}', '{v_hdr}']\""
   ]
  },
  {
   "cell_type": "code",
   "execution_count": null,
   "metadata": {},
   "outputs": [],
   "source": [
    "mass = dataset.mass\n",
    "print(f\"mass from dataset.mass = {mass:5.4} mg\")"
   ]
  },
  {
   "cell_type": "code",
   "execution_count": null,
   "metadata": {},
   "outputs": [],
   "source": [
    "%%timeit\n",
    "my_data.get_ccap(2)"
   ]
  },
  {
   "cell_type": "code",
   "execution_count": null,
   "metadata": {},
   "outputs": [],
   "source": [
    "%%timeit\n",
    "c2 = store.select(\"/CellpyData/dfdata\", q)\n",
    "c2[c_hdr] = c2[c_hdr] * 1000000 / mass"
   ]
  },
  {
   "cell_type": "code",
   "execution_count": null,
   "metadata": {},
   "outputs": [],
   "source": [
    "5.03 / 3.05"
   ]
  },
  {
   "cell_type": "markdown",
   "metadata": {},
   "source": [
    "### Result\n",
    "- 65% penalty for using \"hdf5\" query lookup\n",
    "- 5.03 vs 3.05 ms"
   ]
  },
  {
   "cell_type": "code",
   "execution_count": null,
   "metadata": {},
   "outputs": [],
   "source": [
    "plt.plot(c2[c_hdr], c2[v_hdr])"
   ]
  },
  {
   "cell_type": "code",
   "execution_count": null,
   "metadata": {},
   "outputs": [],
   "source": [
    "store.close()"
   ]
  },
  {
   "cell_type": "code",
   "execution_count": null,
   "metadata": {},
   "outputs": [],
   "source": []
  }
 ],
 "metadata": {
  "kernelspec": {
   "display_name": "Python3 (cellpy)",
   "language": "python",
   "name": "cellpy"
  },
  "language_info": {
   "codemirror_mode": {
    "name": "ipython",
    "version": 3
   },
   "file_extension": ".py",
   "mimetype": "text/x-python",
   "name": "python",
   "nbconvert_exporter": "python",
   "pygments_lexer": "ipython3",
   "version": "3.6.5"
  }
 },
 "nbformat": 4,
 "nbformat_minor": 2
}
