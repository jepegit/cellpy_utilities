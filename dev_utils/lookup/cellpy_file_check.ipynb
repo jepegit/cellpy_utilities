{
 "cells": [
  {
   "cell_type": "code",
   "execution_count": null,
   "metadata": {},
   "outputs": [],
   "source": [
    "import os\n",
    "import time\n",
    "from pathlib import Path\n",
    "import numpy as np\n",
    "import matplotlib.pyplot as plt\n",
    "import pandas as pd\n",
    "import cellpy\n",
    "from cellpy import cellreader\n",
    "\n",
    "%matplotlib inline"
   ]
  },
  {
   "cell_type": "code",
   "execution_count": null,
   "metadata": {},
   "outputs": [],
   "source": [
    "from cellpy import log\n",
    "\n",
    "log.setup_logging(default_level=\"INFO\")"
   ]
  },
  {
   "cell_type": "code",
   "execution_count": null,
   "metadata": {},
   "outputs": [],
   "source": [
    "filename = Path(\"/Users/jepe/Arbeid/Data/celldata/20171120_nb034_11_cc.h5\")\n",
    "print(f\"size: {filename.stat().st_size/1_048_576}\")\n",
    "\n",
    "my_data = cellreader.CellpyData()\n",
    "my_data.load(filename)\n",
    "dataset = my_data.dataset"
   ]
  },
  {
   "cell_type": "code",
   "execution_count": null,
   "metadata": {},
   "outputs": [],
   "source": [
    "dataset.steps.head()\n",
    "print(dataset.steps.columns)"
   ]
  },
  {
   "cell_type": "markdown",
   "metadata": {},
   "source": [
    "tot usage for `make_step_table``:\n",
    "- 7.951 sec\n",
    "- uses 5.15 sec in `_extract_step_values`"
   ]
  },
  {
   "cell_type": "code",
   "execution_count": null,
   "metadata": {},
   "outputs": [],
   "source": [
    "old_step_table = my_data.dataset.steps.copy()"
   ]
  },
  {
   "cell_type": "code",
   "execution_count": null,
   "metadata": {},
   "outputs": [],
   "source": [
    "my_data.make_step_table_new()"
   ]
  },
  {
   "cell_type": "code",
   "execution_count": null,
   "metadata": {},
   "outputs": [],
   "source": [
    "new_step_table = my_data.dataset.steps.copy()"
   ]
  },
  {
   "cell_type": "code",
   "execution_count": null,
   "metadata": {},
   "outputs": [],
   "source": [
    "mask_current_negative = new_step_table.loc[:, \"current_avr\"] < -0.0000000000001\n",
    "mask_discharge_changed = new_step_table.loc[:, \"discharge_delta\"].abs() > 2.0\n",
    "mask_current_negative & mask_discharge_changed"
   ]
  },
  {
   "cell_type": "code",
   "execution_count": null,
   "metadata": {},
   "outputs": [],
   "source": [
    "old_step_table[[\"I_avr\", \"Charge_delta\", \"Discharge_delta\", \"type\"]].head(20)"
   ]
  },
  {
   "cell_type": "code",
   "execution_count": null,
   "metadata": {},
   "outputs": [],
   "source": [
    "new_step_table[[\"current_avr\", \"charge_delta\", \"discharge_delta\", \"type\"]].head(20)"
   ]
  },
  {
   "cell_type": "code",
   "execution_count": null,
   "metadata": {},
   "outputs": [],
   "source": [
    "new_step_table.type.unique()"
   ]
  },
  {
   "cell_type": "code",
   "execution_count": null,
   "metadata": {},
   "outputs": [],
   "source": [
    "old_step_table.type.unique()"
   ]
  },
  {
   "cell_type": "markdown",
   "metadata": {},
   "source": [
    "```python\n",
    "raw_limits[\"current_hard\"] = 0.0000000000001\n",
    "raw_limits[\"current_soft\"] = 0.00001\n",
    "raw_limits[\"stable_current_hard\"] = 2.0\n",
    "raw_limits[\"stable_current_soft\"] = 4.0\n",
    "raw_limits[\"stable_voltage_hard\"] = 2.0\n",
    "raw_limits[\"stable_voltage_soft\"] = 4.0\n",
    "raw_limits[\"stable_charge_hard\"] = 2.0\n",
    "raw_limits[\"stable_charge_soft\"] = 5.0\n",
    "raw_limits[\"ir_change\"] = 0.00001\n",
    "\n",
    "\n",
    "current_limit_value_hard = self.raw_limits[\"current_hard\"]\n",
    "current_limit_value_soft = self.raw_limits[\"current_soft\"]\n",
    "stable_current_limit_hard = self.raw_limits[\"stable_current_hard\"]\n",
    "stable_current_limit_soft = self.raw_limits[\"stable_current_soft\"]\n",
    "stable_voltage_limit_hard = self.raw_limits[\"stable_voltage_hard\"]\n",
    "stable_voltage_limit_soft = self.raw_limits[\"stable_voltage_soft\"]\n",
    "stable_charge_limit_hard = self.raw_limits[\"stable_charge_hard\"]\n",
    "stable_charge_limit_soft = self.raw_limits[\"stable_charge_soft\"]\n",
    "ir_change_limit = self.raw_limits[\"ir_change\"]\n",
    "\n",
    "\n",
    "\n",
    "```"
   ]
  },
  {
   "cell_type": "code",
   "execution_count": null,
   "metadata": {},
   "outputs": [],
   "source": [
    "# df_steps.loc[mask_discharge_changed & mask_current_negative, shdr.type] = 'discharge'\n",
    "# mask_discharge_changed = df_steps.loc[:, (shdr.charge, \"delta\")].abs() > stable_charge_limit_hard\n",
    "# mask_current_negative = df_steps.loc[:, (shdr.current, \"avr\")] < - current_limit_value_hard\n",
    "n3 = new_step_table.iloc[2, :]\n",
    "o3 = old_step_table.iloc[2, :]"
   ]
  },
  {
   "cell_type": "code",
   "execution_count": null,
   "metadata": {},
   "outputs": [],
   "source": [
    "t1 = \"current_avr\"\n",
    "t2 = \"I_avr\"\n",
    "\n",
    "print(n3[t1] == o3[t2])\n",
    "print(f\"old value (for steptable[{t2}]): {o3[t2]}\")\n",
    "print(f\"new value (for steptable[{t1}]): {n3[t1]}\")\n",
    "\n",
    "print(o3[t2] < -0.0000000000001)\n",
    "print(n3[t1] < -0.0000000000001)"
   ]
  },
  {
   "cell_type": "code",
   "execution_count": null,
   "metadata": {},
   "outputs": [],
   "source": [
    "t1 = \"discharge_delta\"\n",
    "t2 = \"Discharge_delta\"\n",
    "\n",
    "print(n3[t1] == o3[t2])\n",
    "print(f\"old value (for steptable[{t2}]): {o3[t2]}\")\n",
    "print(f\"new value (for steptable[{t1}]): {n3[t1]}\")\n",
    "\n",
    "print(o3[t2] > 2.0)\n",
    "print(n3[t1] > 2.0)"
   ]
  },
  {
   "cell_type": "code",
   "execution_count": null,
   "metadata": {},
   "outputs": [],
   "source": []
  }
 ],
 "metadata": {
  "kernelspec": {
   "display_name": "Python3 (cellpy)",
   "language": "python",
   "name": "cellpy"
  },
  "language_info": {
   "codemirror_mode": {
    "name": "ipython",
    "version": 3
   },
   "file_extension": ".py",
   "mimetype": "text/x-python",
   "name": "python",
   "nbconvert_exporter": "python",
   "pygments_lexer": "ipython3",
   "version": "3.6.5"
  }
 },
 "nbformat": 4,
 "nbformat_minor": 2
}
