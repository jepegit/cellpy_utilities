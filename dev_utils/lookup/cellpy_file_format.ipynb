{
 "cells": [
  {
   "cell_type": "code",
   "execution_count": null,
   "metadata": {},
   "outputs": [],
   "source": [
    "import os\n",
    "import time\n",
    "from pathlib import Path\n",
    "import numpy as np\n",
    "import matplotlib.pyplot as plt\n",
    "import pandas as pd\n",
    "import cellpy\n",
    "from cellpy import cellreader\n",
    "\n",
    "%matplotlib inline"
   ]
  },
  {
   "cell_type": "code",
   "execution_count": null,
   "metadata": {},
   "outputs": [],
   "source": [
    "filename = Path(\"/Users/jepe/Arbeid/Data/celldata/20171120_nb034_11_cc.h5\")\n",
    "print(f\"size: {filename.stat().st_size/1_048_576}\")"
   ]
  },
  {
   "cell_type": "code",
   "execution_count": null,
   "metadata": {},
   "outputs": [],
   "source": [
    "store = pd.HDFStore(filename)"
   ]
  },
  {
   "cell_type": "code",
   "execution_count": null,
   "metadata": {},
   "outputs": [],
   "source": [
    "store.keys()"
   ]
  },
  {
   "cell_type": "code",
   "execution_count": null,
   "metadata": {},
   "outputs": [],
   "source": [
    "infoname = \"/CellpyData/info\"\n",
    "dataname = \"/CellpyData/dfdata\"\n",
    "summaryname = \"/CellpyData/dfsummary\"\n",
    "fidname = \"/CellpyData/fidtable\"\n",
    "stepname = \"/CellpyData/step_table\""
   ]
  },
  {
   "cell_type": "code",
   "execution_count": null,
   "metadata": {},
   "outputs": [],
   "source": [
    "infotable = store.select(infoname)\n",
    "datatable = store.select(dataname)\n",
    "summarytable = store.select(summaryname)\n",
    "fidtable = store.select(fidname)\n",
    "steptable = store.select(stepname)"
   ]
  },
  {
   "cell_type": "code",
   "execution_count": null,
   "metadata": {},
   "outputs": [],
   "source": [
    "datatable.describe()"
   ]
  },
  {
   "cell_type": "code",
   "execution_count": null,
   "metadata": {},
   "outputs": [],
   "source": [
    "%timeit datatable = store.select(dataname)"
   ]
  },
  {
   "cell_type": "code",
   "execution_count": null,
   "metadata": {},
   "outputs": [],
   "source": [
    "store.close()"
   ]
  },
  {
   "cell_type": "code",
   "execution_count": null,
   "metadata": {},
   "outputs": [],
   "source": [
    "# making sure steptable has correct dtypes\n",
    "for col in steptable.columns:\n",
    "    if not col == \"type\":\n",
    "        steptable[col] = steptable[col].apply(pd.to_numeric)\n",
    "    else:\n",
    "        steptable[col] = steptable[col].astype(\"str\")"
   ]
  },
  {
   "cell_type": "markdown",
   "metadata": {},
   "source": [
    "## What I want to do\n",
    "- figure out how compression works\n",
    "- find out how to use indexing properly"
   ]
  },
  {
   "cell_type": "markdown",
   "metadata": {},
   "source": [
    "## Compression"
   ]
  },
  {
   "cell_type": "code",
   "execution_count": null,
   "metadata": {},
   "outputs": [],
   "source": [
    "path_name = \"/Users/jepe/scripting/cellpy/dev_data/speedtest2.hf5\""
   ]
  },
  {
   "cell_type": "code",
   "execution_count": null,
   "metadata": {},
   "outputs": [],
   "source": [
    "def save_and_read_them(\n",
    "    mode=None,\n",
    "    complevel=None,\n",
    "    complib=None,\n",
    "    fletcher32=False,\n",
    "    format=\"fixed\",\n",
    "    all=False,\n",
    "    dtable=None,\n",
    "):\n",
    "    # linking\n",
    "    t0 = time.time()\n",
    "    new_path = Path(path_name)\n",
    "    new_store = pd.HDFStore(\n",
    "        new_path,\n",
    "        mode=mode,\n",
    "        complevel=complevel,\n",
    "        complib=complib,\n",
    "        fletcher32=fletcher32,\n",
    "    )\n",
    "    t1 = time.time()\n",
    "    dt = t1 - t0\n",
    "\n",
    "    # putting\n",
    "    t0 = time.time()\n",
    "    if not dtable is None:\n",
    "        new_store.put(dataname, dtable, format=format)\n",
    "    else:\n",
    "        new_store.put(dataname, datatable, format=format)\n",
    "\n",
    "    if all:\n",
    "        new_store.put(fidname, fidtable, format=\"fixed\")\n",
    "        for name, table in zip(\n",
    "            [infoname, summaryname, stepname], [infotable, summarytable, steptable]\n",
    "        ):\n",
    "            try:\n",
    "                new_store.put(name, table, format=format)\n",
    "                # print(f\" -- stored {name}\")\n",
    "            except Exception as e:\n",
    "                print(f\" -- FAILED storing {name}\")\n",
    "                print(e)\n",
    "    new_store.close()\n",
    "    size = new_path.stat().st_size\n",
    "\n",
    "    t1 = time.time()\n",
    "    dt_save = t1 - t0\n",
    "\n",
    "    # opening\n",
    "    t0 = time.time()\n",
    "    new_path = Path(path_name)\n",
    "    new_store = pd.HDFStore(new_path)\n",
    "\n",
    "    # getting data\n",
    "    datatable2 = new_store.select(dataname)\n",
    "    if all:\n",
    "        fidtable2 = new_store.select(fidname)\n",
    "        infotable2 = new_store.select(infoname)\n",
    "        summarytable2 = new_store.select(summaryname)\n",
    "        steptable2 = new_store.select(stepname)\n",
    "\n",
    "    t1 = time.time()\n",
    "    dt_read = t1 - t0\n",
    "    new_store.close()\n",
    "    return dt_save, dt_read, size"
   ]
  },
  {
   "cell_type": "code",
   "execution_count": null,
   "metadata": {},
   "outputs": [],
   "source": [
    "collected_test = []\n",
    "m = \"w\"\n",
    "f = False\n",
    "form = \"table\"\n",
    "for clib in [\"zlib\", \"lzo\", \"bzip2\", \"blosc\"]:\n",
    "    for clevel in range(3):\n",
    "        dts, dtr, size = save_and_read_them(\n",
    "            mode=m,\n",
    "            complevel=clevel,\n",
    "            complib=\"zlib\",\n",
    "            fletcher32=f,\n",
    "            format=form,\n",
    "            all=False,\n",
    "        )\n",
    "        # print(f\"[cl = {clevel}] savetime: {dts*1000} ms - readtime: {dtr*1000} ms - size: {size}\")\n",
    "        collected_test.append(\n",
    "            [m, clib, clevel, f, dts * 1000, dtr * 1000, size / 1_048_576]\n",
    "        )\n",
    "results_only_data = pd.DataFrame(\n",
    "    collected_test,\n",
    "    columns=[\"mode\", \"clib\", \"clevel\", \"fle32\", \"savetime\", \"readtime\", \"filesize\"],\n",
    ")\n",
    "results_only_data"
   ]
  },
  {
   "cell_type": "code",
   "execution_count": null,
   "metadata": {},
   "outputs": [],
   "source": [
    "collected_test = []\n",
    "m = \"w\"\n",
    "f = False\n",
    "form = \"fixed\"\n",
    "for clib in [\"zlib\", \"lzo\", \"bzip2\", \"blosc\"]:\n",
    "    for clevel in range(3):\n",
    "        dts, dtr, size = save_and_read_them(\n",
    "            mode=m,\n",
    "            complevel=clevel,\n",
    "            complib=\"zlib\",\n",
    "            fletcher32=f,\n",
    "            format=form,\n",
    "            all=True,\n",
    "        )\n",
    "        # print(f\"[cl = {clevel}] savetime: {dts*1000} ms - readtime: {dtr*1000} ms - size: {size}\")\n",
    "        collected_test.append(\n",
    "            [m, clib, clevel, f, dts * 1000, dtr * 1000, size / 1_048_576]\n",
    "        )\n",
    "results_all_fixed = pd.DataFrame(\n",
    "    collected_test,\n",
    "    columns=[\"mode\", \"clib\", \"clevel\", \"fle32\", \"savetime\", \"readtime\", \"filesize\"],\n",
    ")\n",
    "results_all_fixed"
   ]
  },
  {
   "cell_type": "code",
   "execution_count": null,
   "metadata": {},
   "outputs": [],
   "source": [
    "collected_test = []\n",
    "m = \"w\"\n",
    "f = False\n",
    "form = \"table\"\n",
    "for clib in [\"zlib\", \"lzo\", \"bzip2\", \"blosc\"]:\n",
    "    for clevel in range(3):\n",
    "        dts, dtr, size = save_and_read_them(\n",
    "            mode=m,\n",
    "            complevel=clevel,\n",
    "            complib=\"zlib\",\n",
    "            fletcher32=f,\n",
    "            format=form,\n",
    "            all=True,\n",
    "        )\n",
    "        # print(f\"[cl = {clevel}] savetime: {dts*1000} ms - readtime: {dtr*1000} ms - size: {size}\")\n",
    "        collected_test.append(\n",
    "            [m, clib, clevel, f, dts * 1000, dtr * 1000, size / 1_048_576]\n",
    "        )\n",
    "results_all = pd.DataFrame(\n",
    "    collected_test,\n",
    "    columns=[\"mode\", \"clib\", \"clevel\", \"fle32\", \"savetime\", \"readtime\", \"filesize\"],\n",
    ")\n",
    "results_all"
   ]
  },
  {
   "cell_type": "markdown",
   "metadata": {},
   "source": [
    "### Summarizing compression tests\n",
    "\n",
    "Seems like the best option is\n",
    "- use zlib (default) compression library\n",
    "- use a comression level of 1\n",
    "- use 'table' format for data and possible for summary and step_table (but make sure to fixe the dtypes of step_table), and also possible infotable\n",
    "- use 'fixed' format for fidtable\n",
    "\n",
    "\n",
    "The most critical prm is read-spead. Then comes save spead. Another important prm is lookup-speed!"
   ]
  },
  {
   "cell_type": "markdown",
   "metadata": {},
   "source": [
    "## Look-up speed and indexing"
   ]
  },
  {
   "cell_type": "markdown",
   "metadata": {},
   "source": [
    "### First - influcence of save/read speed on indexing\n"
   ]
  },
  {
   "cell_type": "code",
   "execution_count": null,
   "metadata": {},
   "outputs": [],
   "source": [
    "datatable_not_indexed = datatable.copy()"
   ]
  },
  {
   "cell_type": "code",
   "execution_count": null,
   "metadata": {},
   "outputs": [],
   "source": [
    "datatable_indexed_point = datatable.copy()\n",
    "datatable_indexed_point = datatable_indexed_point.set_index(\"Data_Point\");"
   ]
  },
  {
   "cell_type": "code",
   "execution_count": null,
   "metadata": {},
   "outputs": [],
   "source": [
    "collected_test = []\n",
    "m = \"w\"\n",
    "f = False\n",
    "form = \"table\"\n",
    "for clib in [\"zlib\", \"lzo\", \"bzip2\", \"blosc\"]:\n",
    "    for clevel in range(3):\n",
    "        dts, dtr, size = save_and_read_them(\n",
    "            mode=m,\n",
    "            complevel=clevel,\n",
    "            complib=\"zlib\",\n",
    "            fletcher32=f,\n",
    "            format=form,\n",
    "            all=True,\n",
    "            dtable=datatable_not_indexed,\n",
    "        )\n",
    "        # print(f\"[cl = {clevel}] savetime: {dts*1000} ms - readtime: {dtr*1000} ms - size: {size}\")\n",
    "        collected_test.append(\n",
    "            [m, clib, clevel, f, dts * 1000, dtr * 1000, size / 1_048_576]\n",
    "        )\n",
    "results_all = pd.DataFrame(\n",
    "    collected_test,\n",
    "    columns=[\"mode\", \"clib\", \"clevel\", \"fle32\", \"savetime\", \"readtime\", \"filesize\"],\n",
    ")\n",
    "results_all"
   ]
  },
  {
   "cell_type": "code",
   "execution_count": null,
   "metadata": {},
   "outputs": [],
   "source": [
    "collected_test = []\n",
    "m = \"w\"\n",
    "f = False\n",
    "form = \"table\"\n",
    "for clib in [\"zlib\", \"lzo\", \"bzip2\", \"blosc\"]:\n",
    "    for clevel in range(3):\n",
    "        dts, dtr, size = save_and_read_them(\n",
    "            mode=m,\n",
    "            complevel=clevel,\n",
    "            complib=\"zlib\",\n",
    "            fletcher32=f,\n",
    "            format=form,\n",
    "            all=True,\n",
    "            dtable=datatable_indexed_point,\n",
    "        )\n",
    "        # print(f\"[cl = {clevel}] savetime: {dts*1000} ms - readtime: {dtr*1000} ms - size: {size}\")\n",
    "        collected_test.append(\n",
    "            [m, clib, clevel, f, dts * 1000, dtr * 1000, size / 1_048_576]\n",
    "        )\n",
    "results_all = pd.DataFrame(\n",
    "    collected_test,\n",
    "    columns=[\"mode\", \"clib\", \"clevel\", \"fle32\", \"savetime\", \"readtime\", \"filesize\"],\n",
    ")\n",
    "results_all"
   ]
  },
  {
   "cell_type": "markdown",
   "metadata": {},
   "source": [
    "did not see much difference here (a bit smaller, but that could be because we dropped one column)."
   ]
  },
  {
   "cell_type": "markdown",
   "metadata": {},
   "source": [
    "## Then lets see if we can get cycle data directly from the hdf5 file\n",
    "\n",
    "(but first, lets get to know the tables a little bit more)"
   ]
  },
  {
   "cell_type": "code",
   "execution_count": null,
   "metadata": {},
   "outputs": [],
   "source": [
    "infotable.cellpy_file_version.values[0]"
   ]
  },
  {
   "cell_type": "markdown",
   "metadata": {},
   "source": [
    "NOTICE: a trick to read prms and save them using pandas"
   ]
  },
  {
   "cell_type": "code",
   "execution_count": null,
   "metadata": {},
   "outputs": [],
   "source": [
    "infodict = infotable.T.to_dict()[0]\n",
    "new_infotable = pd.DataFrame(infodict, index=[0])"
   ]
  },
  {
   "cell_type": "code",
   "execution_count": null,
   "metadata": {},
   "outputs": [],
   "source": [
    "infodict"
   ]
  },
  {
   "cell_type": "code",
   "execution_count": null,
   "metadata": {},
   "outputs": [],
   "source": [
    "infotable"
   ]
  },
  {
   "cell_type": "code",
   "execution_count": null,
   "metadata": {},
   "outputs": [],
   "source": [
    "new_infotable"
   ]
  },
  {
   "cell_type": "code",
   "execution_count": null,
   "metadata": {},
   "outputs": [],
   "source": [
    "steptable.describe()"
   ]
  },
  {
   "cell_type": "markdown",
   "metadata": {},
   "source": [
    "**Oh no: datapoints are missing from the step table!!!!!!!**"
   ]
  },
  {
   "cell_type": "code",
   "execution_count": null,
   "metadata": {},
   "outputs": [],
   "source": []
  },
  {
   "cell_type": "code",
   "execution_count": null,
   "metadata": {},
   "outputs": [],
   "source": []
  },
  {
   "cell_type": "code",
   "execution_count": null,
   "metadata": {},
   "outputs": [],
   "source": []
  },
  {
   "cell_type": "code",
   "execution_count": null,
   "metadata": {},
   "outputs": [],
   "source": []
  },
  {
   "cell_type": "code",
   "execution_count": null,
   "metadata": {},
   "outputs": [],
   "source": []
  },
  {
   "cell_type": "markdown",
   "metadata": {},
   "source": [
    "# TODO´s\n",
    "1. Update the function that makes the step-table OK\n",
    " 1. Ensure correct dtypes\n",
    " 1. Add start and stop data-point numbers\n",
    "1. Make the `Data_Point` column the index for the dfdata DataFrame TOO MUCH WORK\n",
    "1. Save the data in hdf5-format using OK\n",
    " - `table` format\n",
    " - default complib\n",
    " - complevel of 1\n",
    "1. Use the \"trick\" explained (`infotable.T` etc) above for reading and saving prms from hdf5 using pandas DataFrames"
   ]
  },
  {
   "cell_type": "code",
   "execution_count": null,
   "metadata": {},
   "outputs": [],
   "source": []
  }
 ],
 "metadata": {
  "kernelspec": {
   "display_name": "cellpy",
   "language": "python",
   "name": "cellpy"
  },
  "language_info": {
   "codemirror_mode": {
    "name": "ipython",
    "version": 3
   },
   "file_extension": ".py",
   "mimetype": "text/x-python",
   "name": "python",
   "nbconvert_exporter": "python",
   "pygments_lexer": "ipython3",
   "version": "3.7.4"
  }
 },
 "nbformat": 4,
 "nbformat_minor": 4
}
