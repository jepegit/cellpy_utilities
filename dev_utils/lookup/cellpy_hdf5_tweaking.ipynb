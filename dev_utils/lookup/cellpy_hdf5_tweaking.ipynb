{
 "cells": [
  {
   "cell_type": "markdown",
   "metadata": {},
   "source": [
    "# Tweaking the cellpy file format"
   ]
  },
  {
   "cell_type": "markdown",
   "metadata": {},
   "source": [
    "A `cellpy` file is a `hdf5`-type file."
   ]
  },
  {
   "cell_type": "markdown",
   "metadata": {},
   "source": [
    "From v.5 it contains five top-level directories.\n",
    "\n",
    "\n",
    "```python\n",
    "\n",
    "# from cellreader.py\n",
    "raw_dir = prms._cellpyfile_raw\n",
    "step_dir = prms._cellpyfile_step\n",
    "summary_dir = prms._cellpyfile_summary\n",
    "meta_dir = \"/info\"  # hard-coded\n",
    "fid_dir = prms._cellpyfile_fid\n",
    "\n",
    "# from prms.py\n",
    "_cellpyfile_root = \"CellpyData\"\n",
    "_cellpyfile_raw = \"/raw\"\n",
    "_cellpyfile_step = \"/steps\"\n",
    "_cellpyfile_summary = \"/summary\"\n",
    "_cellpyfile_fid = \"/fid\"\n",
    "\n",
    "```\n"
   ]
  },
  {
   "cell_type": "code",
   "execution_count": null,
   "metadata": {},
   "outputs": [],
   "source": [
    "%load_ext autoreload\n",
    "%autoreload 2"
   ]
  },
  {
   "cell_type": "code",
   "execution_count": null,
   "metadata": {},
   "outputs": [],
   "source": [
    "from pathlib import Path\n",
    "from pprint import pprint\n",
    "\n",
    "import pandas as pd\n",
    "\n",
    "import cellpy"
   ]
  },
  {
   "cell_type": "markdown",
   "metadata": {},
   "source": [
    "## Creating a fresh file from a raw-file"
   ]
  },
  {
   "cell_type": "code",
   "execution_count": null,
   "metadata": {},
   "outputs": [],
   "source": [
    "create_cellpyfile = False\n",
    "filename_full = Path(\n",
    "    \"/Users/jepe/cellpy_data/cellpyfiles/20181026_cen31_03_GITT_cc_01.h5\"\n",
    ")\n",
    "filename_first = Path(\n",
    "    \"/Users/jepe/cellpy_data/cellpyfiles/20181026_cen31_03_GITT_cc_01_a.h5\"\n",
    ")\n",
    "rawfile_full = Path(\"/Users/jepe/cellpy_data/raw/20181026_cen31_03_GITT_cc_01.res\")\n",
    "rawfile_full2 = Path(\"/Users/jepe/cellpy_data/raw/20181026_cen31_03_GITT_cc_02.res\")"
   ]
  },
  {
   "cell_type": "code",
   "execution_count": null,
   "metadata": {},
   "outputs": [],
   "source": [
    "if create_cellpyfile:\n",
    "    print(\"--loading raw-file\".ljust(50, \"-\"))\n",
    "    c = cellpy.get(rawfile_full, mass=0.23)\n",
    "    print(\"--saving\".ljust(50, \"-\"))\n",
    "    c.save(filename_full)\n",
    "    print(\"--splitting\".ljust(50, \"-\"))\n",
    "    c1, c2 = c.split(4)\n",
    "    c1.save(filename_first)\n",
    "else:\n",
    "    print(\"--loading cellpy-files\".ljust(50, \"-\"))\n",
    "    c1 = cellpy.get(filename_first)\n",
    "    c = cellpy.get(filename_full)"
   ]
  },
  {
   "cell_type": "markdown",
   "metadata": {},
   "source": [
    "## Update with loadcell"
   ]
  },
  {
   "cell_type": "code",
   "execution_count": null,
   "metadata": {},
   "outputs": [],
   "source": [
    "cellpy.log.setup_logging(default_level=\"INFO\")\n",
    "raw_files = [rawfile_full, rawfile_full2]\n",
    "# raw_files = [rawfile_full2]\n",
    "cellpy_file = filename_full\n",
    "c = cellpy.cellreader.CellpyData().dev_update_loadcell(raw_files, cellpy_file)"
   ]
  },
  {
   "cell_type": "markdown",
   "metadata": {},
   "source": [
    "## Update with update"
   ]
  },
  {
   "cell_type": "code",
   "execution_count": null,
   "metadata": {},
   "outputs": [],
   "source": [
    "c1 = cellpy.get(filename_first, logging_mode=\"INFO\")\n",
    "c1.dev_update(rawfile_full)"
   ]
  },
  {
   "cell_type": "markdown",
   "metadata": {},
   "source": [
    "## Looking at `cellpy`´s internal parameter"
   ]
  },
  {
   "cell_type": "code",
   "execution_count": null,
   "metadata": {},
   "outputs": [],
   "source": [
    "from cellpy import prms"
   ]
  },
  {
   "cell_type": "code",
   "execution_count": null,
   "metadata": {},
   "outputs": [],
   "source": [
    "parent_level = prms._cellpyfile_root\n",
    "raw_dir = prms._cellpyfile_raw\n",
    "step_dir = prms._cellpyfile_step\n",
    "summary_dir = prms._cellpyfile_summary\n",
    "meta_dir = \"/info\"  # hard-coded\n",
    "fid_dir = prms._cellpyfile_fid"
   ]
  },
  {
   "cell_type": "code",
   "execution_count": null,
   "metadata": {},
   "outputs": [],
   "source": [
    "raw_dir"
   ]
  },
  {
   "cell_type": "code",
   "execution_count": null,
   "metadata": {},
   "outputs": [],
   "source": [
    "parent_level + raw_dir"
   ]
  },
  {
   "cell_type": "markdown",
   "metadata": {},
   "source": [
    "## Looking at a `cellpy` file using `pandas`"
   ]
  },
  {
   "cell_type": "code",
   "execution_count": null,
   "metadata": {},
   "outputs": [],
   "source": [
    "print(f\"name: {filename_full.name}\")\n",
    "print(f\"size: {filename_full.stat().st_size/1_048_576:0.2f} Mb\")"
   ]
  },
  {
   "cell_type": "code",
   "execution_count": null,
   "metadata": {},
   "outputs": [],
   "source": [
    "with pd.HDFStore(filename_full) as store:\n",
    "    pprint(store.keys())"
   ]
  },
  {
   "cell_type": "code",
   "execution_count": null,
   "metadata": {},
   "outputs": [],
   "source": [
    "store = pd.HDFStore(filename_full)"
   ]
  },
  {
   "cell_type": "code",
   "execution_count": null,
   "metadata": {},
   "outputs": [],
   "source": [
    "m = store.select(parent_level + meta_dir)\n",
    "s = store.select(parent_level + summary_dir)\n",
    "t = store.select(parent_level + step_dir)\n",
    "f = store.select(parent_level + fid_dir)"
   ]
  },
  {
   "cell_type": "code",
   "execution_count": null,
   "metadata": {},
   "outputs": [],
   "source": [
    "store.close()"
   ]
  },
  {
   "cell_type": "code",
   "execution_count": null,
   "metadata": {},
   "outputs": [],
   "source": [
    "f.T"
   ]
  },
  {
   "cell_type": "markdown",
   "metadata": {},
   "source": [
    "## Looking at a `cellpy` file using `cellpy`"
   ]
  },
  {
   "cell_type": "code",
   "execution_count": null,
   "metadata": {},
   "outputs": [],
   "source": []
  },
  {
   "cell_type": "code",
   "execution_count": null,
   "metadata": {},
   "outputs": [],
   "source": [
    "c = cellpy.get(filename_full)"
   ]
  },
  {
   "cell_type": "code",
   "execution_count": null,
   "metadata": {},
   "outputs": [],
   "source": [
    "cc = c.cell"
   ]
  },
  {
   "cell_type": "code",
   "execution_count": null,
   "metadata": {},
   "outputs": [],
   "source": [
    "fid = cc.raw_data_files[0]"
   ]
  },
  {
   "cell_type": "code",
   "execution_count": null,
   "metadata": {},
   "outputs": [],
   "source": [
    "fid.last_data_point  # This should be used when I will implement reading only new data"
   ]
  }
 ],
 "metadata": {
  "kernelspec": {
   "display_name": "cellpy",
   "language": "python",
   "name": "cellpy"
  },
  "language_info": {
   "codemirror_mode": {
    "name": "ipython",
    "version": 3
   },
   "file_extension": ".py",
   "mimetype": "text/x-python",
   "name": "python",
   "nbconvert_exporter": "python",
   "pygments_lexer": "ipython3",
   "version": "3.7.4"
  }
 },
 "nbformat": 4,
 "nbformat_minor": 4
}
