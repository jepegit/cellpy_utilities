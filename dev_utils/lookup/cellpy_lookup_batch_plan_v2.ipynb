{
 "cells": [
  {
   "cell_type": "markdown",
   "metadata": {},
   "source": [
    "## 0.1 Create or load a 'batch' file\n",
    "This is what I planned to call a `journal`. An example is `infotable`."
   ]
  },
  {
   "cell_type": "markdown",
   "metadata": {},
   "source": [
    "- `from_db`: create from database\n",
    "- `from_file`: load from file\n",
    "- `create`: make manually\n",
    "- `to_file`: save\n",
    "- `paginate`: create a suitable folder structure"
   ]
  },
  {
   "cell_type": "markdown",
   "metadata": {},
   "source": [
    "```python\n",
    "class BaseJournal:\n",
    "    \"\"\"A journal keeps track of the details of the experiment.\n",
    "\n",
    "    The journal should at a mimnimum contain information about the name and\n",
    "    project the experiment has.\"\"\"\n",
    "    \n",
    "    def __init__(self):\n",
    "        self.pages = None  # pandas.DataFrame\n",
    "        self.name = None\n",
    "        self.project = None\n",
    "        self.file_name = None\n",
    "        self.parameters = None # could be its own class or a dict\n",
    "\n",
    "    def from_db(self):\n",
    "        pass\n",
    "\n",
    "    def from_file(self, file_name):\n",
    "        pass\n",
    "\n",
    "    def to_file(self, file_name=None):\n",
    "        pass\n",
    "    \n",
    "    def paginate(self):\n",
    "        pass\n",
    "\n",
    "```"
   ]
  },
  {
   "cell_type": "markdown",
   "metadata": {},
   "source": [
    "### *-example session*"
   ]
  },
  {
   "cell_type": "markdown",
   "metadata": {},
   "source": [
    "```python\n",
    "experiment = CyclingExperiment()\n",
    "#----setting some prms------\n",
    "experiment.prms.Reader.some_parameter = True  # This will be valid globally\n",
    "# or\n",
    "cellpy.prms.Reader.some_parameter = True  # This will be valid globally\n",
    "# or\n",
    "experiment.dynamic_linking = True  # This is only valid for this instance\n",
    "\n",
    "#----generating the journal--\n",
    "experiment.journal.from_db(project=\"Nano\", name=\"exp001\", batch_col=5)\n",
    "```\n",
    "...\n",
    "```python\n",
    "print(experiment.journal)\n",
    "experiment.journal.pages.head(10)  # show first 10 rows of the pages DataFrame\n",
    "experiment.journal.to_file()\n",
    "```"
   ]
  },
  {
   "cell_type": "code",
   "execution_count": null,
   "metadata": {},
   "outputs": [],
   "source": []
  },
  {
   "cell_type": "markdown",
   "metadata": {},
   "source": [
    "## 0.2 Create appropriate cellpy-files\n",
    "This applies if they are not made already or if they need updating (*i.e.* could have a method / function for this, for example `.update(options)` or `cellpy.cellreader.update(journal)`)"
   ]
  },
  {
   "cell_type": "markdown",
   "metadata": {},
   "source": []
  },
  {
   "cell_type": "markdown",
   "metadata": {},
   "source": [
    "### *-example session continued*"
   ]
  },
  {
   "cell_type": "markdown",
   "metadata": {},
   "source": [
    "```python\n",
    "# checking if the cellpy-files exist and loading step tables\n",
    "experiment.link()\n",
    "# or just run an update anyway\n",
    "experiment.update()\n",
    "experiment.status()\n",
    "```"
   ]
  },
  {
   "cell_type": "code",
   "execution_count": null,
   "metadata": {},
   "outputs": [],
   "source": []
  },
  {
   "cell_type": "markdown",
   "metadata": {},
   "source": [
    "# 1. Examining the experiment"
   ]
  },
  {
   "cell_type": "markdown",
   "metadata": {},
   "source": [
    "## 1.1 Looking at the summaries"
   ]
  },
  {
   "cell_type": "markdown",
   "metadata": {},
   "source": [
    "### *-example session continued*\n",
    "(batch analysing)"
   ]
  },
  {
   "cell_type": "markdown",
   "metadata": {},
   "source": [
    "```python\n",
    "# forgotten what kind of analysers and engines this contains\n",
    "experiment.info()\n",
    "# journal:\n",
    "#   standard\n",
    "# ...\n",
    "ocv_analyser = OCVAnalyser(experiment)\n",
    "ocv_analyser.do()\n",
    "```"
   ]
  },
  {
   "cell_type": "markdown",
   "metadata": {},
   "source": [
    "(exploring)"
   ]
  },
  {
   "cell_type": "markdown",
   "metadata": {},
   "source": [
    "```python\n",
    "plotter = Plotter(experiment)\n",
    "plotter.do()\n",
    "\n",
    "from cellpy.batch.tools import get_cycles, get_ica, get_ocv_rlx, combine\n",
    "voltage_cycles = get_cycles(experiment.data, \"2018_very_good_cell_01\", (1,2,3), tidy=True)\n",
    "voltage_cycles.head()\n",
    "\n",
    "# or work directly on the cellpydata\n",
    "voltage_cycles = experiment.data[\"2018_very_good_cell_01\"].get_cap(cycles = (1,2,3))\n",
    "# etc.\n",
    "\n",
    "charge_cap_frame = combine(experiment, \"charge_capacity\")\n",
    "discharge_cap_frame = combine(experiment, \"discharge_capacity\")\n",
    "```"
   ]
  },
  {
   "cell_type": "code",
   "execution_count": null,
   "metadata": {},
   "outputs": [],
   "source": []
  },
  {
   "cell_type": "code",
   "execution_count": null,
   "metadata": {},
   "outputs": [],
   "source": []
  },
  {
   "cell_type": "code",
   "execution_count": null,
   "metadata": {},
   "outputs": [],
   "source": []
  },
  {
   "cell_type": "markdown",
   "metadata": {},
   "source": [
    "## 2.0 Exporting"
   ]
  },
  {
   "cell_type": "markdown",
   "metadata": {},
   "source": [
    "```python\n",
    "csv_exporter = CSVExporter(experiment)\n",
    "csv_exporter.do()\n",
    "```"
   ]
  },
  {
   "cell_type": "markdown",
   "metadata": {},
   "source": [
    "## 3.0 Reporting"
   ]
  },
  {
   "cell_type": "markdown",
   "metadata": {},
   "source": [
    "```python\n",
    "html_reporter = HTMLReporter(experiment)\n",
    "html_reporter.do()\n",
    "```"
   ]
  },
  {
   "cell_type": "markdown",
   "metadata": {},
   "source": []
  }
 ],
 "metadata": {
  "kernelspec": {
   "display_name": "Python3 (cellpy)",
   "language": "python",
   "name": "cellpy"
  },
  "language_info": {
   "codemirror_mode": {
    "name": "ipython",
    "version": 3
   },
   "file_extension": ".py",
   "mimetype": "text/x-python",
   "name": "python",
   "nbconvert_exporter": "python",
   "pygments_lexer": "ipython3",
   "version": "3.6.5"
  }
 },
 "nbformat": 4,
 "nbformat_minor": 2
}
