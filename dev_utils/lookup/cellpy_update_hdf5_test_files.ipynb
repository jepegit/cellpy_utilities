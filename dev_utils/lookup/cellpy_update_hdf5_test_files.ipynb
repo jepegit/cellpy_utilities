{
 "cells": [
  {
   "cell_type": "code",
   "execution_count": null,
   "metadata": {},
   "outputs": [],
   "source": [
    "%load_ext autoreload"
   ]
  },
  {
   "cell_type": "code",
   "execution_count": null,
   "metadata": {},
   "outputs": [],
   "source": [
    "%autoreload 2"
   ]
  },
  {
   "cell_type": "code",
   "execution_count": null,
   "metadata": {},
   "outputs": [],
   "source": [
    "import os\n",
    "import time\n",
    "from pathlib import Path\n",
    "import numpy as np\n",
    "import matplotlib.pyplot as plt\n",
    "import pandas as pd\n",
    "import cellpy\n",
    "from cellpy import cellreader\n",
    "\n",
    "%matplotlib inline"
   ]
  },
  {
   "cell_type": "code",
   "execution_count": null,
   "metadata": {},
   "outputs": [],
   "source": [
    "from cellpy import log\n",
    "\n",
    "log.setup_logging(default_level=\"INFO\", custom_log_dir=os.getcwd())"
   ]
  },
  {
   "cell_type": "code",
   "execution_count": null,
   "metadata": {},
   "outputs": [],
   "source": [
    "filename1 = Path(\"/Users/jepe/scripting/cellpy/testdata/hdf5/20160805_test001_47_cc.h5\")\n",
    "filename2 = Path(\"/Users/jepe/scripting/cellpy/testdata/hdf5/20160805_test001_45_cc.h5\")\n",
    "print(f\"size: {filename1.stat().st_size/1_048_576}\")\n",
    "print(f\"size: {filename2.stat().st_size/1_048_576}\")\n",
    "\n",
    "my_data1 = cellreader.CellpyData()\n",
    "my_data2 = cellreader.CellpyData()\n",
    "my_data1.load(filename1)\n",
    "my_data2.load(filename2)\n",
    "dataset1 = my_data1.dataset\n",
    "dataset2 = my_data2.dataset"
   ]
  },
  {
   "cell_type": "code",
   "execution_count": null,
   "metadata": {},
   "outputs": [],
   "source": [
    "my_data1.make_step_table()\n",
    "my_data2.make_step_table()"
   ]
  },
  {
   "cell_type": "code",
   "execution_count": null,
   "metadata": {},
   "outputs": [],
   "source": [
    "my_data1.make_summary()\n",
    "my_data2.make_summary()"
   ]
  },
  {
   "cell_type": "code",
   "execution_count": null,
   "metadata": {},
   "outputs": [],
   "source": [
    "my_data1.save(filename1)\n",
    "my_data2.save(filename2)"
   ]
  },
  {
   "cell_type": "code",
   "execution_count": null,
   "metadata": {},
   "outputs": [],
   "source": []
  }
 ],
 "metadata": {
  "kernelspec": {
   "display_name": "cellpy",
   "language": "python",
   "name": "cellpy"
  },
  "language_info": {
   "codemirror_mode": {
    "name": "ipython",
    "version": 3
   },
   "file_extension": ".py",
   "mimetype": "text/x-python",
   "name": "python",
   "nbconvert_exporter": "python",
   "pygments_lexer": "ipython3",
   "version": "3.7.4"
  }
 },
 "nbformat": 4,
 "nbformat_minor": 4
}
