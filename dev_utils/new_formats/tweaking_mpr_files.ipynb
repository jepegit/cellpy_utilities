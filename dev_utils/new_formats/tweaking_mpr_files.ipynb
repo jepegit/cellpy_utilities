{
 "cells": [
  {
   "cell_type": "code",
   "execution_count": null,
   "metadata": {},
   "outputs": [],
   "source": [
    "import os"
   ]
  },
  {
   "cell_type": "code",
   "execution_count": null,
   "metadata": {},
   "outputs": [],
   "source": [
    "print(os.getcwd())\n",
    "_rel = \"../tests\"\n",
    "os.listdir(_rel)\n",
    "import tests.fdv as fdv\n",
    "\n",
    "print(dir(fdv))\n",
    "\n",
    "print(os.path.isfile(fdv.cellpy_file_path))\n",
    "print(os.path.isfile(fdv.mpr_cellpy_file_path))"
   ]
  },
  {
   "cell_type": "code",
   "execution_count": null,
   "metadata": {},
   "outputs": [],
   "source": [
    "import logging\n",
    "from cellpy import log\n",
    "from cellpy import cellreader\n",
    "\n",
    "log.setup_logging(default_level=logging.DEBUG)\n",
    "cdata = cellreader.CellpyData()\n",
    "# cdata.load(fdv.mpr_cellpy_file_path)\n",
    "\n",
    "instrument = \"biologics_mpr\"\n",
    "cdata.set_instrument(instrument=instrument)\n",
    "cdata.from_raw(fdv.mpr_file_path)"
   ]
  },
  {
   "cell_type": "code",
   "execution_count": null,
   "metadata": {},
   "outputs": [],
   "source": [
    "%tb"
   ]
  },
  {
   "cell_type": "code",
   "execution_count": null,
   "metadata": {},
   "outputs": [],
   "source": []
  }
 ],
 "metadata": {
  "kernelspec": {
   "display_name": "Python [conda env:cellpy]",
   "language": "python",
   "name": "conda-env-cellpy-py"
  },
  "language_info": {
   "codemirror_mode": {
    "name": "ipython",
    "version": 3
   },
   "file_extension": ".py",
   "mimetype": "text/x-python",
   "name": "python",
   "nbconvert_exporter": "python",
   "pygments_lexer": "ipython3",
   "version": "3.6.5"
  }
 },
 "nbformat": 4,
 "nbformat_minor": 2
}
