{
 "cells": [
  {
   "cell_type": "markdown",
   "metadata": {},
   "source": [
    "# PEC"
   ]
  },
  {
   "cell_type": "code",
   "execution_count": null,
   "metadata": {},
   "outputs": [],
   "source": [
    "%load_ext autoreload\n",
    "%autoreload 2"
   ]
  },
  {
   "cell_type": "code",
   "execution_count": null,
   "metadata": {},
   "outputs": [],
   "source": [
    "from pathlib import Path\n",
    "import os\n",
    "\n",
    "import numpy as np\n",
    "import pandas as pd\n",
    "import matplotlib.pyplot as plt\n",
    "\n",
    "import cellpy"
   ]
  },
  {
   "cell_type": "code",
   "execution_count": null,
   "metadata": {},
   "outputs": [],
   "source": [
    "# C:\\scripts\\cellpy\\dev_data\\PEC\n",
    "filename = \"Test1058_2.csv\"\n",
    "raw_file_path = (Path(\"../../../../Eksempelfiler\") / filename).resolve()"
   ]
  },
  {
   "cell_type": "code",
   "execution_count": null,
   "metadata": {},
   "outputs": [],
   "source": [
    "raw_file_path.is_file()"
   ]
  },
  {
   "cell_type": "code",
   "execution_count": null,
   "metadata": {},
   "outputs": [],
   "source": [
    "pec = cellpy.get(\n",
    "    instrument=\"pec_csv\", filename=raw_file_path, cycle_mode=\"cathode\", mass=50_000\n",
    ")"
   ]
  },
  {
   "cell_type": "code",
   "execution_count": null,
   "metadata": {},
   "outputs": [],
   "source": [
    "import holoviews as hv\n",
    "\n",
    "hv.extension(\"bokeh\")"
   ]
  },
  {
   "cell_type": "code",
   "execution_count": null,
   "metadata": {},
   "outputs": [],
   "source": [
    "pec.get_cycle_numbers()"
   ]
  },
  {
   "cell_type": "code",
   "execution_count": null,
   "metadata": {},
   "outputs": [],
   "source": [
    "steptable = pec.cell.steps\n",
    "steptable.head(10)"
   ]
  },
  {
   "cell_type": "code",
   "execution_count": null,
   "metadata": {},
   "outputs": [],
   "source": [
    "summary = pec.cell.summary\n",
    "summary.head(5)"
   ]
  },
  {
   "cell_type": "code",
   "execution_count": null,
   "metadata": {},
   "outputs": [],
   "source": [
    "c, v = pec.get_dcap(3)"
   ]
  },
  {
   "cell_type": "code",
   "execution_count": null,
   "metadata": {},
   "outputs": [],
   "source": [
    "fig = plt.figure(figsize=(8, 5))\n",
    "curve1 = plt.scatter(c, v)  # hv.Scatter((c,v))\n",
    "plt.xlabel(\"Discharge capacity [mAh/g]\")\n",
    "plt.ylabel(\"Voltage [V]\")\n",
    "plt.show()\n",
    "# curve1"
   ]
  },
  {
   "cell_type": "code",
   "execution_count": null,
   "metadata": {},
   "outputs": [],
   "source": [
    "from cellpy import log\n",
    "\n",
    "log.setup_logging(default_level=\"DEBUG\")"
   ]
  },
  {
   "cell_type": "code",
   "execution_count": null,
   "metadata": {},
   "outputs": [],
   "source": [
    "from cellpy.utils import ica"
   ]
  },
  {
   "cell_type": "code",
   "execution_count": null,
   "metadata": {},
   "outputs": [],
   "source": [
    "dv1, dq1 = ica.dqdv(\n",
    "    v,\n",
    "    c,\n",
    ")"
   ]
  },
  {
   "cell_type": "code",
   "execution_count": null,
   "metadata": {},
   "outputs": [],
   "source": [
    "converter = ica.Converter()\n",
    "converter.pre_smoothing = False\n",
    "converter.post_smoothing = False\n",
    "converter.smoothing = False\n",
    "converter.normalise = True\n",
    "converter.voltage_fwhm = 0.01\n",
    "converter.max_points = 400\n",
    "converter.capacity_resolution = 5.0\n",
    "converter.voltage_resolution = 0.01\n",
    "converter.set_data(c, v)\n",
    "converter.inspect_data()\n",
    "converter.pre_process_data()\n",
    "converter.increment_data()\n",
    "converter.post_process_data()\n",
    "\n",
    "fig = plt.figure(figsize=(8, 5))\n",
    "curve00 = plt.plot(c, v, label=\"as is\")\n",
    "curve01 = plt.plot(\n",
    "    converter.capacity_preprocessed,\n",
    "    converter.voltage_preprocessed,\n",
    "    label=\"preprocessed\",\n",
    ")\n",
    "plt.xlabel(\"Discharge capacity [mAh/g]\")\n",
    "plt.ylabel(\"Voltage [V]\")\n",
    "plt.legend()\n",
    "plt.show()\n",
    "\n",
    "# curve00 = hv.Scatter((c, v), label=\"as is\").opts(width=800, height=500)\n",
    "# curve01 = hv.Scatter((converter.capacity_preprocessed, converter.voltage_preprocessed), label=\"preprocessed\").opts(width=800, height=500)\n",
    "# curve00 * curve01"
   ]
  },
  {
   "cell_type": "code",
   "execution_count": null,
   "metadata": {},
   "outputs": [],
   "source": [
    "print(len(converter._voltage_processed))\n",
    "print(len(converter._incremental_capacity))\n",
    "fig = plt.figure(figsize=(8, 5))\n",
    "curve1 = plt.plot(\n",
    "    dv1,\n",
    "    dq1,\n",
    "    label=\"as is\",\n",
    ")\n",
    "curve2 = plt.plot(\n",
    "    converter.voltage_processed, converter.incremental_capacity, label=\"new\"\n",
    ")\n",
    "curve3 = plt.plot(\n",
    "    converter._voltage_processed, converter._incremental_capacity, label=\"pre\"\n",
    ")\n",
    "curve4 = plt.plot(\n",
    "    converter.voltage_processed, converter._incremental_capacity, label=\"shifted\"\n",
    ")\n",
    "plt.xlabel(\"Voltage [V]\")\n",
    "plt.ylabel(\"dQdV [mAh/$g^{-1}V^{-1}$]\")\n",
    "plt.legend()\n",
    "plt.show()\n",
    "\n",
    "# curve1 = hv.Curve((dv1, dq1), label=\"as is\").opts(width=800, height=500)\n",
    "# curve2 = hv.Curve((converter.voltage_processed, converter.incremental_capacity), label=\"new\").opts(width=800, height=500)\n",
    "# curve3 = hv.Curve((converter._voltage_processed, converter._incremental_capacity), label=\"pre\").opts(width=800, height=500)\n",
    "# curve4 = hv.Curve((converter.voltage_processed, converter._incremental_capacity), label=\"shifted\").opts(width=800, height=500)\n",
    "# curve1 * curve2 * curve3 * curve4"
   ]
  },
  {
   "cell_type": "code",
   "execution_count": null,
   "metadata": {},
   "outputs": [],
   "source": [
    "dv1, dq1 = ica.dqdv(\n",
    "    v,\n",
    "    c,\n",
    "    voltage_fwhm=0.01,\n",
    ")\n",
    "\n",
    "\n",
    "dv2, dq2 = ica.dqdv(\n",
    "    v,\n",
    "    c,\n",
    "    voltage_fwhm=0.01,\n",
    "    max_points=200,\n",
    ")\n",
    "\n",
    "fig = plt.figure(figsize=(8, 5))\n",
    "curve2 = plt.plot(dv1, dq1, label=\"as is\")\n",
    "scatter2 = plt.plot(dv2, dq2, label=\"1000 points\")\n",
    "plt.xlabel(\"Voltage [V]\")\n",
    "plt.ylabel(\"dQdV [mAh/$g^{-1}V^{-1}$]\")\n",
    "plt.legend()\n",
    "plt.show()\n",
    "\n",
    "# curve2 = hv.Curve((dv1, dq1), label=\"as is\").opts(width=800, height=500)\n",
    "# scatter2 = hv.Curve((dv2, dq2), label=\"1000 points\").opts(width=800, height=500)\n",
    "# curve2 * scatter2"
   ]
  },
  {
   "cell_type": "code",
   "execution_count": null,
   "metadata": {},
   "outputs": [],
   "source": [
    "?ica.dqdv"
   ]
  },
  {
   "cell_type": "code",
   "execution_count": null,
   "metadata": {},
   "outputs": [],
   "source": []
  }
 ],
 "metadata": {
  "kernelspec": {
   "display_name": "cellpy",
   "language": "python",
   "name": "cellpy"
  },
  "language_info": {
   "codemirror_mode": {
    "name": "ipython",
    "version": 3
   },
   "file_extension": ".py",
   "mimetype": "text/x-python",
   "name": "python",
   "nbconvert_exporter": "python",
   "pygments_lexer": "ipython3",
   "version": "3.7.7"
  }
 },
 "nbformat": 4,
 "nbformat_minor": 4
}
