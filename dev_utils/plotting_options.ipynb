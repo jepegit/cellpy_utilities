{
 "cells": [
  {
   "cell_type": "markdown",
   "metadata": {},
   "source": [
    "# Plot alternatives for Batch"
   ]
  },
  {
   "cell_type": "code",
   "execution_count": null,
   "metadata": {},
   "outputs": [],
   "source": [
    "%load_ext autoreload\n",
    "%autoreload 2"
   ]
  },
  {
   "cell_type": "code",
   "execution_count": null,
   "metadata": {},
   "outputs": [],
   "source": [
    "import os\n",
    "\n",
    "import pandas as pd\n",
    "import numpy as np\n",
    "\n",
    "import holoviews as hv\n",
    "import hvplot.pandas"
   ]
  },
  {
   "cell_type": "code",
   "execution_count": null,
   "metadata": {},
   "outputs": [],
   "source": [
    "import cellpy"
   ]
  },
  {
   "cell_type": "code",
   "execution_count": null,
   "metadata": {},
   "outputs": [],
   "source": []
  },
  {
   "cell_type": "code",
   "execution_count": null,
   "metadata": {},
   "outputs": [],
   "source": [
    "hv.extension(\"bokeh\")\n",
    "pd.set_option(\"display.max_columns\", 500)"
   ]
  },
  {
   "cell_type": "code",
   "execution_count": null,
   "metadata": {},
   "outputs": [],
   "source": [
    "# only for my MacBook\n",
    "filename = \"../testdata/hdf5/20160805_test001_45_cc.h5\"\n",
    "assert os.path.isfile(filename)\n",
    "my_cell = cellpy.get(filename)"
   ]
  },
  {
   "cell_type": "markdown",
   "metadata": {},
   "source": [
    "## Plotting summaries"
   ]
  },
  {
   "cell_type": "code",
   "execution_count": null,
   "metadata": {},
   "outputs": [],
   "source": [
    "summary = my_cell.dataset.summary"
   ]
  },
  {
   "cell_type": "code",
   "execution_count": null,
   "metadata": {},
   "outputs": [],
   "source": [
    "x = \"Cycle_Index\"\n",
    "y = [\"Charge_Capacity(mAh/g)\", \"Discharge_Capacity(mAh/g)\"]\n",
    "\n",
    "(summary.hvplot(x, y, kind=\"scatter\") * summary.hvplot(x, y, kind=\"line\"))"
   ]
  },
  {
   "cell_type": "code",
   "execution_count": null,
   "metadata": {},
   "outputs": [],
   "source": []
  },
  {
   "cell_type": "code",
   "execution_count": null,
   "metadata": {},
   "outputs": [],
   "source": []
  },
  {
   "cell_type": "markdown",
   "metadata": {},
   "source": [
    "## Plotting raw data"
   ]
  },
  {
   "cell_type": "code",
   "execution_count": null,
   "metadata": {},
   "outputs": [],
   "source": [
    "raw = my_cell.dataset.raw"
   ]
  },
  {
   "cell_type": "code",
   "execution_count": null,
   "metadata": {},
   "outputs": [],
   "source": [
    "from holoviews import opts\n",
    "from holoviews.plotting.links import RangeToolLink\n",
    "\n",
    "\n",
    "def _rawplot(raw_curve, title=\"Voltage versus time\"):\n",
    "    tgt = raw_curve.relabel(title).opts(\n",
    "        width=800,\n",
    "        height=300,\n",
    "        labelled=[\"y\"],\n",
    "        # tools=[\"pan\",\"box_zoom\", \"reset\"],\n",
    "        active_tools=[\"pan\"],\n",
    "    )\n",
    "    src = raw_curve.opts(width=800, height=100, yaxis=None, default_tools=[])\n",
    "\n",
    "    RangeToolLink(src, tgt)\n",
    "\n",
    "    layout = (tgt + src).cols(1)\n",
    "    layout.opts(opts.Layout(shared_axes=False, merge_tools=False))\n",
    "    return layout"
   ]
  },
  {
   "cell_type": "code",
   "execution_count": null,
   "metadata": {},
   "outputs": [],
   "source": [
    "def rawplot(raw, y=(\"Voltage\", \"Voltage (V vs Li/Li+)\"), title=\"Voltage versus time\"):\n",
    "    raw[\"Test_Time_Hrs\"] = raw[\"Test_Time\"] / 3600\n",
    "    x = (\"Test_Time_Hrs\", \"Time (hours)\")\n",
    "    raw_curve = hv.Curve(\n",
    "        raw,\n",
    "        x,\n",
    "        y,\n",
    "    )\n",
    "    layout = _rawplot(raw_curve, title=title)\n",
    "    return layout"
   ]
  },
  {
   "cell_type": "code",
   "execution_count": null,
   "metadata": {},
   "outputs": [],
   "source": [
    "rawplot(raw, y=(\"Current\", \"current (A)\"), title=\"current\")"
   ]
  },
  {
   "cell_type": "code",
   "execution_count": null,
   "metadata": {},
   "outputs": [],
   "source": [
    "title = \"Voltage versus time\"\n",
    "\n",
    "raw[\"Test_Time_Hrs\"] = raw[\"Test_Time\"] / 3600\n",
    "x = (\"Test_Time_Hrs\", \"Time (hours)\")\n",
    "y1 = (\"Voltage\", \"Voltage (V vs Li/Li+)\")\n",
    "y2 = (\"Current\", \"Current (A)\")\n",
    "raw_curve1 = hv.Curve(raw, x, y1)\n",
    "raw_curve2 = hv.Curve(raw, x, y2)\n",
    "\n",
    "tgt1 = raw_curve1.relabel(title).opts(\n",
    "    width=800,\n",
    "    height=300,\n",
    "    labelled=[\"y\"],\n",
    "    # tools=[\"pan\",\"box_zoom\", \"reset\"],\n",
    "    active_tools=[\"pan\"],\n",
    ")\n",
    "\n",
    "tgt2 = raw_curve2.relabel(\"Current vs time\").opts(\n",
    "    width=800,\n",
    "    height=300,\n",
    "    labelled=[\"y\"],\n",
    ")\n",
    "\n",
    "src = raw_curve1.opts(width=800, height=100, yaxis=None, default_tools=[])\n",
    "\n",
    "RangeToolLink(src, tgt1)\n",
    "\n",
    "# funker ikke (?) å linke to figurer til samme \"rangetoolpanel\"\n",
    "linked = tgt1 + src\n",
    "linked.opts(opts.Layout(shared_axes=False, merge_tools=False))\n",
    "layout = (tgt2 + linked).cols(1)\n",
    "layout.opts(opts.Layout(shared_axes=True, merge_tools=False))"
   ]
  },
  {
   "cell_type": "code",
   "execution_count": null,
   "metadata": {},
   "outputs": [],
   "source": [
    "x = (\"Test_Time_Hrs\", \"Time (hours)\")\n",
    "layout_ex = [hv.Curve(raw, x, y) for y in [\"Voltage\", \"Current\"]]"
   ]
  },
  {
   "cell_type": "code",
   "execution_count": null,
   "metadata": {},
   "outputs": [],
   "source": [
    "vo1 = hv.Curve(raw, x, \"Voltage\", group=\"one\", label=\"1\")\n",
    "vo2 = hv.Curve(raw, x, \"Voltage\", group=\"one\", label=\"2\")\n",
    "vo3 = hv.Curve(raw, x, \"Current\", group=\"two\", label=\"3\")\n",
    "d1 = {\n",
    "    \"v1\": vo1,\n",
    "    \"v2\": vo2,\n",
    "    \"c1\": vo3,\n",
    "}"
   ]
  },
  {
   "cell_type": "code",
   "execution_count": null,
   "metadata": {},
   "outputs": [],
   "source": [
    "nn = hv.NdLayout(d1)\n",
    "nn.opts(opts.NdLayout(tabs=True, width=500))"
   ]
  },
  {
   "cell_type": "code",
   "execution_count": null,
   "metadata": {},
   "outputs": [],
   "source": [
    "ocv_up = my_cell.get_ocv(direction=\"up\")\n",
    "ocv_up.sample(5)\n",
    "\n",
    "ocv_up = ocv_up[ocv_up.Cycle_Index < 6]"
   ]
  },
  {
   "cell_type": "code",
   "execution_count": null,
   "metadata": {},
   "outputs": [],
   "source": [
    "ocv_ovrl = (\n",
    "    hv.Curve(\n",
    "        ocv_up,\n",
    "        kdims=[\"Step_Time\", \"Cycle_Index\"],\n",
    "        vdims=[\"Voltage\"],\n",
    "        label=\"cen59_01\",\n",
    "        group=\"background\",\n",
    "    )\n",
    "    .groupby(\"Cycle_Index\")\n",
    "    .overlay()\n",
    ")"
   ]
  },
  {
   "cell_type": "code",
   "execution_count": null,
   "metadata": {},
   "outputs": [],
   "source": [
    "ocv_hmap = hv.Curve(\n",
    "    ocv_up, kdims=[\"Step_Time\"], vdims=[\"Voltage\", \"Cycle_Index\"], label=\"cen59_01\"\n",
    ").groupby(\"Cycle_Index\")"
   ]
  },
  {
   "cell_type": "code",
   "execution_count": null,
   "metadata": {},
   "outputs": [],
   "source": [
    "hv.Layout(ocv_ovrl * ocv_hmap).opts(\n",
    "    opts.NdOverlay(show_legend=False),\n",
    "    opts.Curve(show_legend=False, width=600),\n",
    "    opts.Curve(\"background\", alpha=0.2),\n",
    "    opts.Layout(show_title=False, toolbar=\"right\"),\n",
    ")"
   ]
  },
  {
   "cell_type": "code",
   "execution_count": null,
   "metadata": {},
   "outputs": [],
   "source": [
    "%%opts Layout [tabs=True] Curve [width=800]\n",
    "newlayout = hv.Layout(vo1+vo2+vo3, )\n",
    "newlayout"
   ]
  },
  {
   "cell_type": "code",
   "execution_count": null,
   "metadata": {},
   "outputs": [],
   "source": []
  },
  {
   "cell_type": "code",
   "execution_count": null,
   "metadata": {},
   "outputs": [],
   "source": []
  }
 ],
 "metadata": {
  "kernelspec": {
   "display_name": "Python 3",
   "language": "python",
   "name": "python3"
  },
  "language_info": {
   "codemirror_mode": {
    "name": "ipython",
    "version": 3
   },
   "file_extension": ".py",
   "mimetype": "text/x-python",
   "name": "python",
   "nbconvert_exporter": "python",
   "pygments_lexer": "ipython3",
   "version": "3.7.4"
  }
 },
 "nbformat": 4,
 "nbformat_minor": 4
}
