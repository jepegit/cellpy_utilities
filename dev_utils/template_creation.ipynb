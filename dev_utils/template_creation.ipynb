{
 "cells": [
  {
   "cell_type": "markdown",
   "metadata": {},
   "source": [
    "# Creating templates"
   ]
  },
  {
   "cell_type": "markdown",
   "metadata": {},
   "source": [
    "## Programmatically creating new cells - first take\n",
    "Trying to use IPython functionallity to make new cells"
   ]
  },
  {
   "cell_type": "code",
   "execution_count": null,
   "metadata": {},
   "outputs": [],
   "source": [
    "import IPython"
   ]
  },
  {
   "cell_type": "code",
   "execution_count": null,
   "metadata": {},
   "outputs": [],
   "source": [
    "def create_new_cell(contents):\n",
    "    # https://stackoverflow.com/questions/54987129/\n",
    "    # how-to-programmatically-create-several-new-cells-in-a-jupyter-notebook\n",
    "\n",
    "    from IPython.core.getipython import get_ipython\n",
    "\n",
    "    shell = get_ipython()\n",
    "\n",
    "    payload = dict(\n",
    "        source=\"set_next_input\",\n",
    "        text=contents,\n",
    "        replace=False,\n",
    "    )\n",
    "    shell.payload_manager.write_payload(payload, single=False)"
   ]
  },
  {
   "cell_type": "code",
   "execution_count": null,
   "metadata": {},
   "outputs": [],
   "source": [
    "for j in range(3):\n",
    "    r = create_new_cell(f\"print('hello {j}')\")"
   ]
  },
  {
   "cell_type": "code",
   "execution_count": null,
   "metadata": {},
   "outputs": [],
   "source": [
    "shell = IPython.core.getipython.get_ipython()"
   ]
  },
  {
   "cell_type": "code",
   "execution_count": null,
   "metadata": {},
   "outputs": [],
   "source": [
    "shell.starting_dir"
   ]
  },
  {
   "cell_type": "code",
   "execution_count": null,
   "metadata": {},
   "outputs": [],
   "source": [
    "# %notebook \"new.ipynb\""
   ]
  },
  {
   "cell_type": "markdown",
   "metadata": {},
   "source": [
    "## Result:\n",
    "Works only within jupyter, not jupyterlab. However, it could be used for loading just a single cell."
   ]
  },
  {
   "cell_type": "markdown",
   "metadata": {},
   "source": [
    "## Testing PaperMill"
   ]
  },
  {
   "cell_type": "code",
   "execution_count": null,
   "metadata": {},
   "outputs": [],
   "source": [
    "in_nb = \"/users/jepe/scripting/cellpy/dev_utils/papermill/pm_input_test.ipynb\"\n",
    "out_nb = \"/users/jepe/scripting/cellpy/dev_utils/papermill/pm_output_test.ipynb\""
   ]
  },
  {
   "cell_type": "code",
   "execution_count": null,
   "metadata": {},
   "outputs": [],
   "source": [
    "import papermill as pm\n",
    "from pathlib import Path"
   ]
  },
  {
   "cell_type": "code",
   "execution_count": null,
   "metadata": {},
   "outputs": [],
   "source": [
    "def create_template(template_name, autorun=False):\n",
    "    datestamp = \"20190810\"\n",
    "    name = \"test\"\n",
    "    out_dir = \"/users/jepe/scripting/cellpy/dev_utils/papermill\"\n",
    "    in_nb = input_notebook(template_name)\n",
    "    out_nb = output_notebook(\n",
    "        template_name, out_dir=out_dir, datestamp=datestamp, name=name\n",
    "    )\n",
    "    print(in_nb)\n",
    "    print(out_nb)\n",
    "    nb_node = pm.execute_notebook(\n",
    "        str(in_nb.resolve()),\n",
    "        str(out_nb.resolve()),\n",
    "        prepare_only=not autorun,\n",
    "        parameters=dict(a=3, b=\"anna\"),\n",
    "    )\n",
    "\n",
    "    return nb_node"
   ]
  },
  {
   "cell_type": "code",
   "execution_count": null,
   "metadata": {},
   "outputs": [],
   "source": [
    "def output_notebook(template, out_dir=None, datestamp=\"20190810\", name=\"test\"):\n",
    "    if out_dir is None:\n",
    "        out_dir = Path()\n",
    "    fname = f\"{datestamp}_{name}_{template}.ipynb\"\n",
    "    path = Path(out_dir) / fname\n",
    "    return path"
   ]
  },
  {
   "cell_type": "code",
   "execution_count": null,
   "metadata": {},
   "outputs": [],
   "source": [
    "def input_notebook(template=\"pm_input_test\"):\n",
    "    in_dir = \"/users/jepe/scripting/cellpy/dev_utils/papermill\"\n",
    "    fname = f\"{template}.ipynb\"\n",
    "    path = Path(in_dir) / fname\n",
    "    return path"
   ]
  },
  {
   "cell_type": "code",
   "execution_count": null,
   "metadata": {},
   "outputs": [],
   "source": [
    "nb_node = create_template(\"pm_input_test\", autorun=False)"
   ]
  },
  {
   "cell_type": "markdown",
   "metadata": {},
   "source": [
    "## Conclussion\n",
    "This is promising"
   ]
  },
  {
   "cell_type": "code",
   "execution_count": null,
   "metadata": {},
   "outputs": [],
   "source": []
  }
 ],
 "metadata": {
  "kernelspec": {
   "display_name": "cellpy",
   "language": "python",
   "name": "cellpy"
  },
  "language_info": {
   "codemirror_mode": {
    "name": "ipython",
    "version": 3
   },
   "file_extension": ".py",
   "mimetype": "text/x-python",
   "name": "python",
   "nbconvert_exporter": "python",
   "pygments_lexer": "ipython3",
   "version": "3.7.3"
  }
 },
 "nbformat": 4,
 "nbformat_minor": 4
}
