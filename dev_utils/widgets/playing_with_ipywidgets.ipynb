{
 "cells": [
  {
   "cell_type": "code",
   "execution_count": 1,
   "metadata": {},
   "outputs": [],
   "source": [
    "import ipywidgets as widgets\n",
    "from IPython.display import display"
   ]
  },
  {
   "cell_type": "markdown",
   "metadata": {},
   "source": [
    "## Simple examples"
   ]
  },
  {
   "cell_type": "code",
   "execution_count": 2,
   "metadata": {},
   "outputs": [
    {
     "data": {
      "application/vnd.jupyter.widget-view+json": {
       "model_id": "bf438359543b4458b90d5c2a23ff9d4a",
       "version_major": 2,
       "version_minor": 0
      },
      "text/plain": [
       "VBox(children=(FloatSlider(value=4.0, description='$x$'), FloatText(value=16.0, description='$x^2$', disabled=…"
      ]
     },
     "metadata": {},
     "output_type": "display_data"
    }
   ],
   "source": [
    "slider = widgets.FloatSlider(description=\"$x$\", value=4)\n",
    "text = widgets.FloatText(disabled=True, value=slider.value ** 2, description=\"$x^2$\")\n",
    "\n",
    "\n",
    "def compute(*args):\n",
    "    text.value = str(slider.value ** 2)\n",
    "\n",
    "\n",
    "slider.observe(compute, \"value\")\n",
    "\n",
    "view = widgets.VBox([slider, text])\n",
    "display(view)"
   ]
  },
  {
   "cell_type": "code",
   "execution_count": 3,
   "metadata": {},
   "outputs": [
    {
     "data": {
      "application/vnd.jupyter.widget-view+json": {
       "model_id": "eee8eaf55aa54bb0aef461c16e44e172",
       "version_major": 2,
       "version_minor": 0
      },
      "text/plain": [
       "FloatText(value=0.0)"
      ]
     },
     "metadata": {},
     "output_type": "display_data"
    },
    {
     "data": {
      "application/vnd.jupyter.widget-view+json": {
       "model_id": "102d490a678c40398cacc68579dfc351",
       "version_major": 2,
       "version_minor": 0
      },
      "text/plain": [
       "FloatSlider(value=0.0)"
      ]
     },
     "metadata": {},
     "output_type": "display_data"
    }
   ],
   "source": [
    "a = widgets.FloatText()\n",
    "b = widgets.FloatSlider()\n",
    "\n",
    "display(a, b)\n",
    "mylink = widgets.jslink((a, \"value\"), (b, \"value\"))"
   ]
  },
  {
   "cell_type": "code",
   "execution_count": null,
   "metadata": {},
   "outputs": [],
   "source": [
    "# mylink.unlink()"
   ]
  },
  {
   "cell_type": "markdown",
   "metadata": {},
   "source": [
    "### Linking"
   ]
  },
  {
   "cell_type": "code",
   "execution_count": 4,
   "metadata": {},
   "outputs": [
    {
     "data": {
      "application/vnd.jupyter.widget-view+json": {
       "model_id": "67760dc504214206ba225a0614d91278",
       "version_major": 2,
       "version_minor": 0
      },
      "text/plain": [
       "HBox(children=(FloatSlider(value=47.2, continuous_update=False, description='Age of Paps:', orientation='verti…"
      ]
     },
     "metadata": {},
     "output_type": "display_data"
    }
   ],
   "source": [
    "fwidg_paps = widgets.FloatSlider(\n",
    "    value=47.2,\n",
    "    min=0,\n",
    "    max=100.0,\n",
    "    step=0.1,\n",
    "    description=\"Age of Paps:\",\n",
    "    disabled=False,\n",
    "    continuous_update=False,\n",
    "    orientation=\"vertical\",\n",
    "    readout=True,\n",
    "    readout_format=\".1f\",\n",
    ")\n",
    "\n",
    "fwidg_mams = widgets.FloatSlider(\n",
    "    value=fwidg_paps.value - 4,\n",
    "    min=0,\n",
    "    max=100.0,\n",
    "    step=0.1,\n",
    "    description=\"Age of Mams:\",\n",
    "    disabled=False,\n",
    "    continuous_update=True,\n",
    "    orientation=\"vertical\",\n",
    "    readout=True,\n",
    "    readout_format=\".1f\",\n",
    ")\n",
    "\n",
    "display(widgets.HBox([fwidg_paps, fwidg_mams]))\n",
    "\n",
    "\n",
    "def update_paps(*args):\n",
    "    fwidg_paps.value = fwidg_mams.value + 4\n",
    "\n",
    "\n",
    "def update_mams(*args):\n",
    "    fwidg_mams.value = fwidg_paps.value - 4\n",
    "\n",
    "\n",
    "fwidg_mams.observe(update_paps, \"value\")\n",
    "fwidg_paps.observe(update_mams, \"value\")\n",
    "\n",
    "# observe(func, attribute_name) means:\n",
    "# If I change, please run the function if the attrubute with\n",
    "#     name attribute_name is changed."
   ]
  },
  {
   "cell_type": "code",
   "execution_count": null,
   "metadata": {},
   "outputs": [],
   "source": []
  },
  {
   "cell_type": "code",
   "execution_count": null,
   "metadata": {},
   "outputs": [],
   "source": []
  },
  {
   "cell_type": "code",
   "execution_count": null,
   "metadata": {},
   "outputs": [],
   "source": [
    "widgets.FloatProgress(\n",
    "    value=7.5,\n",
    "    min=0,\n",
    "    max=10.0,\n",
    "    step=0.1,\n",
    "    description=\"Loading:\",\n",
    "    bar_style=\"info\",\n",
    "    orientation=\"horizontal\",\n",
    ")"
   ]
  },
  {
   "cell_type": "code",
   "execution_count": 6,
   "metadata": {},
   "outputs": [],
   "source": [
    "txt = widgets.Text()\n",
    "options = list(range(8))\n",
    "main_title = widgets.Label(\"Cycle selector\")\n",
    "description = widgets.Label(\"Select one\")\n",
    "sel = widgets.Select(\n",
    "    options=options,\n",
    "    value=options[0],\n",
    "    rows=10,\n",
    "    # description='Select one:',\n",
    "    disabled=False,\n",
    "    layout=widgets.Layout(width=\"5%\", height=\"120px\"),\n",
    ")\n",
    "\n",
    "\n",
    "def set_txt(*args):\n",
    "    txt.value = str(sel.value)\n",
    "\n",
    "\n",
    "sel.observe(set_txt, \"value\")\n",
    "\n",
    "row1 = widgets.VBox([main_title, txt])\n",
    "row2 = widgets.VBox([description, sel])\n",
    "# display(widgets.VBox([row1, row2]))"
   ]
  },
  {
   "cell_type": "markdown",
   "metadata": {},
   "source": [
    "### Multiselect cycles"
   ]
  },
  {
   "cell_type": "code",
   "execution_count": 11,
   "metadata": {},
   "outputs": [
    {
     "data": {
      "application/vnd.jupyter.widget-view+json": {
       "model_id": "44732cb7e7f74c0a9e74055cfbe7a12f",
       "version_major": 2,
       "version_minor": 0
      },
      "text/plain": [
       "VBox(children=(Text(value='(2, 3, 4, 5)'), SelectMultiple(index=(0,), layout=Layout(height='120px', width='3.2…"
      ]
     },
     "metadata": {},
     "output_type": "display_data"
    }
   ],
   "source": [
    "sel.keystxt = widgets.Text()\n",
    "options = list(range(100))\n",
    "sel = widgets.SelectMultiple(\n",
    "    options=options,\n",
    "    value=[options[0]],\n",
    "    rows=10,\n",
    "    # description='Select one:',\n",
    "    disabled=False,\n",
    "    layout=widgets.Layout(width=\"3.2em\", height=\"120px\"),\n",
    ")\n",
    "\n",
    "\n",
    "def set_txt(*args):\n",
    "    txt.value = str(sel.value)\n",
    "\n",
    "\n",
    "sel.observe(set_txt, \"value\")\n",
    "\n",
    "display(widgets.VBox([txt, sel]))"
   ]
  },
  {
   "cell_type": "code",
   "execution_count": null,
   "metadata": {},
   "outputs": [],
   "source": [
    "s = widgets.FileUpload(\n",
    "    accept=\".csv\",  # Accepted file extension e.g. '.txt', '.pdf', 'image/*', 'image/*,.pdf'\n",
    "    multiple=False,  # True to accept multiple files upload else False\n",
    ")\n",
    "display(s)"
   ]
  },
  {
   "cell_type": "code",
   "execution_count": null,
   "metadata": {},
   "outputs": [],
   "source": [
    "if s.value:\n",
    "    files = next(iter(s.value.values()))\n",
    "    meta = files[\"metadata\"]\n",
    "    name = meta[\"name\"]\n",
    "    label = widgets.Label(f\"got: {name}\")\n",
    "    txtarea = widgets.Textarea(\n",
    "        s.data[0], layout=widgets.Layout(width=\"50%\", height=\"130px\")\n",
    "    )\n",
    "    display(widgets.VBox([label, txtarea]))"
   ]
  },
  {
   "cell_type": "code",
   "execution_count": null,
   "metadata": {},
   "outputs": [],
   "source": [
    "from io import StringIO\n",
    "import pandas as pd\n",
    "\n",
    "raw = StringIO(str(s.data[0], \"utf-8\"))\n",
    "df = pd.read_csv(raw, sep=\";\")\n",
    "df.head()"
   ]
  },
  {
   "cell_type": "code",
   "execution_count": null,
   "metadata": {},
   "outputs": [],
   "source": []
  },
  {
   "cell_type": "code",
   "execution_count": null,
   "metadata": {},
   "outputs": [],
   "source": [
    "import markdown\n",
    "\n",
    "html = markdown.markdown(\"\"\"# Markdown\"\"\")\n",
    "widgets.HTML(\n",
    "    html,\n",
    ")"
   ]
  },
  {
   "cell_type": "code",
   "execution_count": null,
   "metadata": {},
   "outputs": [],
   "source": []
  },
  {
   "cell_type": "code",
   "execution_count": 12,
   "metadata": {},
   "outputs": [
    {
     "data": {
      "application/vnd.jupyter.widget-view+json": {
       "model_id": "afab65bfb26d4d6594101eb5ea0068cd",
       "version_major": 2,
       "version_minor": 0
      },
      "text/plain": [
       "Label(value='The values of slider1 and slider2 are synchronized')"
      ]
     },
     "metadata": {},
     "output_type": "display_data"
    },
    {
     "data": {
      "application/vnd.jupyter.widget-view+json": {
       "model_id": "1f8928f38f514c608173575ec3b73aac",
       "version_major": 2,
       "version_minor": 0
      },
      "text/plain": [
       "IntSlider(value=0, description='Slider 1')"
      ]
     },
     "metadata": {},
     "output_type": "display_data"
    },
    {
     "data": {
      "application/vnd.jupyter.widget-view+json": {
       "model_id": "c8b93dc6d65645b6a72edf660c51f918",
       "version_major": 2,
       "version_minor": 0
      },
      "text/plain": [
       "IntSlider(value=0, description='Slider 2')"
      ]
     },
     "metadata": {},
     "output_type": "display_data"
    }
   ],
   "source": [
    "caption = widgets.Label(value=\"The values of slider1 and slider2 are synchronized\")\n",
    "sliders1, slider2 = widgets.IntSlider(description=\"Slider 1\"), widgets.IntSlider(\n",
    "    description=\"Slider 2\"\n",
    ")\n",
    "l = widgets.link((sliders1, \"value\"), (slider2, \"value\"))\n",
    "display(caption, sliders1, slider2)"
   ]
  },
  {
   "cell_type": "markdown",
   "metadata": {},
   "source": [
    "## Threading"
   ]
  },
  {
   "cell_type": "code",
   "execution_count": null,
   "metadata": {},
   "outputs": [],
   "source": [
    "import threading\n",
    "from IPython.display import display\n",
    "import ipywidgets as widgets\n",
    "import time\n",
    "\n",
    "progress = widgets.FloatProgress(value=0.0, min=0.0, max=1.0)\n",
    "\n",
    "\n",
    "def work(progress):\n",
    "    total = 100\n",
    "    for i in range(total):\n",
    "        time.sleep(0.2)\n",
    "        progress.value = float(i + 1) / total\n",
    "\n",
    "\n",
    "thread = threading.Thread(target=work, args=(progress,))\n",
    "display(progress)\n",
    "thread.start()"
   ]
  },
  {
   "cell_type": "markdown",
   "metadata": {},
   "source": [
    "## Fitting"
   ]
  },
  {
   "cell_type": "code",
   "execution_count": 13,
   "metadata": {},
   "outputs": [],
   "source": [
    "import numpy as np"
   ]
  },
  {
   "cell_type": "code",
   "execution_count": 14,
   "metadata": {},
   "outputs": [],
   "source": [
    "from lmfit.models import LorentzianModel"
   ]
  },
  {
   "cell_type": "code",
   "execution_count": 15,
   "metadata": {},
   "outputs": [],
   "source": [
    "from scipy.stats import cauchy\n",
    "import matplotlib.pyplot as plt"
   ]
  },
  {
   "cell_type": "code",
   "execution_count": 16,
   "metadata": {},
   "outputs": [],
   "source": [
    "%matplotlib inline"
   ]
  },
  {
   "cell_type": "code",
   "execution_count": 17,
   "metadata": {},
   "outputs": [],
   "source": [
    "center = 10\n",
    "x = np.linspace(0.0, 2 * center, 100)\n",
    "err = (np.random.random(len(x)) - 0.5) / 30\n",
    "y = cauchy.pdf(x - center) + err"
   ]
  },
  {
   "cell_type": "code",
   "execution_count": 18,
   "metadata": {},
   "outputs": [
    {
     "data": {
      "text/plain": [
       "[<matplotlib.lines.Line2D at 0x1a2427f4d0>]"
      ]
     },
     "execution_count": 18,
     "metadata": {},
     "output_type": "execute_result"
    },
    {
     "data": {
      "image/png": "[encoded data removed]",
      "text/plain": [
       "<Figure size 432x288 with 1 Axes>"
      ]
     },
     "metadata": {
      "needs_background": "light"
     },
     "output_type": "display_data"
    }
   ],
   "source": [
    "plt.plot(x, y, \"o\")"
   ]
  },
  {
   "cell_type": "code",
   "execution_count": 19,
   "metadata": {},
   "outputs": [],
   "source": [
    "model = LorentzianModel()\n",
    "params = model.guess(y, x=x)"
   ]
  },
  {
   "cell_type": "code",
   "execution_count": 20,
   "metadata": {},
   "outputs": [
    {
     "data": {
      "text/html": [
       "<table><tr><th> name </th><th> value </th><th> initial value </th><th> min </th><th> max </th><th> vary </th><th> expression </th></tr><tr><td> amplitude </td><td>  1.25201263 </td><td> None </td><td>        -inf </td><td>         inf </td><td> True </td><td>  </td></tr><tr><td> center </td><td>  9.89898990 </td><td> None </td><td>        -inf </td><td>         inf </td><td> True </td><td>  </td></tr><tr><td> sigma </td><td>  1.01010101 </td><td> None </td><td>  0.00000000 </td><td>         inf </td><td> True </td><td>  </td></tr><tr><td> fwhm </td><td>  2.02020202 </td><td> None </td><td>        -inf </td><td>         inf </td><td> False </td><td> 2.0000000*sigma </td></tr><tr><td> height </td><td>  0.39454273 </td><td> None </td><td>        -inf </td><td>         inf </td><td> False </td><td> 0.3183099*amplitude/max(2.220446049250313e-16, sigma) </td></tr></table>"
      ],
      "text/plain": [
       "Parameters([('amplitude',\n",
       "             <Parameter 'amplitude', 1.2520126282600328, bounds=[-inf:inf]>),\n",
       "            ('center',\n",
       "             <Parameter 'center', 9.898989898989898, bounds=[-inf:inf]>),\n",
       "            ('sigma',\n",
       "             <Parameter 'sigma', 1.0101010101010095, bounds=[0.0:inf]>),\n",
       "            ('fwhm',\n",
       "             <Parameter 'fwhm', 2.020202020202019, bounds=[-inf:inf], expr='2.0000000*sigma'>),\n",
       "            ('height',\n",
       "             <Parameter 'height', 0.39454273435518655, bounds=[-inf:inf], expr='0.3183099*amplitude/max(2.220446049250313e-16, sigma)'>)])"
      ]
     },
     "execution_count": 20,
     "metadata": {},
     "output_type": "execute_result"
    }
   ],
   "source": [
    "params"
   ]
  },
  {
   "cell_type": "code",
   "execution_count": 21,
   "metadata": {},
   "outputs": [],
   "source": [
    "result = model.fit(y, params, x=x)"
   ]
  },
  {
   "cell_type": "code",
   "execution_count": 22,
   "metadata": {},
   "outputs": [
    {
     "data": {
      "text/plain": [
       "<matplotlib.axes._subplots.AxesSubplot at 0x1a2362c290>"
      ]
     },
     "execution_count": 22,
     "metadata": {},
     "output_type": "execute_result"
    },
    {
     "data": {
      "image/png": "[encoded data removed]",
      "text/plain": [
       "<Figure size 432x288 with 1 Axes>"
      ]
     },
     "metadata": {
      "needs_background": "light"
     },
     "output_type": "display_data"
    }
   ],
   "source": [
    "result.plot_fit()"
   ]
  },
  {
   "cell_type": "code",
   "execution_count": 23,
   "metadata": {},
   "outputs": [],
   "source": [
    "# create the model\n",
    "model = LorentzianModel(prefix=\"D\")\n",
    "\n",
    "# set initial values\n",
    "model.set_param_hint(\"Damplitude\", value=1.1, vary=True)\n",
    "model.set_param_hint(\"Dcenter\", value=7.01, vary=True)\n",
    "\n",
    "# get parameters to use in the model\n",
    "#   - by guessing\n",
    "params_guessed = model.guess(y, x=x)\n",
    "\n",
    "#   - as initial set\n",
    "params = model.make_params()"
   ]
  },
  {
   "cell_type": "code",
   "execution_count": 24,
   "metadata": {},
   "outputs": [
    {
     "data": {
      "text/html": [
       "<table><tr><th> name </th><th> value </th><th> initial value </th><th> min </th><th> max </th><th> vary </th><th> expression </th></tr><tr><td> Damplitude </td><td>  1.25201263 </td><td> None </td><td>        -inf </td><td>         inf </td><td> True </td><td>  </td></tr><tr><td> Dcenter </td><td>  9.89898990 </td><td> None </td><td>        -inf </td><td>         inf </td><td> True </td><td>  </td></tr><tr><td> Dsigma </td><td>  1.01010101 </td><td> None </td><td>  0.00000000 </td><td>         inf </td><td> True </td><td>  </td></tr><tr><td> Dfwhm </td><td>  2.02020202 </td><td> None </td><td>        -inf </td><td>         inf </td><td> False </td><td> 2.0000000*Dsigma </td></tr><tr><td> Dheight </td><td>  0.39454273 </td><td> None </td><td>        -inf </td><td>         inf </td><td> False </td><td> 0.3183099*Damplitude/max(2.220446049250313e-16, Dsigma) </td></tr></table>"
      ],
      "text/plain": [
       "Parameters([('Damplitude',\n",
       "             <Parameter 'Damplitude', 1.2520126282600328, bounds=[-inf:inf]>),\n",
       "            ('Dcenter',\n",
       "             <Parameter 'Dcenter', 9.898989898989898, bounds=[-inf:inf]>),\n",
       "            ('Dsigma',\n",
       "             <Parameter 'Dsigma', 1.0101010101010095, bounds=[0.0:inf]>),\n",
       "            ('Dfwhm',\n",
       "             <Parameter 'Dfwhm', 2.020202020202019, bounds=[-inf:inf], expr='2.0000000*Dsigma'>),\n",
       "            ('Dheight',\n",
       "             <Parameter 'Dheight', 0.39454273435518655, bounds=[-inf:inf], expr='0.3183099*Damplitude/max(2.220446049250313e-16, Dsigma)'>)])"
      ]
     },
     "execution_count": 24,
     "metadata": {},
     "output_type": "execute_result"
    }
   ],
   "source": [
    "params_guessed"
   ]
  },
  {
   "cell_type": "code",
   "execution_count": 25,
   "metadata": {},
   "outputs": [],
   "source": [
    "# set individual parameters\n",
    "params[\"Damplitude\"].value = 1"
   ]
  },
  {
   "cell_type": "code",
   "execution_count": 26,
   "metadata": {},
   "outputs": [],
   "source": [
    "# calculate the model using the initial values\n",
    "init_y = model.eval(params, x=x)\n",
    "\n",
    "# do a fit and retrieve the result\n",
    "result = model.fit(y, params, x=x)"
   ]
  },
  {
   "cell_type": "code",
   "execution_count": 173,
   "metadata": {},
   "outputs": [
    {
     "data": {
      "text/html": [
       "<h2> Model</h2> Model(lorentzian, prefix='D') <h2>Fit Statistics</h2><table><tr><td>fitting method</td><td>leastsq</td><td></td></tr><tr><td># function evals</td><td>39</td><td></td></tr><tr><td># data points</td><td>100</td><td></td></tr><tr><td># variables</td><td>3</td><td></td></tr><tr><td>chi-square</td><td> 0.00939004</td><td></td></tr><tr><td>reduced chi-square</td><td> 9.6805e-05</td><td></td></tr><tr><td>Akaike info crit.</td><td>-921.327625</td><td></td></tr><tr><td>Bayesian info crit.</td><td>-913.512114</td><td></td></tr></table><h2>Variables</h2><table><tr><th> name </th><th> value </th><th> standard error </th><th> relative error </th><th> initial value </th><th> min </th><th> max </th><th> vary </th><th> expression </th></tr><tr><td> Damplitude </td><td>  0.97386039 </td><td>  0.01557621 </td><td> (1.60%) </td><td> 1 </td><td>        -inf </td><td>         inf </td><td> True </td><td>  </td></tr><tr><td> Dcenter </td><td>  10.0018291 </td><td>  0.01571785 </td><td> (0.16%) </td><td> 7.01 </td><td>        -inf </td><td>         inf </td><td> True </td><td>  </td></tr><tr><td> Dsigma </td><td>  0.98423404 </td><td>  0.02226666 </td><td> (2.26%) </td><td> 1.0 </td><td>  0.00000000 </td><td>         inf </td><td> True </td><td>  </td></tr><tr><td> Dfwhm </td><td>  1.96846807 </td><td>  0.04453332 </td><td> (2.26%) </td><td> 2.0 </td><td>        -inf </td><td>         inf </td><td> False </td><td> 2.0000000*Dsigma </td></tr><tr><td> Dheight </td><td>  0.31495497 </td><td>  0.00503161 </td><td> (1.60%) </td><td> 0.3183099 </td><td>        -inf </td><td>         inf </td><td> False </td><td> 0.3183099*Damplitude/max(2.220446049250313e-16, Dsigma) </td></tr></table><h2>Correlations (unreported correlations are < 0.100)</h2><table><tr><td>Damplitude</td><td>Dsigma</td><td>0.7081</td></tr></table>"
      ],
      "text/plain": [
       "<lmfit.model.ModelResult at 0x1a24925950>"
      ]
     },
     "execution_count": 173,
     "metadata": {},
     "output_type": "execute_result"
    }
   ],
   "source": [
    "result"
   ]
  },
  {
   "cell_type": "code",
   "execution_count": 27,
   "metadata": {},
   "outputs": [],
   "source": [
    "# get the fitted parameters\n",
    "new_params = result.params\n",
    "\n",
    "# get goodness of fit\n",
    "gof = result.chisqr\n",
    "\n",
    "# calculate the model using fitted values\n",
    "#  (can probably also be done using model.eval(new_params, x=x))\n",
    "comps = result.eval_components()"
   ]
  },
  {
   "cell_type": "code",
   "execution_count": 28,
   "metadata": {},
   "outputs": [
    {
     "name": "stdout",
     "output_type": "stream",
     "text": [
      "Xhi**2: 0.009\n"
     ]
    }
   ],
   "source": [
    "print(f\"Xhi**2: {gof:0.3f}\")"
   ]
  },
  {
   "cell_type": "code",
   "execution_count": 29,
   "metadata": {},
   "outputs": [
    {
     "data": {
      "text/plain": [
       "<matplotlib.legend.Legend at 0x1a24883050>"
      ]
     },
     "execution_count": 29,
     "metadata": {},
     "output_type": "execute_result"
    },
    {
     "data": {
      "image/png": "[encoded data removed]",
      "text/plain": [
       "<Figure size 432x288 with 1 Axes>"
      ]
     },
     "metadata": {
      "needs_background": "light"
     },
     "output_type": "display_data"
    }
   ],
   "source": [
    "fig, ax = plt.subplots()\n",
    "ax.plot(x, y, \"o\", label=\"raw\")\n",
    "ax.plot(x, init_y, label=\"init\")\n",
    "for k, c in comps.items():\n",
    "    ax.plot(x, c, label=k)\n",
    "ax.legend()"
   ]
  },
  {
   "cell_type": "markdown",
   "metadata": {},
   "source": [
    "### Interactive fitter"
   ]
  },
  {
   "cell_type": "code",
   "execution_count": 544,
   "metadata": {},
   "outputs": [
    {
     "name": "stdout",
     "output_type": "stream",
     "text": [
      "Name          Value      Min      Max   Stderr     Vary     Expr Brute_Step\n",
      "amplitude         1     -inf      inf     None     True     None     None\n",
      "center            8        2       12     None     True     None     None\n",
      "fwhm              2     -inf      inf     None    False 2.0000000*sigma     None\n",
      "height       0.3183     -inf      inf     None    False 0.3183099*amplitude/max(2.220446049250313e-16, sigma)     None\n",
      "sigma             1        0      inf     None     True     None     None\n",
      "center\n",
      "<Parameter 'center', 8.0, bounds=[2.0:12.0]>\n"
     ]
    }
   ],
   "source": [
    "class CustomWidget(widgets.VBox):\n",
    "    def __init__(\n",
    "        self,\n",
    "        parameter,\n",
    "        name=None,\n",
    "        value=None,\n",
    "        minimum=None,\n",
    "        maximum=None,\n",
    "        vary=None,\n",
    "        expression=None,\n",
    "        minimum_span=None,\n",
    "        layout=None,\n",
    "    ):\n",
    "        if name is None:\n",
    "            name = parameter.name\n",
    "        parameter.name = name\n",
    "\n",
    "        if value is None:\n",
    "            value = parameter.value or 0.0\n",
    "        parameter.value = value\n",
    "\n",
    "        if minimum is None:\n",
    "            if parameter.min is not None and parameter.min != -np.inf:\n",
    "                minimum = parameter.min\n",
    "            else:\n",
    "                minimum = value - 1.0\n",
    "        parameter.min = minimum\n",
    "\n",
    "        if maximum is None:\n",
    "            if parameter.max is not None and parameter.max != np.inf:\n",
    "                maximum = parameter.max\n",
    "            else:\n",
    "                maximum = value + 1.0\n",
    "        parameter.max = maximum\n",
    "\n",
    "        if vary is None:\n",
    "            vary = parameter.vary\n",
    "        parameter.vary = vary\n",
    "\n",
    "        if expression is None:\n",
    "            expression = parameter.expr\n",
    "        parameter.expr = expression\n",
    "\n",
    "        self.parameter = parameter\n",
    "        self.min_span = minimum_span\n",
    "        self.name = name\n",
    "        self.parameter = parameter\n",
    "        self.w_name = widgets.Label(f\"Parameter: {name}\")\n",
    "        self.w_value = widgets.FloatSlider(\n",
    "            value=value,\n",
    "            min=minimum,\n",
    "            max=maximum,\n",
    "            continuous_update=False,\n",
    "            # description=\"VALUE\",\n",
    "        )\n",
    "\n",
    "        self.w_min = widgets.FloatText(\n",
    "            value=minimum,\n",
    "            # description=\"MIN\",\n",
    "            continuous_update=False,\n",
    "            layout=widgets.Layout(width=\"3.8em\"),\n",
    "        )\n",
    "        self.w_max = widgets.FloatText(\n",
    "            value=maximum,\n",
    "            # description=\"MAX\",\n",
    "            continuous_update=False,\n",
    "            layout=widgets.Layout(width=\"3.8em\"),\n",
    "        )\n",
    "\n",
    "        self.w_vary = widgets.Checkbox(value=vary, description=\"VARY\")\n",
    "\n",
    "        if expression:\n",
    "            self.w_expression = widgets.Text(value=expression, description=\"EXPR.\")\n",
    "\n",
    "        if layout:\n",
    "            super(CustomWidget, self).__init__(layout=layout)\n",
    "        else:\n",
    "            super(CustomWidget, self).__init__()\n",
    "\n",
    "        # make sure limits are set OK\n",
    "        self.w_min.observe(self._update_value, \"value\")\n",
    "        self.w_max.observe(self._update_value, \"value\")\n",
    "\n",
    "        # update the parameter when updating widgets (not sure how to ensure correct order)\n",
    "        self.w_value.observe(self.update_parameter, \"value\")\n",
    "        self.w_min.observe(self.update_parameter, \"value\")\n",
    "        self.w_max.observe(self.update_parameter, \"value\")\n",
    "        self.w_vary.observe(self.update_parameter, \"value\")\n",
    "\n",
    "        self.b_value = widgets.HBox([self.w_min, self.w_value, self.w_max])\n",
    "\n",
    "        self.children = [\n",
    "            self.w_name,\n",
    "            self.b_value,\n",
    "            self.w_vary,\n",
    "        ]\n",
    "        if expression:\n",
    "            self.children.append(self.w_expression)\n",
    "\n",
    "    def __str__(self):\n",
    "        return str(self.parameter)\n",
    "\n",
    "    def _lookup(self, obj, prm, attr=\"value\", on=\"value\"):\n",
    "        if self.parameter is None:\n",
    "            print(\"ERROR! NO PRM DEFINED!\")\n",
    "        v = getattr(prm, attr)\n",
    "        if (v != np.inf and v != -np.inf) and isinstance(v, (float, int)):\n",
    "            setattr(obj, on, v)\n",
    "\n",
    "    def update_widget(self):\n",
    "        self._lookup(self.w_value, self.parameter, \"value\", \"value\")\n",
    "        self._lookup(self.w_value, self.parameter, \"min\", \"min\")\n",
    "        self._lookup(self.w_value, self.parameter, \"max\", \"max\")\n",
    "        self._lookup(self.w_vary, self.parameter, \"vary\", \"value\")\n",
    "        self._lookup(self.w_min, self.parameter, \"min\", \"value\")\n",
    "        self._lookup(self.w_max, self.parameter, \"max\", \"value\")\n",
    "\n",
    "    def update_parameter(self, *args):\n",
    "        self.parameter.value = self.w_value.value\n",
    "        self.parameter.min = self.w_value.min\n",
    "        self.parameter.max = self.w_value.max\n",
    "        self.parameter.vary = self.w_vary.value\n",
    "        # expression not included\n",
    "\n",
    "    def _update_value(self, *args):\n",
    "\n",
    "        if self.w_max.value <= self.w_min.value:\n",
    "            self.w_max.value = self.w_min.value + self.min_span\n",
    "            # self.w_value.value = self.w_min.value\n",
    "\n",
    "        if self.w_value.value <= self.w_min.value:\n",
    "            self.w_value.value = self.w_min.value\n",
    "\n",
    "        if self.w_value.value >= self.w_max.value:\n",
    "            self.w_value.value = self.w_max.value\n",
    "\n",
    "        self.w_value.min = self.w_min.value\n",
    "        self.w_value.max = self.w_max.value\n",
    "\n",
    "        span = self.w_value.max - self.w_value.min\n",
    "        self.w_value.step = span / 20\n",
    "\n",
    "\n",
    "model = LorentzianModel()\n",
    "prm_name = \"center\"\n",
    "params = model.make_params()\n",
    "params[prm_name].max = 12.0\n",
    "params[prm_name].min = 2.0\n",
    "params[prm_name].value = 8.0\n",
    "params.pretty_print()\n",
    "c = CustomWidget(parameter=params[prm_name], minimum_span=0.2)\n",
    "print(c.name)\n",
    "print(c)"
   ]
  },
  {
   "cell_type": "code",
   "execution_count": 549,
   "metadata": {},
   "outputs": [],
   "source": [
    "model = LorentzianModel()\n",
    "prm_name = \"center\"\n",
    "params = model.make_params()\n",
    "params[prm_name].max = 12.0\n",
    "params[prm_name].min = 2.0\n",
    "params[prm_name].value = 8.0\n",
    "c = CustomWidget(parameter=params[prm_name], value=4.2, minimum_span=0.2)"
   ]
  },
  {
   "cell_type": "code",
   "execution_count": 550,
   "metadata": {},
   "outputs": [
    {
     "name": "stdout",
     "output_type": "stream",
     "text": [
      "<Parameter 'center', 4.2, bounds=[2.0:12.0]>\n"
     ]
    }
   ],
   "source": [
    "print(c)"
   ]
  },
  {
   "cell_type": "code",
   "execution_count": 551,
   "metadata": {},
   "outputs": [
    {
     "data": {
      "application/vnd.jupyter.widget-view+json": {
       "model_id": "2693d16f96c04e00b0faaa071e6c60b5",
       "version_major": 2,
       "version_minor": 0
      },
      "text/plain": [
       "CustomWidget(children=(Label(value='Parameter: center'), HBox(children=(FloatText(value=2.0, layout=Layout(wid…"
      ]
     },
     "metadata": {},
     "output_type": "display_data"
    }
   ],
   "source": [
    "display(c)"
   ]
  },
  {
   "cell_type": "code",
   "execution_count": 552,
   "metadata": {},
   "outputs": [
    {
     "name": "stdout",
     "output_type": "stream",
     "text": [
      "h\n"
     ]
    }
   ],
   "source": [
    "if params[\"height\"].expr:\n",
    "    print(\"h\")"
   ]
  },
  {
   "cell_type": "code",
   "execution_count": 553,
   "metadata": {},
   "outputs": [
    {
     "name": "stdout",
     "output_type": "stream",
     "text": [
      "Name          Value      Min      Max   Stderr     Vary     Expr Brute_Step\n",
      "amplitude         1     -inf      inf     None     True     None     None\n",
      "center          4.2        2       12     None     True     None     None\n",
      "fwhm              2     -inf      inf     None    False 2.0000000*sigma     None\n",
      "height       0.3183     -inf      inf     None    False 0.3183099*amplitude/max(2.220446049250313e-16, sigma)     None\n",
      "sigma             1        0      inf     None     True     None     None\n"
     ]
    }
   ],
   "source": [
    "params.pretty_print()"
   ]
  },
  {
   "cell_type": "code",
   "execution_count": 554,
   "metadata": {},
   "outputs": [
    {
     "data": {
      "text/plain": [
       "['amplitude', 'center', 'sigma']"
      ]
     },
     "execution_count": 554,
     "metadata": {},
     "output_type": "execute_result"
    }
   ],
   "source": [
    "[k for k in params.keys() if not params[k].expr]"
   ]
  },
  {
   "cell_type": "code",
   "execution_count": 567,
   "metadata": {},
   "outputs": [],
   "source": [
    "model = LorentzianModel()\n",
    "x = x\n",
    "y_obs = y\n",
    "\n",
    "try:\n",
    "    params = model.guess(y_obs, x=x)\n",
    "except:\n",
    "    params = model.make_params()  # used for internal updating of calculated prms\n",
    "    # init params\n",
    "    params[\"center\"].value = 8.0\n",
    "    params[\"center\"].min = 0.1\n",
    "    params[\"center\"].max = 12.0\n",
    "\n",
    "    params[\"sigma\"].value = 0.5\n",
    "    params[\"sigma\"].min = 0.001\n",
    "\n",
    "parameter_names = [k for k in params.keys() if not params[k].expr]\n",
    "parameter_widgets = {}\n",
    "\n",
    "plot_output = widgets.Output()\n",
    "log_output = widgets.Output()\n",
    "\n",
    "guess_button = widgets.Button(description=\"Guess\")\n",
    "fit_button = widgets.Button(description=\"Fit\")\n",
    "clear_button = widgets.Button(description=\"Clear\")\n",
    "\n",
    "buttons = widgets.HBox([guess_button, fit_button, clear_button])\n",
    "\n",
    "for n in parameter_names:\n",
    "    parameter_widgets[n] = CustomWidget(parameter=params[n], minimum_span=0.2)\n",
    "\n",
    "\n",
    "def create_plot(y_obs, y_calc, y_err=None):\n",
    "    # with log_output:\n",
    "    # print(\"creating plot\")\n",
    "    fig, ax = plt.subplots()\n",
    "    ax.plot(x, y_obs, \"o\", label=\"raw\")\n",
    "    ax.plot(x, y_calc, label=\"init\")\n",
    "    if y_err is not None:\n",
    "        ax.plot(x, y_err, label=\"err\")\n",
    "    plt.show()\n",
    "\n",
    "\n",
    "def set_params(new_params):\n",
    "    with log_output:\n",
    "        # print(\"Setting new params\")\n",
    "        for k in params.keys():\n",
    "            # print(k)\n",
    "            if k in parameter_names:\n",
    "                parameter_widgets[k].parameter = new_params[k]\n",
    "                # print(f\"   - updated widget: {k}\")\n",
    "\n",
    "            params[k] = new_params[k]\n",
    "            # print(new_params[k])\n",
    "\n",
    "\n",
    "def update_params(change):\n",
    "    for c in parameter_widgets.values():\n",
    "        c.update_parameter()\n",
    "\n",
    "\n",
    "def update_plot(change):\n",
    "    plot_output.clear_output(wait=True)\n",
    "    y_calc = model.eval(params, x=x)\n",
    "    with plot_output:\n",
    "        create_plot(y_obs, y_calc)\n",
    "\n",
    "\n",
    "def _lookup(obj, prm, attr=\"value\", on=\"value\"):\n",
    "    v = getattr(prm, attr)\n",
    "    if (v != np.inf and v != -np.inf) and isinstance(v, (float, int)):\n",
    "        setattr(obj, on, v)\n",
    "\n",
    "\n",
    "def update_widgets():\n",
    "    for c in parameter_widgets.values():\n",
    "        c.update_widget()\n",
    "\n",
    "\n",
    "def on_guess(b):\n",
    "    log_output.clear_output()\n",
    "    set_params(model.guess(y, x=x))\n",
    "    update_widgets()\n",
    "    with log_output:\n",
    "        print(\" [guessing] \".center(20, \"-\"))\n",
    "        params.pretty_print()\n",
    "        print(\" [finished] \".center(20, \"-\"))\n",
    "\n",
    "\n",
    "def on_fit(b):\n",
    "    log_output.clear_output()\n",
    "    result = model.fit(y_obs, params, x=x)\n",
    "    new_params = result.params\n",
    "    set_params(new_params)\n",
    "    update_widgets()\n",
    "    with log_output:\n",
    "        print(\" [fitting] \".center(20, \"=\"))\n",
    "        display(result)\n",
    "        print(\" [finished] \".center(20, \"=\"))\n",
    "\n",
    "\n",
    "def on_clear(b):\n",
    "    log_output.clear_output()\n",
    "\n",
    "\n",
    "list_of_widgets = []\n",
    "for k in parameter_widgets.keys():\n",
    "    parameter_widgets[k].w_value.observe(update_plot, \"value\")\n",
    "    list_of_widgets.append(parameter_widgets[k])\n",
    "\n",
    "guess_button.on_click(on_guess)\n",
    "fit_button.on_click(on_fit)\n",
    "clear_button.on_click(on_clear)\n",
    "\n",
    "prm_widgets = widgets.VBox(list_of_widgets)\n",
    "\n",
    "out = widgets.VBox([prm_widgets, plot_output, buttons, log_output])\n",
    "\n",
    "update_params(None)\n",
    "update_plot(None)"
   ]
  },
  {
   "cell_type": "code",
   "execution_count": 568,
   "metadata": {},
   "outputs": [
    {
     "data": {
      "application/vnd.jupyter.widget-view+json": {
       "model_id": "f8a4cada2ac042ed82eadcbd0c0bf6d0",
       "version_major": 2,
       "version_minor": 0
      },
      "text/plain": [
       "VBox(children=(VBox(children=(CustomWidget(children=(Label(value='Parameter: amplitude'), HBox(children=(Float…"
      ]
     },
     "metadata": {},
     "output_type": "display_data"
    }
   ],
   "source": [
    "out"
   ]
  },
  {
   "cell_type": "code",
   "execution_count": null,
   "metadata": {},
   "outputs": [],
   "source": []
  },
  {
   "cell_type": "code",
   "execution_count": null,
   "metadata": {},
   "outputs": [],
   "source": []
  }
 ],
 "metadata": {
  "kernelspec": {
   "display_name": "cellpy",
   "language": "python",
   "name": "cellpy"
  },
  "language_info": {
   "codemirror_mode": {
    "name": "ipython",
    "version": 3
   },
   "file_extension": ".py",
   "mimetype": "text/x-python",
   "name": "python",
   "nbconvert_exporter": "python",
   "pygments_lexer": "ipython3",
   "version": "3.7.4"
  }
 },
 "nbformat": 4,
 "nbformat_minor": 4
}
